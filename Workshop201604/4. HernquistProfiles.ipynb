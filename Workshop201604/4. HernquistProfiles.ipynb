{
 "cells": [
  {
   "cell_type": "markdown",
   "metadata": {},
   "source": [
    "# \"FileDB\": Querying Millennium Run particles\n",
    "### Find stratified random sample of dark matter halos in Millennium Simulation <br/>Calculate density profiles (in SQL)<br/>Fit to Hernquist profile<br/>Show fits<br/>Plot parameters\n"
   ]
  },
  {
   "cell_type": "code",
   "execution_count": null,
   "metadata": {
    "ExecuteTime": {
     "end_time": "2016-04-27T11:17:06.474688",
     "start_time": "2016-04-27T11:17:06.465099"
    },
    "collapsed": false
   },
   "outputs": [],
   "source": [
    "with open('/home/idies/keystone.token', 'r') as f:\n",
    "    token = f.read().rstrip('\\n')\n",
    "# some of our functions can retrieve the token from a system variable:\n",
    "import sys\n",
    "sys.argv.append(\"--ident=\"+token)"
   ]
  },
  {
   "cell_type": "code",
   "execution_count": null,
   "metadata": {
    "ExecuteTime": {
     "end_time": "2016-04-27T11:17:06.592414",
     "start_time": "2016-04-27T11:17:06.478066"
    },
    "collapsed": true
   },
   "outputs": [],
   "source": [
    "import warnings\n",
    "warnings.filterwarnings('ignore')"
   ]
  },
  {
   "cell_type": "code",
   "execution_count": null,
   "metadata": {
    "ExecuteTime": {
     "end_time": "2016-04-27T11:17:06.604555",
     "start_time": "2016-04-27T11:17:06.594910"
    },
    "collapsed": false
   },
   "outputs": [],
   "source": [
    "# Import necessary libraries.\n",
    "# \"BOILERPLATE\"\n",
    "import SciServer.CasJobs\n",
    "import SciServer.Keystone\n",
    "import SciServer.SciDrive\n",
    "import os\n",
    "import pandas\n",
    "import tables\n",
    "import matplotlib.pyplot as plt\n",
    "import pylab as pl\n",
    "import numpy\n",
    "import math\n",
    "# load library for fitting\n",
    "from scipy.optimize import curve_fit"
   ]
  },
  {
   "cell_type": "code",
   "execution_count": null,
   "metadata": {
    "ExecuteTime": {
     "end_time": "2016-04-27T11:17:06.614880",
     "start_time": "2016-04-27T11:17:06.606851"
    },
    "collapsed": true
   },
   "outputs": [],
   "source": [
    "# define fitting function from Navarro, Frenk & White 1995\n",
    "# we will fit log of rdensity profile\n",
    "def nfw(radius, rho0, Rs):\n",
    "    return numpy.log10(rho0*(1/((radius/Rs)*(1+radius/Rs)**2)))"
   ]
  },
  {
   "cell_type": "code",
   "execution_count": null,
   "metadata": {
    "ExecuteTime": {
     "end_time": "2016-04-27T11:17:06.626803",
     "start_time": "2016-04-27T11:17:06.617194"
    },
    "collapsed": true
   },
   "outputs": [],
   "source": [
    "# define fitting function from Navarro, Frenk & White 1995\n",
    "# we will fit log of rdensity profile\n",
    "def hern(radius, M, a):\n",
    "    return numpy.log10(0.5*M*a/((radius)*(a+radius)**3)/math.pi)"
   ]
  },
  {
   "cell_type": "code",
   "execution_count": null,
   "metadata": {
    "ExecuteTime": {
     "end_time": "2016-04-27T11:17:07.081896",
     "start_time": "2016-04-27T11:17:06.629195"
    },
    "collapsed": false
   },
   "outputs": [],
   "source": [
    "# do not run this if the table StratHaloSample already exists, otherwise uncomment next line\n",
    "# define a stratified random sample of DM halos\n",
    "query='''\n",
    "with h as (\n",
    "  select haloid,  np, floor(log10(np)/.2) as npbin\n",
    "    ,   rank() over(partition by floor(log10(np)/.2) order by newid()) as rank\n",
    "  from mr \n",
    "  where snapnum=63 and haloid=firsthaloinfofgroupid\n",
    ")\n",
    "select * \n",
    "into MyDB.StratHaloSample\n",
    "from h where rank <= 10\n",
    "'''\n",
    "#Submit job on \"slow\" queue\n",
    "jobId=SciServer.CasJobs.submitJob(query, context = \"MPAHaloTrees\")"
   ]
  },
  {
   "cell_type": "code",
   "execution_count": null,
   "metadata": {
    "ExecuteTime": {
     "end_time": "2016-04-27T11:17:41.824325",
     "start_time": "2016-04-27T11:17:07.084255"
    },
    "collapsed": false
   },
   "outputs": [],
   "source": [
    "# wait for job finishing\n",
    "SciServer.CasJobs.waitForJob(jobId)"
   ]
  },
  {
   "cell_type": "markdown",
   "metadata": {},
   "source": [
    "## SQL\n",
    "###The following SQL uses a new feature (as yet not public) for querying raw siulation data (particles) from Millennium simulation snapshots\n",
    "<pre style=\"font-size:18px;\">\n",
    "with ps as (\n",
    "select h.haloId,p.x-hh.x as x,p.y-hh.y as y,p.z-hh.z as z, hh.np\n",
    "from mydb.strathalosample h\n",
    "   inner join mpahalotrees..mr hh\n",
    "  on hh.haloid=h.haloid \n",
    "  and h.rank <= 8\n",
    "  and h.npbin between 15 and 27\n",
    "      <b>cross apply dbo.MillenniumParticles(hh.snapnum,\n",
    "          dbo.Sphere::New(hh.x,hh.y,hh.z,3*hh.halfmassradius).ToString())</b> p\n",
    "),\n",
    "rs as (\n",
    "select haloid,sqrt(x*x+y*y+z*z) as r, np\n",
    "from ps\n",
    ")\n",
    "select haloid, max(np) as np,\n",
    " power(convert(real,10 ),.1*floor(log10(r)/.1)) as r1\n",
    "  , power(convert(real, 10),.1*(1+floor(log10(r)/.1))) as r2, count(*) as num\n",
    "  from rs where r > 0\n",
    "  group by haloid, floor(log10(r)/.1)\n",
    "  order by 1,3\n",
    "```"
   ]
  },
  {
   "cell_type": "code",
   "execution_count": null,
   "metadata": {
    "ExecuteTime": {
     "end_time": "2016-04-27T11:18:32.460496",
     "start_time": "2016-04-27T11:17:41.826857"
    },
    "collapsed": false
   },
   "outputs": [],
   "source": [
    "# Find particles around each halo using special SQLCLR/C# function, accessing raw simulation files on disk.\n",
    "# Create histogram of counts in spherical shells (~density profile)\n",
    "query=\"\"\"\n",
    "with ps as (\n",
    "select h.haloId,p.x-hh.x as x,p.y-hh.y as y,p.z-hh.z as z, hh.np\n",
    "from mydb.strathalosample h\n",
    "   inner join mpahalotrees..mr hh\n",
    "  on hh.haloid=h.haloid \n",
    "  and h.rank <= 8\n",
    "  and h.npbin between 15 and 27\n",
    "      cross apply dbo.MillenniumParticles(hh.snapnum,\n",
    "      dbo.Sphere::New(hh.x,hh.y,hh.z,3*hh.halfmassradius).ToString()) p\n",
    "),\n",
    "rs as (\n",
    "select haloid,sqrt(x*x+y*y+z*z) as r, np\n",
    "from ps\n",
    ")\n",
    "select haloid, max(np) as np,\n",
    " power(convert(real,10 ),.1*floor(log10(r)/.1)) as r1\n",
    "  , power(convert(real, 10),.1*(1+floor(log10(r)/.1))) as r2, count(*) as num\n",
    "  from rs where r > 0\n",
    "  group by haloid, floor(log10(r)/.1)\n",
    "  order by 1,3\n",
    "\"\"\"\n",
    "# query CasJobs table. Using SimulationDB as context\n",
    "queryResponse = SciServer.CasJobs.executeQuery(query, \"SimulationDB\",token=token)\n",
    "\n",
    "# parse results into py DataFrame for further in memory processing\n",
    "profs = pandas.read_csv(queryResponse,index_col=None)\n",
    "print(\"Found \"+str(profs.count()[0])+\" rows\")"
   ]
  },
  {
   "cell_type": "code",
   "execution_count": null,
   "metadata": {
    "ExecuteTime": {
     "end_time": "2016-04-27T11:18:32.468632",
     "start_time": "2016-04-27T11:18:32.463285"
    },
    "collapsed": false
   },
   "outputs": [],
   "source": [
    "# define array of unique haloId, used in further processing\n",
    "haloIds=numpy.unique(profs['haloid'])"
   ]
  },
  {
   "cell_type": "code",
   "execution_count": null,
   "metadata": {
    "ExecuteTime": {
     "end_time": "2016-04-27T11:18:43.452646",
     "start_time": "2016-04-27T11:18:32.471083"
    },
    "collapsed": false
   },
   "outputs": [],
   "source": [
    "plt.figure(figsize=(18, 15))\n",
    "plt.xlabel('log10(radius/Mpc)')\n",
    "plt.ylabel('density in #/Mpc^3')\n",
    "plt.title('Density Profile')\n",
    "\n",
    "subPlotNum = 1\n",
    "\n",
    "# restrict to small sample for demo purposes\n",
    "nmax=40\n",
    "count=0\n",
    "params=[]\n",
    "cov=[]\n",
    "for haloId in haloIds:\n",
    "    df=profs.loc[(profs.haloid ==haloId), ['haloid','np','r1', 'r2', 'num']]\n",
    "    hs=numpy.array(df['haloid'].tolist())\n",
    "    n1=3\n",
    "    n2=len(hs)-1\n",
    "    np=numpy.array(df['np'].tolist())[0]\n",
    "    r1=numpy.array(df['r1'].tolist())[n1:n2]\n",
    "    r2=numpy.array(df['r2'].tolist())[n1:n2]\n",
    "    num=numpy.array(df['num'].tolist())[n1:n2]\n",
    "    r=numpy.sqrt(r1*r2)\n",
    "    v=4*math.pi*(r2**3-r1**3)/3\n",
    "    d = num/v\n",
    "    ld = numpy.log10(d)\n",
    "    lr=numpy.log10(r)\n",
    "\n",
    "# if fit Navarro, Frenk, WHite profile uncomment next lines\n",
    "#    fitFunc=nfw\n",
    "#    p0=[np, 0.05]\n",
    "\n",
    "# fit Hernquist profile\n",
    "    fitFunc=hern\n",
    "    p0=[np, 0.05]\n",
    "\n",
    "    fitParams, fitCovariances = curve_fit(fitFunc, r,ld, p0=p0)\n",
    "    params.append(fitParams)\n",
    "    cov.append(fitCovariances)\n",
    "    \n",
    "# plot density profiles as open dots and fit +/- 1 sigma as lines     \n",
    "    plt.subplot(8,5,subPlotNum)\n",
    "    subPlotNum += 1\n",
    "    plt.scatter(lr, ld,facecolors='none', edgecolors='b')\n",
    "    plt.plot(lr, (fitFunc(r, fitParams[0], fitParams[1])),\n",
    "             lr, (fitFunc(r, fitParams[0] + numpy.sqrt(fitCovariances[0,0]), fitParams[1]- numpy.sqrt(fitCovariances[1,1]))),\n",
    "             lr, (fitFunc(r, fitParams[0] - numpy.sqrt(fitCovariances[0,0]), fitParams[1] + numpy.sqrt(fitCovariances[1,1]))))\n",
    "    plt.title(str(haloId))\n",
    "\n",
    "    \n",
    "    count+=1\n",
    "    if(count >= nmax):\n",
    "        break\n",
    "    \n",
    "plt.show()\n"
   ]
  },
  {
   "cell_type": "code",
   "execution_count": null,
   "metadata": {
    "ExecuteTime": {
     "end_time": "2016-04-27T11:18:43.459409",
     "start_time": "2016-04-27T11:18:43.455367"
    },
    "collapsed": true
   },
   "outputs": [],
   "source": [
    "def straight(lmass, a, b):\n",
    "    return a*lmass+b"
   ]
  },
  {
   "cell_type": "code",
   "execution_count": null,
   "metadata": {
    "ExecuteTime": {
     "end_time": "2016-04-27T11:18:43.478662",
     "start_time": "2016-04-27T11:18:43.461988"
    },
    "collapsed": false
   },
   "outputs": [],
   "source": [
    "p1,p2=zip(*params)\n",
    "\n",
    "p0=[2,0]\n",
    "ab, errab = curve_fit(straight, numpy.log10(p1), numpy.log10(p2),p0=p0)\n",
    "xx=[min(numpy.log10(p1)), max(numpy.log10(p1))]\n",
    "yy=[straight(min(numpy.log10(p1)),ab[0],ab[1]), straight(max(numpy.log10(p1)),ab[0],ab[1])]\n",
    "ab"
   ]
  },
  {
   "cell_type": "code",
   "execution_count": null,
   "metadata": {
    "ExecuteTime": {
     "end_time": "2016-04-27T11:18:44.018899",
     "start_time": "2016-04-27T11:18:43.481184"
    },
    "collapsed": false
   },
   "outputs": [],
   "source": [
    "plt.figure(figsize=(10, 10))\n",
    "plt.xlabel('M')\n",
    "plt.ylabel('a')\n",
    "plt.scatter(numpy.log10(p1), numpy.log10(p2))\n",
    "plt.plot(xx,yy)\n",
    "plt.show()"
   ]
  },
  {
   "cell_type": "markdown",
   "metadata": {},
   "source": [
    "# Exercise 1: evolution density profile\n",
    "Modify the query defining the halo sample to provide the evolution of the (main branch of) a massive dark matter halo at z=0.\n",
    "\n",
    "For ideas see documentation at public Millennium Database site:<br/>\n",
    "<a href=\"http://gavo.mpa-garching.mpg.de/Millennium/\">http://gavo.mpa-garching.mpg.de/Millennium/</a><br/>\n",
    "and <br/>\n",
    "<a href=\"http://gavo.mpa-garching.mpg.de/Millennium/Help/mergertrees\">http://gavo.mpa-garching.mpg.de/Millennium/Help/mergertrees</a>"
   ]
  },
  {
   "cell_type": "code",
   "execution_count": null,
   "metadata": {
    "collapsed": true
   },
   "outputs": [],
   "source": []
  }
 ],
 "metadata": {
  "kernelspec": {
   "display_name": "Python 3",
   "language": "python",
   "name": "python3"
  },
  "language_info": {
   "codemirror_mode": {
    "name": "ipython",
    "version": 3
   },
   "file_extension": ".py",
   "mimetype": "text/x-python",
   "name": "python",
   "nbconvert_exporter": "python",
   "pygments_lexer": "ipython3",
   "version": "3.4.4"
  }
 },
 "nbformat": 4,
 "nbformat_minor": 0
}
