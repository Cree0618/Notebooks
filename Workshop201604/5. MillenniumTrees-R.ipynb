{
 "cells": [
  {
   "cell_type": "markdown",
   "metadata": {},
   "source": [
    "# An R-notebook\n",
    "## Query galaxy and halo trees from the Millennium database and plot them ala Delucia & Blaizot (2007)\n",
    "Uses some special purpose scripts written in R."
   ]
  },
  {
   "cell_type": "code",
   "execution_count": null,
   "metadata": {
    "ExecuteTime": {
     "end_time": "2016-04-26T20:43:30.909016",
     "start_time": "2016-04-26T20:43:30.687Z"
    },
    "collapsed": false
   },
   "outputs": [],
   "source": [
    "# R way of retrieving token\n",
    "token=readLines('/home/idies/keystone.token')"
   ]
  },
  {
   "cell_type": "code",
   "execution_count": null,
   "metadata": {
    "ExecuteTime": {
     "end_time": "2016-04-26T20:44:10.354350",
     "start_time": "2016-04-26T20:44:10.126Z"
    },
    "collapsed": false
   },
   "outputs": [],
   "source": [
    "# soucrgin some scripts specially written for querying CAS  jobs from R, \n",
    "# and for plotting galaxy and halo merger trees respectively\n",
    "source('query_CAS.r')\n",
    "source('HandleTrees.r')"
   ]
  },
  {
   "cell_type": "code",
   "execution_count": null,
   "metadata": {
    "ExecuteTime": {
     "end_time": "2016-04-26T20:46:33.074363",
     "start_time": "2016-04-26T20:46:32.287Z"
    },
    "collapsed": false
   },
   "outputs": [],
   "source": [
    "# find some random galaxies from the L-Galaxies semi-analytical simulation \n",
    "# from Henriques etal 2015 (9)2015MNRAS.451.2663H)\n",
    "# available on this version of CasJobs as context Henriques2015a\n",
    "sql=\"\n",
    "select  galaxyId, haloId \n",
    "  from mrscplanck1\n",
    " where snapnum=58 and stellarmass between 11 and 11.1 and type=0\"\n",
    "r=queryCAS(sql,token=token,context=\"Henriques2015a\")"
   ]
  },
  {
   "cell_type": "code",
   "execution_count": null,
   "metadata": {
    "ExecuteTime": {
     "end_time": "2016-04-26T20:46:35.466992",
     "start_time": "2016-04-26T20:46:34.303Z"
    },
    "collapsed": false,
    "scrolled": false
   },
   "outputs": [],
   "source": [
    "# plot the merger tree for the first galaxy\n",
    "gt=galaxyTree(root=r$galaxyId[1],token=token,plot=TRUE)"
   ]
  },
  {
   "cell_type": "code",
   "execution_count": null,
   "metadata": {
    "ExecuteTime": {
     "end_time": "2016-04-26T20:47:22.455472",
     "start_time": "2016-04-26T20:47:20.876Z"
    },
    "collapsed": false,
    "scrolled": false
   },
   "outputs": [],
   "source": [
    "# plot the merger tree for the corresponding dark matter halo\n",
    "ht=haloTree(root=r$haloId[1],token=token,plot=TRUE)"
   ]
  },
  {
   "cell_type": "code",
   "execution_count": null,
   "metadata": {
    "collapsed": true
   },
   "outputs": [],
   "source": []
  }
 ],
 "metadata": {
  "kernelspec": {
   "display_name": "R",
   "language": "R",
   "name": "ir"
  },
  "language_info": {
   "codemirror_mode": "r",
   "file_extension": ".r",
   "mimetype": "text/x-r-source",
   "name": "R",
   "pygments_lexer": "r",
   "version": "3.2.3"
  }
 },
 "nbformat": 4,
 "nbformat_minor": 0
}
