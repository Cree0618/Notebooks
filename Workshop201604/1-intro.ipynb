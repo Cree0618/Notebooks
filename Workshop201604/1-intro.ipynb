{
 "cells": [
  {
   "cell_type": "markdown",
   "metadata": {},
   "source": [
    "# Notebook 1\n",
    "\n",
    "### Query SDSS Data Release 12, save thumbnails to SciDrive"
   ]
  },
  {
   "cell_type": "markdown",
   "metadata": {},
   "source": [
    "This notebook shows you how to use SciServer compute to communicate with the other components of SciServer. You will learn how to:\n",
    "\n",
    "1. Single-sign-on authentication through Keystone tokens\n",
    "1. import special purpose libraries written for SciServer actions\n",
    "1. Querying relational databases registered in CasJobs (SciServer's database frontend and batch query engine)\n",
    "1. Manipulating query results in python code (visualization)\n",
    "1. Storing results on local scratch disk as an HDF5 file for later reuse\n",
    "1. Based on query result retrieve images from persistents store, available to notebook because the docker container was created with a link to the corresponding volume container and show the images on the screen.\n",
    "1. Write images to the sharable, dropbox-like SciDrive. There they can be found through the UI interface and shared with colleagues.\n",
    "1. Store public URLs to thimbnails together with other data to table in one's private database, MyDB\n"
   ]
  },
  {
   "cell_type": "markdown",
   "metadata": {},
   "source": [
    "# 1. Sign in to SciServer\n",
    "\n",
    "All SciServer tools (CasJobs, SciDrive, iPython Notebooks, etc.) use the same single-sign-on system, so you only need to remember one password.\n",
    "\n",
    "When you open your Docker container from the SciServer Compute dashboard page, the current token will be written in the file /home/idies/kestone.token. You can find your token on your Compute dashboard, under your username.\n",
    "\n",
    "The code block below reads the token and stores it in a local variable, then prints its value along with your login name.\n",
    "\n",
    "Note: since your token may expire, you should sometimes refresh the token as you work. You can do this by refreshing the token on the Dashboard, and then rerunnning the next block of code."
   ]
  },
  {
   "cell_type": "code",
   "execution_count": null,
   "metadata": {
    "ExecuteTime": {
     "end_time": "2016-04-26T22:09:46.377671",
     "start_time": "2016-04-26T22:09:46.368436"
    },
    "collapsed": false
   },
   "outputs": [],
   "source": [
    "# This code block defined your token and makes it available as a \n",
    "#   system variable for the length of your current session.\n",
    "# \n",
    "# This will usually be the first code block in any script you write.\n",
    "with open('/home/idies/keystone.token', 'r') as f:\n",
    "    token = f.read().rstrip('\\n')\n",
    "# async queries require token to be in --ident system variable\n",
    "import sys\n",
    "sys.argv.append(\"--ident=\"+token)\n",
    "print(\"Your current token is\"+token)"
   ]
  },
  {
   "cell_type": "markdown",
   "metadata": {},
   "source": [
    "# 2. Import SciServer libraries \n",
    "The SciServer team has written a number of libraries, generally prefixed by <tt>SciServer</tt>, that assist in various functions. As with all Python libraries, they must be actively imported before being used.\n",
    "\n",
    "The next code block imports those, together with some standard Python libraries helpful for scientific analysis. The code block below applies some settings you may find helpful."
   ]
  },
  {
   "cell_type": "code",
   "execution_count": null,
   "metadata": {
    "ExecuteTime": {
     "end_time": "2016-04-26T22:08:40.368947",
     "start_time": "2016-04-26T22:08:40.061269"
    },
    "collapsed": true
   },
   "outputs": [],
   "source": [
    "# Step 2a: Import Python libraries to work with SciServer\n",
    "\n",
    "import SciServer.CasJobs as CasJobs # query with CasJobs\n",
    "import SciServer.SciDrive           # read/write to/from SciDrive"
   ]
  },
  {
   "cell_type": "code",
   "execution_count": null,
   "metadata": {
    "ExecuteTime": {
     "end_time": "2016-04-26T22:08:40.719455",
     "start_time": "2016-04-26T22:08:40.541844"
    },
    "collapsed": false
   },
   "outputs": [],
   "source": [
    "# step 2b import other libraries for use in this notebook.\n",
    "# all of these are included in the default Docker image\n",
    "# but others can often be downloaded through a terminal or a '!pip install ...' run from \n",
    "# within the notebook\n",
    "import numpy as np                  # standard Python lib for math ops\n",
    "import pandas                       # data manipulation package\n",
    "import matplotlib.pyplot as plt     # another graphing package\n",
    "import skimage.io                   # image processing library\n",
    "import urllib                       # accessing resources thorugh remote URLs\n",
    "import json                         # work with JSON files"
   ]
  },
  {
   "cell_type": "code",
   "execution_count": null,
   "metadata": {
    "ExecuteTime": {
     "end_time": "2016-04-26T22:08:42.611460",
     "start_time": "2016-04-26T22:08:42.605493"
    },
    "collapsed": true
   },
   "outputs": [],
   "source": [
    "# Step 2b: Apply some special settings to the imported libraries\n",
    "# ensure columns get written completely in notebook\n",
    "pandas.set_option('display.max_colwidth', -1)\n",
    "# do *not* show python warnings \n",
    "import warnings\n",
    "warnings.filterwarnings('ignore')"
   ]
  },
  {
   "cell_type": "markdown",
   "metadata": {},
   "source": [
    "# 3. Query an astronomy database (SDSS DR12)\n",
    "\n",
    "The next code block searches the SDSS Data Release 12 database via the CasJobs REST API. The query completes quickly, so it uses CasJobs quick mode.\n",
    "\n",
    "CasJobs also has an asynchronous mode, which will submit job to a queue and will store the results in a table in your MyDB. If your results are very large, you may order it to store the results in MyScratchDB instead.\n",
    "\n",
    "Run the code block below to query DR12. Try changing some of the query parameters in step 3a to see the effect on the results returned in step 3d.\n",
    "\n",
    "Documentation on the SciServer Python libraries can be found at our documentation site at:<br />\n",
    "http://scitest02.pha.jhu.edu/python-docs/ \n",
    "\n",
    "The actual source code is accessible on GitHub at <br/>\n",
    "<a href=\"https://github.com/sciserver/SciScript-Python/tree/master/SciServer\">https://github.com/sciserver/SciScript-Python/tree/master/SciServer</a>"
   ]
  },
  {
   "cell_type": "code",
   "execution_count": null,
   "metadata": {
    "ExecuteTime": {
     "end_time": "2016-04-26T19:58:55.378129",
     "start_time": "2016-04-26T19:58:55.365730"
    },
    "collapsed": false,
    "scrolled": true
   },
   "outputs": [],
   "source": [
    "# Step 3a: Find objects in the Sloan Digital Sky Survey's Data Release 12.\n",
    "# Queries the Sloan Digital Sky Serveys' Data Release 12.\n",
    "# For the database schema and documentation see http://skyserver.sdss.org\n",
    "#\n",
    "# This query finds \"a 4x4 grid of nice-looking galaxies\": \n",
    "#   galaxies in the SDSS database that have a spectrum \n",
    "#   and have a size (petror90_r) larger than 10 arcsec.\n",
    "# \n",
    "# First, store the query in an object called \"query\"\n",
    "query=\"\"\"\n",
    "SELECT TOP 16 p.objId,p.ra,p.dec,p.petror90_r\n",
    "  FROM galaxy AS p\n",
    "   JOIN SpecObj AS s ON s.bestobjid = p.objid\n",
    "WHERE p.u BETWEEN 0 AND 19.6\n",
    "  AND p.g BETWEEN 0 AND 17\n",
    "  AND p.petror90_r > 10\n",
    "\"\"\""
   ]
  },
  {
   "cell_type": "code",
   "execution_count": null,
   "metadata": {
    "ExecuteTime": {
     "end_time": "2016-04-26T19:58:56.820573",
     "start_time": "2016-04-26T19:58:55.380604"
    },
    "collapsed": false
   },
   "outputs": [],
   "source": [
    "# Step 3b: Send the query to CasJobs using the SciServer.CasJobs.executeQuery method.\n",
    "# The method takes the query and the 'context' (= target database) as parameters, and possibly the token.\n",
    "# This example uses DR12 as context - the code makes a connection \n",
    "#   to the DR12 database, then runs the query in quick mode.\n",
    "#   When the query succeeds, an \"OK\" message prints below.\n",
    "queryResponse = CasJobs.executeQuery(query, \"dr12\",token=token)"
   ]
  },
  {
   "cell_type": "code",
   "execution_count": null,
   "metadata": {
    "ExecuteTime": {
     "end_time": "2016-04-26T19:58:56.833491",
     "start_time": "2016-04-26T19:58:56.823034"
    },
    "collapsed": false
   },
   "outputs": [],
   "source": [
    "# Step 3c: store results in a pandas.DataFrame for easy analysis.\n",
    "#\n",
    "# CasJobs returns the results as a CSV string, stored in the \"queryResponse\" variable.\n",
    "# Now parse the results into a DataFrame object using the pandas library.\n",
    "# We identify the first column asn an index column, which is for slightly technical reasons explained below.\n",
    "#    pandas.read_csv documentation: \n",
    "#    http://pandas.pydata.org/pandas-docs/stable/generated/pandas.read_csv.html\n",
    "gals = pandas.read_csv(queryResponse,index_col='objId')"
   ]
  },
  {
   "cell_type": "code",
   "execution_count": null,
   "metadata": {
    "ExecuteTime": {
     "end_time": "2016-04-26T19:58:56.868289",
     "start_time": "2016-04-26T19:58:56.836027"
    },
    "collapsed": false
   },
   "outputs": [],
   "source": [
    "# Step 3d: Show the table of results\n",
    "gals"
   ]
  },
  {
   "cell_type": "markdown",
   "metadata": {},
   "source": [
    "## Exercise A: Querying CasJobs\n",
    "\n",
    "### Try changing the query in the following ways. \n",
    "\n",
    "1. Return 8 matching objects insetad of 16.\n",
    "1. Select only nearby galaxies (redshift < 0.05).\n",
    "1. Select only galaxies likely to be spirals (with u-r color >= 2.22)\n",
    "1. Search for galaxies in SDSS Data Release 10 instead of DR12.\n",
    "\n",
    "#### Some helpful resources\n",
    "SciServer Python modules documentation:\n",
    "http://scitest02.pha.jhu.edu/python-docs/\n",
    "\n",
    "Schema of SDSS Data Release 12:\n",
    "http://skyserver.sdss.org/dr12/en/help/browser/browser.aspx \n",
    "\n",
    "Schema of SDSS Data Release 10:\n",
    "http://skyserver.sdss.org/dr10/en/help/browser/browser.aspx"
   ]
  },
  {
   "cell_type": "markdown",
   "metadata": {},
   "source": [
    "# 4. Make a simple Plot\n",
    "\n",
    "Now that we have run the query and stored the results, we can start analyzing the results.\n",
    "\n",
    "Start by making a simple plot of positions, using the default query from step 3 \n",
    "(select top 16... AND p.petror90_r > 10)."
   ]
  },
  {
   "cell_type": "code",
   "execution_count": null,
   "metadata": {
    "ExecuteTime": {
     "end_time": "2016-04-26T19:58:57.214335",
     "start_time": "2016-04-26T19:58:56.871287"
    },
    "collapsed": false
   },
   "outputs": [],
   "source": [
    "plt.scatter(gals['ra'], gals['dec'])\n",
    "plt.show() "
   ]
  },
  {
   "cell_type": "markdown",
   "metadata": {},
   "source": [
    "## Exercise B: Plotting data\n",
    "\n",
    "### Try changing the code block below in the following ways. What changes do you notice in the plots?  \n",
    "\n",
    "1. Plot the first 100 matching objects instead of the first 16.\n",
    "1. Plot galaxies out to dec = +/-5 (change the display axes as well)\n",
    "1. Plot a color-magnitude diagram with g on the x-axis and g-r on the y-axis. (Needs extra columns to be returned in the SQL query). \n",
    "\n",
    "#### Some helpful resources\n",
    "SciServer Python modules documentation:\n",
    "http://scitest02.pha.jhu.edu/python-docs/\n",
    "\n",
    "Schema of SDSS Data Release 12:\n",
    "http://skyserver.sdss.org/dr12/en/help/browser/browser.aspx \n",
    "\n",
    "Documentation for matplotlib module:\n",
    "http://matplotlib.org/contents.html"
   ]
  },
  {
   "cell_type": "markdown",
   "metadata": {},
   "source": [
    "# 5. Store results on server for later use\n",
    "\n",
    "The next code block saves the data table \"gals\" as an HD5 file and as a CSV file.\n",
    "\n",
    "To see these files, go back to the folder in your Jupyter dashboard from which you \n",
    "opened this notebook. You should see your files there. Click on the file names to preview."
   ]
  },
  {
   "cell_type": "code",
   "execution_count": null,
   "metadata": {
    "ExecuteTime": {
     "end_time": "2016-04-26T19:58:57.242490",
     "start_time": "2016-04-26T19:58:57.216899"
    },
    "collapsed": false
   },
   "outputs": [],
   "source": [
    "# store result as HDF5 file \n",
    "h5store = pandas.HDFStore('GalaxyThumbSample.h5')\n",
    "h5store['galaxies']=gals\n",
    "h5store.close()\n",
    "\n",
    "# store result as CSV file\n",
    "gals.to_csv('GalaxyThumbSample.csv')"
   ]
  },
  {
   "cell_type": "markdown",
   "metadata": {},
   "source": [
    "## Exercise C: Saving files\n",
    "\n",
    "### Try some alternatives:\n",
    "\n",
    "1. Change the name of the files\n",
    "1. Save the file as tab-separated variable (.tsv) instead of the default comma-separated variable (.csv).\n",
    "\n",
    "Documentation on the Pandas package's DataFrame.to_csv method:<br />\n",
    "http://pandas.pydata.org/pandas-docs/stable/generated/pandas.DataFrame.to_csv.html"
   ]
  },
  {
   "cell_type": "markdown",
   "metadata": {},
   "source": [
    "# 6. Retrieve thumbnail cutouts of galaxies and show them on screen\n",
    "<a href=\"http://scitest02.pha.jhu.edu/SkyServer\" target=\"_blank\">SkyServer</a>, another SciServer component, has a service that will produce a color JPG image cutout of certain dimensions around a specified position, useful for creating thumbnails. \n",
    "\n",
    "The service creates the thumbnail using a pre-defined image pyramid. For a single image, you can construct the URL of the service using your query results, then use the skimage package to call the URL. To get all thumbnails in your query result, you can iterate using a loop.\n",
    "\n",
    "The code block below gives an example of how to retrieve JPG thumbnails of galaxies in DR12. We need to create a URL for accessing the serice and set the parameters appropriately to produce nice thumbnails.\n",
    "\n",
    "Note, the SQL query aboove was designed to produce positions of some nice looking galaxies. "
   ]
  },
  {
   "cell_type": "code",
   "execution_count": null,
   "metadata": {
    "ExecuteTime": {
     "end_time": "2016-04-26T19:59:04.760072",
     "start_time": "2016-04-26T19:58:57.245518"
    },
    "collapsed": false,
    "scrolled": false
   },
   "outputs": [],
   "source": [
    "width=200\n",
    "height=200\n",
    "pixelsize=0.396\n",
    "plt.figure(figsize=(15, 15))\n",
    "subPlotNum = 1\n",
    "\n",
    "for index,gal in gals.iterrows():\n",
    "    # the 'scale' parameter is set so that the image will be about 2x the size of the galaxy\n",
    "    scale=2*gal['petror90_r']/pixelsize/width\n",
    "    url=\"http://skyservice.pha.jhu.edu/DR12/ImgCutout/getjpeg.aspx?ra=\"+str(gal['ra'])\n",
    "    url+=\"&dec=\"+str(gal['dec'])+\"&scale=\"\"\"+str(scale)+\"&width=\"+str(width)\n",
    "    url+=\"&height=\"+str(height)\n",
    "    img=skimage.io.imread(url)\n",
    "    plt.subplot(4,4,subPlotNum)\n",
    "    subPlotNum += 1\n",
    "    plt.imshow(img)\n",
    "    # show the object identifier (objId) above the image.\n",
    "    plt.title(index)\n"
   ]
  },
  {
   "cell_type": "markdown",
   "metadata": {},
   "source": [
    "# 7. Write thumbnails to SciDrive\n",
    "\n",
    "<a href=\"http://scitest09.pha.jhu.edu/scidrive/scidrive.html\" target=\"_blank\">SciDrive</a> is a new component of SciServer. It allows you to save query results as flat files in a Dropbox-like interface you can access anywhere.\n",
    "\n",
    "The version of SciDrive this notebook connects to is not the same as the pre-production version you may have used before. Use the link below to access this test version of SciDrive. You should have no containers in this SciDrive yet.\n",
    "\n",
    "Check your test SciDrive at:<br />\n",
    "http://scitest09.pha.jhu.edu/scidrive/scidrive.html\n",
    "\n",
    "If the above link does not show a proper view of scidrive, with folders etc., please let us know, and do not run the rest of the code in this notebook until we investigate.\n",
    "\n",
    "The three code blocks below work together to write the thumbnails you generated in step 6 into your test SciDrive."
   ]
  },
  {
   "cell_type": "code",
   "execution_count": null,
   "metadata": {
    "ExecuteTime": {
     "end_time": "2016-04-26T19:59:04.773632",
     "start_time": "2016-04-26T19:59:04.762796"
    },
    "collapsed": false
   },
   "outputs": [],
   "source": [
    "# Step 7a: a function for generating a public URL for resources stored in SciDrive\n",
    "# TODO this should be isolated as a part of the SciServer.SciDrive library\n",
    "def scidrivePublicURL(path):\n",
    "    req = urllib.request.Request(url=SciServer.Config.SciDriveHost+'/vospace-2.0/1/media/sandbox/'+path,method='GET') \n",
    "    req.add_header('X-Auth-Token', token) \n",
    "    req.add_header('Content-Type','application/xml') \n",
    "    res=urllib.request.urlopen(req)\n",
    "    jsonResponse = json.loads(res.read().decode())\n",
    "    return jsonResponse['url']"
   ]
  },
  {
   "cell_type": "code",
   "execution_count": null,
   "metadata": {
    "ExecuteTime": {
     "end_time": "2016-04-26T19:59:04.944339",
     "start_time": "2016-04-26T19:59:04.777573"
    },
    "collapsed": false
   },
   "outputs": [],
   "source": [
    "# Step 7b: create a container (~folder) in your SciDrive to hold the thumbnail images\n",
    "container = 'thumbnails'\n",
    "# IMPORTANT: Only run next if the container does not yet exist. If you have already created \n",
    "#   the container, comment out the next line.\n",
    "# Note the token that must be provided as it allows the system to connect you to the proper scidrive root folder.\n",
    "SciServer.SciDrive.createContainer(container,token=token)"
   ]
  },
  {
   "cell_type": "code",
   "execution_count": null,
   "metadata": {
    "ExecuteTime": {
     "end_time": "2016-04-26T19:59:28.075818",
     "start_time": "2016-04-26T19:59:04.947022"
    },
    "collapsed": false,
    "scrolled": true
   },
   "outputs": [],
   "source": [
    "# Step 7c: Write thumbnails to SciDrive. You will see a confirmation message below\n",
    "#   for each thumbnail.\n",
    "width=200\n",
    "height=200\n",
    "pixelsize=0.396\n",
    "\n",
    "# for later use we determine publicly accessible URLs to each thumbnail and store these in a separate list.\n",
    "puburls=[]\n",
    "for index,gal in gals.iterrows():\n",
    "    scale=2*gal['petror90_r']/pixelsize/width\n",
    "    url=\"http://skyservice.pha.jhu.edu/DR12/ImgCutout/getjpeg.aspx?ra=\"+str(gal['ra'])\n",
    "    url+=\"&dec=\"+str(gal['dec'])+\"&scale=\"\"\"+str(scale)+\"&width=\"+str(width)\n",
    "    url+=\"&height=\"+str(height)\n",
    "    req = urllib.request.Request(url=url,method='GET')\n",
    "    res = urllib.request.urlopen(req)\n",
    "    data=res.read()\n",
    "    scidrivename_name = container+\"/new_\"+str(index)+\".jpg\"\n",
    "# Here the file gets uploaded to the container\n",
    "    SciServer.SciDrive.upload(scidrivename_name, data,token=token)\n",
    "    puburls.append(scidrivePublicURL(scidrivename_name))\n",
    "    \n",
    "# add the column of public urls to the original pandas.DataFrame\n",
    "gals['pubURL']=puburls"
   ]
  },
  {
   "cell_type": "markdown",
   "metadata": {},
   "source": [
    "Check your test SciDrive folder again. You should see a container called \"thumbnails\".\n",
    "\n",
    "Double-click on the name to open the container. You should see the thumbnails you just saved!\n",
    "\n",
    "Your test SciDrive URL:<br />\n",
    "http://scitest09.pha.jhu.edu/scidrive/scidrive.html"
   ]
  },
  {
   "cell_type": "markdown",
   "metadata": {},
   "source": [
    "# 8. Store result in MyDB table\n",
    "We'll store the results of our work in a table in your CasJobs/MyDB. This includes the result of your original query, with an extra column containing the public URL of the thumbnail corresponding to the galaxy retrieved from the database.\n",
    "\n",
    "Check the state before: http://scitest02.pha.jhu.edu/CasJobs/MyDB.aspx"
   ]
  },
  {
   "cell_type": "code",
   "execution_count": null,
   "metadata": {
    "ExecuteTime": {
     "end_time": "2016-04-26T19:59:28.106186",
     "start_time": "2016-04-26T19:59:28.078652"
    },
    "collapsed": false
   },
   "outputs": [],
   "source": [
    "# add column with public urls to the galaxies table ...\n",
    "gals['pubURL']=puburls\n",
    "# show the table\n",
    "gals"
   ]
  },
  {
   "cell_type": "code",
   "execution_count": null,
   "metadata": {
    "ExecuteTime": {
     "end_time": "2016-04-26T19:59:28.733461",
     "start_time": "2016-04-26T19:59:28.109425"
    },
    "collapsed": false
   },
   "outputs": [],
   "source": [
    "# to write to your MyDB, first create the table\n",
    "# For technical reasons the column names must be exactly the same as the columns in the DataFrame.\n",
    "# Note, skip this step if the table already exists\n",
    "ddl = 'CREATE TABLE GalaxyThumbs(objId bigint, ra real, dec real, petror90_r real, pubURL varchar(128))'\n",
    "response = SciServer.CasJobs.executeQuery(ddl,token=token)\n",
    "# if no 200 OK is printed as result, something has gone wrong."
   ]
  },
  {
   "cell_type": "code",
   "execution_count": null,
   "metadata": {
    "ExecuteTime": {
     "end_time": "2016-04-26T19:59:28.819197",
     "start_time": "2016-04-26T19:59:28.735936"
    },
    "collapsed": false
   },
   "outputs": [],
   "source": [
    "# Now upload the data directly from the DataFrame\n",
    "response=SciServer.CasJobs.uploadPandasDataFrameToTable(gals,\"GalaxyThumbs2\",token=token)"
   ]
  },
  {
   "cell_type": "markdown",
   "metadata": {},
   "source": [
    "Check the state of your MyDB after:  http://scitest02.pha.jhu.edu/CasJobs/MyDB.aspx\n"
   ]
  },
  {
   "cell_type": "markdown",
   "metadata": {},
   "source": [
    "## Epilogue: Async queries to CasJobs\n",
    "instead of executing a query, a query job can be submitted.\n",
    "Returns with a jobId, wbout which the status can be requested.\n",
    "\n",
    "Important: for now the result of the query MUST be written explicitly to a table."
   ]
  },
  {
   "cell_type": "code",
   "execution_count": null,
   "metadata": {
    "ExecuteTime": {
     "end_time": "2016-04-26T22:33:34.592171",
     "start_time": "2016-04-26T22:33:34.103713"
    },
    "collapsed": false
   },
   "outputs": [],
   "source": [
    "# async query example. Note the SELECT ... INTO ... pattern\n",
    "query=\"\"\"\n",
    "SELECT TOP 16 p.objId,p.ra,p.dec,p.petror90_r\n",
    "into MyDB.intro1query\n",
    "  FROM galaxy AS p\n",
    "   JOIN SpecObj AS s ON s.bestobjid = p.objid\n",
    "WHERE p.u BETWEEN 0 AND 19.6\n",
    "  AND p.g BETWEEN 0 AND 17\n",
    "  AND p.petror90_r > 10\n",
    "\"\"\"\n",
    "jobId=CasJobs.submitJob(query, context = \"DR12\")"
   ]
  },
  {
   "cell_type": "code",
   "execution_count": null,
   "metadata": {
    "ExecuteTime": {
     "end_time": "2016-04-26T22:33:41.558307",
     "start_time": "2016-04-26T22:33:41.518454"
    },
    "collapsed": false
   },
   "outputs": [],
   "source": [
    "# retrieve status about job\n",
    "# returns a JSON string.\n",
    "# job is complet is Status attribute in (3,4,5)\n",
    "CasJobs.getJobStatus(jobId)"
   ]
  },
  {
   "cell_type": "code",
   "execution_count": null,
   "metadata": {
    "collapsed": true
   },
   "outputs": [],
   "source": []
  }
 ],
 "metadata": {
  "kernelspec": {
   "display_name": "Python 3",
   "language": "python",
   "name": "python3"
  },
  "language_info": {
   "codemirror_mode": {
    "name": "ipython",
    "version": 3
   },
   "file_extension": ".py",
   "mimetype": "text/x-python",
   "name": "python",
   "nbconvert_exporter": "python",
   "pygments_lexer": "ipython3",
   "version": "3.4.4"
  }
 },
 "nbformat": 4,
 "nbformat_minor": 0
}
