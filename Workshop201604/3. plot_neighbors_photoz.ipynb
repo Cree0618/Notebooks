{
 "cells": [
  {
   "cell_type": "markdown",
   "metadata": {},
   "source": [
    "# Photo-Z regression calculator\n",
    "- Query training set of galaxies for which redshift (~distance measure) is available.\n",
    "- Derive a k-nearest-neighbour regressor that determines redshift estimate from 5 \"broad-band\" magnitudes\n",
    "- Test regressor against test set by plotting predicted vs actual redshift"
   ]
  },
  {
   "cell_type": "markdown",
   "metadata": {},
   "source": [
    "## Author: Jake VanderPlas <vanderplas@astro.washington.edu>\n",
    "## License: BSD\n",
    "##   The figure is an example from astroML: see http://astroML.github.com\n",
    "\n",
    "## Modified by: Dmitry Medvedev <dmedv@jhu.edu> to work with SDSS DB\n"
   ]
  },
  {
   "cell_type": "code",
   "execution_count": null,
   "metadata": {
    "ExecuteTime": {
     "end_time": "2016-03-14T20:41:32.162928",
     "start_time": "2016-03-14T20:41:32.156624"
    },
    "collapsed": false
   },
   "outputs": [],
   "source": [
    "# standard first block for defining the token and makinhg it available as a system variable for the session\n",
    "# token must be replaced with new one once it has expired\n",
    "with open('/home/idies/keystone.token', 'r') as f:\n",
    "    token = f.read().rstrip('\\n')# replace with your own token ID\n",
    "import sys\n",
    "sys.argv.append(\"--ident=\"+token)"
   ]
  },
  {
   "cell_type": "code",
   "execution_count": null,
   "metadata": {
    "ExecuteTime": {
     "end_time": "2016-03-14T20:41:43.458483",
     "start_time": "2016-03-14T20:41:43.451342"
    },
    "collapsed": true
   },
   "outputs": [],
   "source": [
    "import SciServer.CasJobs as CasJobs\n",
    "from io import StringIO\n",
    "import numpy as np\n",
    "import pandas\n",
    "from matplotlib import pyplot as plt\n",
    "from sklearn.neighbors import KNeighborsRegressor\n",
    "from astroML.plotting import scatter_contour"
   ]
  },
  {
   "cell_type": "code",
   "execution_count": null,
   "metadata": {
    "ExecuteTime": {
     "end_time": "2016-03-14T20:41:44.385870",
     "start_time": "2016-03-14T20:41:44.378985"
    },
    "collapsed": false
   },
   "outputs": [],
   "source": [
    "# some special settings\n",
    "# ensure columns get written completely in notebook\n",
    "pandas.set_option('display.max_colwidth', -1)\n",
    "# do *not* show python warnings \n",
    "import warnings\n",
    "warnings.filterwarnings('ignore')"
   ]
  },
  {
   "cell_type": "code",
   "execution_count": null,
   "metadata": {
    "ExecuteTime": {
     "end_time": "2016-03-14T20:41:47.113029",
     "start_time": "2016-03-14T20:41:47.105790"
    },
    "collapsed": true
   },
   "outputs": [],
   "source": [
    "NOBJECTS = 20000\n",
    "GAL_COLORS_DTYPE = [('u', float),\n",
    "                    ('g', float),\n",
    "                    ('r', float),\n",
    "                    ('i', float),\n",
    "                    ('z', float),\n",
    "                    ('redshift', float),\n",
    "                    ('redshift_err', float)]"
   ]
  },
  {
   "cell_type": "markdown",
   "metadata": {},
   "source": [
    "Now we do this"
   ]
  },
  {
   "cell_type": "code",
   "execution_count": null,
   "metadata": {
    "ExecuteTime": {
     "end_time": "2016-03-14T20:41:59.052306",
     "start_time": "2016-03-14T20:41:53.371145"
    },
    "collapsed": false
   },
   "outputs": [],
   "source": [
    "# get data from CasJobs\n",
    "query_text = ('\\n'.join(\n",
    "    (\"SELECT TOP %i\" % NOBJECTS,\n",
    "    \"   p.u, p.g, p.r, p.i, p.z, s.z, s.zerr\",\n",
    "    \"FROM PhotoObj AS p\",\n",
    "    \"   JOIN SpecObj AS s ON s.bestobjid = p.objid\",\n",
    "    \"WHERE \",\n",
    "    \"   p.u BETWEEN 0 AND 19.6\",\n",
    "    \"   AND p.g BETWEEN 0 AND 20\",\n",
    "    \"   AND (s.class = 'GALAXY' OR s.class = 'QSO')\")))\n",
    "response = CasJobs.executeQuery(query_text, \"DR12\", token = token)\n",
    "# read the result as a\n",
    "output = StringIO(response.read().decode())\n",
    "data = np.loadtxt(output, delimiter=',',skiprows=1, dtype=GAL_COLORS_DTYPE)"
   ]
  },
  {
   "cell_type": "code",
   "execution_count": null,
   "metadata": {
    "ExecuteTime": {
     "end_time": "2016-03-14T20:49:32.438760",
     "start_time": "2016-03-14T20:49:32.433082"
    },
    "collapsed": false
   },
   "outputs": [],
   "source": [
    "# show some of the data\n",
    "print(data[1:10])"
   ]
  },
  {
   "cell_type": "code",
   "execution_count": null,
   "metadata": {
    "ExecuteTime": {
     "end_time": "2016-03-14T20:42:59.477475",
     "start_time": "2016-03-14T20:42:59.290415"
    },
    "collapsed": false
   },
   "outputs": [],
   "source": [
    "n_neighbors = 1\n",
    "\n",
    "N = len(data)\n",
    "\n",
    "# shuffle data\n",
    "np.random.seed(0)\n",
    "np.random.shuffle(data)\n",
    "\n",
    "# put colors in a matrix\n",
    "X = np.zeros((N, 4))\n",
    "X[:, 0] = data['u'] - data['g']\n",
    "X[:, 1] = data['g'] - data['r']\n",
    "X[:, 2] = data['r'] - data['i']\n",
    "X[:, 3] = data['i'] - data['z']\n",
    "z = data['redshift']\n",
    "\n",
    "# divide into training and testing data\n",
    "Ntrain = N / 2\n",
    "Xtrain = X[:Ntrain]\n",
    "ztrain = z[:Ntrain]\n",
    "\n",
    "Xtest = X[Ntrain:]\n",
    "ztest = z[Ntrain:]\n",
    "\n",
    "knn = KNeighborsRegressor(n_neighbors, weights='uniform')\n",
    "zpred = knn.fit(Xtrain, ztrain).predict(Xtest)\n",
    "\n",
    "rms = np.sqrt(np.mean((ztest - zpred) ** 2))\n",
    "print(\"RMS error = %.2g\" % rms)"
   ]
  },
  {
   "cell_type": "code",
   "execution_count": null,
   "metadata": {
    "ExecuteTime": {
     "end_time": "2016-03-14T20:48:16.512564",
     "start_time": "2016-03-14T20:48:15.610568"
    },
    "collapsed": false
   },
   "outputs": [],
   "source": [
    "axis_lim = np.array([-0.1, 2.5])\n",
    "\n",
    "plt.figure(figsize=(12, 8))\n",
    "ax = plt.axes()\n",
    "plt.scatter(ztest, zpred, c='k', lw=0, s=4)\n",
    "plt.plot(axis_lim, axis_lim, '--k')\n",
    "plt.plot(axis_lim, axis_lim + rms, ':k')\n",
    "plt.plot(axis_lim, axis_lim - rms, ':k')\n",
    "plt.xlim(axis_lim)\n",
    "plt.ylim(axis_lim)\n",
    "\n",
    "plt.text(0.99, 0.02, \"RMS error = %.2g\" % rms,\n",
    "         ha='right', va='bottom', transform=ax.transAxes,\n",
    "         bbox=dict(ec='w', fc='w'), fontsize=16)\n",
    "\n",
    "plt.title('Photo-z: Nearest Neigbor Regression')\n",
    "plt.xlabel(r'$\\mathrm{z_{spec}}$', fontsize=20)\n",
    "plt.ylabel(r'$\\mathrm{z_{phot}}$', fontsize=20)\n",
    "plt.show()"
   ]
  }
 ],
 "metadata": {
  "kernelspec": {
   "display_name": "Python 3",
   "language": "python",
   "name": "python3"
  },
  "language_info": {
   "codemirror_mode": {
    "name": "ipython",
    "version": 3
   },
   "file_extension": ".py",
   "mimetype": "text/x-python",
   "name": "python",
   "nbconvert_exporter": "python",
   "pygments_lexer": "ipython3",
   "version": "3.4.4"
  }
 },
 "nbformat": 4,
 "nbformat_minor": 0
}
