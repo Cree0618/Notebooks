{
 "cells": [
  {
   "cell_type": "markdown",
   "metadata": {},
   "source": [
    "### Query SDSS DR12 for interesting objects, create a URL for retrieving a JPG cutout, show these and store them on SciDrive from which they can be served to world via public URL."
   ]
  },
  {
   "cell_type": "markdown",
   "metadata": {},
   "source": [
    "This demo show cases various components of SciServer and in particular how SciServer/Compute (i.e. Jupyter notebooks) allow one to communicate with these. IN particular:\n",
    "1. Single-sign-on authentication through Keystone tokens\n",
    "1. import special purpose libraries written for SciServer actions\n",
    "1. Querying relational databases registered in CasJobs (SciServer's database frontend and batch query engine)\n",
    "1. Manipulating query results in python code (visualization)\n",
    "1. Storing results on local scratch disk as an HDF5 file for later reuse\n",
    "1. Alternatively, storing query result in one's private database, MyDB\n",
    "1. Based on query result retrieve images from persistents store, available to notebook because the docker container was created with a link to the corresponding volume container and show the images on the screen.\n",
    "1. Write images to the sharable, dropbox-like SciDrive. There they can be found through the UI interface and shared with colleagues."
   ]
  },
  {
   "cell_type": "markdown",
   "metadata": {},
   "source": [
    "# 2. Import SciServer libraries \n",
    "The SciServer team has written a number of libraries, generally prefixed by <tt>SciServer</tt>, that assist in various functions. The next block imports those, together with some standard python libraries. "
   ]
  },
  {
   "cell_type": "code",
   "execution_count": null,
   "metadata": {
    "ExecuteTime": {
     "end_time": "2016-03-14T21:40:25.277516",
     "start_time": "2016-03-14T21:40:25.269737"
    },
    "collapsed": true
   },
   "outputs": [],
   "source": [
    "# SciServer libraries\n",
    "import SciServer.CasJobs as cj\n",
    "import SciServer.SciDrive as scid\n",
    "import SciServer.SkyServer as skys\n",
    "import SciServer.Authentication as auth\n",
    "# external libraries\n",
    "import numpy as np\n",
    "import pandas\n",
    "import matplotlib.pyplot as plt\n",
    "import skimage.io\n",
    "import json"
   ]
  },
  {
   "cell_type": "code",
   "execution_count": null,
   "metadata": {
    "ExecuteTime": {
     "end_time": "2016-03-14T21:41:04.460313",
     "start_time": "2016-03-14T21:41:04.454596"
    },
    "collapsed": true
   },
   "outputs": [],
   "source": [
    "# some special settings\n",
    "# ensure columns get written completely in notebook\n",
    "pandas.set_option('display.max_colwidth', -1)\n",
    "# do *not* show python warnings \n",
    "import warnings\n",
    "warnings.filterwarnings('ignore')"
   ]
  },
  {
   "cell_type": "markdown",
   "metadata": {},
   "source": [
    "# 3. Query an astronomy database (SDSS/DR12)\n",
    "Write SQL statement and send it to CasJobs' REST API. Uses synchronous mode as the query is quite small. asynch mode is available, this will submit job to queue and the result will be stored in a table in MyDB or MyScratch/DB. \n",
    "\n",
    "TODO make example with batch query mode."
   ]
  },
  {
   "cell_type": "code",
   "execution_count": null,
   "metadata": {
    "ExecuteTime": {
     "end_time": "2016-03-14T21:45:12.110746",
     "start_time": "2016-03-14T21:45:08.623064"
    },
    "collapsed": true,
    "scrolled": true
   },
   "outputs": [],
   "source": [
    "# query obtained from SkyServer interface\n",
    "# Queries the Sloan Digital Sky Survey's Data Release 12.\n",
    "# For schema and documentation see http://skyserver.sdss.org\n",
    "#\n",
    "# This query finds galaxies in the SDSS database that have a spectrum taken and which have a size (petror90_r)\n",
    "# larger than 10 arcsec.\n",
    "# We return \n",
    "query=\"\"\"\n",
    "SELECT TOP 16 p.objId,p.ra,p.dec,p.petror90_r\n",
    "  FROM galaxy AS p\n",
    "   JOIN SpecObj AS s ON s.bestobjid = p.objid\n",
    "WHERE p.u BETWEEN 0 AND 19.6\n",
    "  AND p.g BETWEEN 0 AND 17\n",
    "  AND p.petror90_r > 10\n",
    "\"\"\"\n",
    "\n",
    "# query CasJobs table. Using DR12 as context. I.e. a connection is made to DR12 when running the query.\n",
    "gals = cj.executeQuery(query, \"dr12\")"
   ]
  },
  {
   "cell_type": "code",
   "execution_count": null,
   "metadata": {
    "ExecuteTime": {
     "end_time": "2016-03-14T21:45:28.920183",
     "start_time": "2016-03-14T21:45:28.896024"
    }
   },
   "outputs": [],
   "source": [
    "# show the table\n",
    "gals"
   ]
  },
  {
   "cell_type": "markdown",
   "metadata": {},
   "source": [
    "# 4. Simple Plot"
   ]
  },
  {
   "cell_type": "code",
   "execution_count": null,
   "metadata": {
    "ExecuteTime": {
     "end_time": "2016-03-14T21:47:03.963130",
     "start_time": "2016-03-14T21:47:03.639247"
    }
   },
   "outputs": [],
   "source": [
    "plt.scatter(gals['ra'], gals['dec'])\n",
    "plt.show() "
   ]
  },
  {
   "cell_type": "markdown",
   "metadata": {},
   "source": [
    "# 5. Storing results on local scratch disk as an HDF5 file for later reuse\n",
    "After running the next script view the folder <tt>persistent/science demos/</tt> of the Jupyter notebook to see the files."
   ]
  },
  {
   "cell_type": "code",
   "execution_count": null,
   "metadata": {
    "ExecuteTime": {
     "end_time": "2016-03-14T21:53:02.152795",
     "start_time": "2016-03-14T21:53:02.116519"
    },
    "collapsed": true
   },
   "outputs": [],
   "source": [
    "# store result as HDF5 file \n",
    "h5store = pandas.HDFStore('GalaxyThumbSample.h5')\n",
    "h5store['galaxies']=gals\n",
    "h5store.close()\n",
    "\n",
    "# store result as CSV file\n",
    "gals.to_csv('GalaxyThumbSample.csv')"
   ]
  },
  {
   "cell_type": "markdown",
   "metadata": {},
   "source": [
    "# 6. Retrieve cut-outs/thumbnails of galaxies,show them on screen, write them to SciDrive and retrieve public URLs\n",
    "SkyServer has a service that will produce a JPG cut-out of certain dimensions around a specified position. It uses a pre-defined image pyramid for this. We can construct the URL of the service form the query results and retrieve the images using standard python functions. We use the Petrosian radius along with the pixel size and desired width to set the appropriate scale for each cutout so as to produce a postage stamp image of each object."
   ]
  },
  {
   "cell_type": "code",
   "execution_count": null,
   "metadata": {},
   "outputs": [],
   "source": [
    "# create a container for the images in SciDrive\n",
    "container = 'thumbnails_20171210e'\n",
    "try : # if the container does not exist, this request will throw an exception, bit of a hack...\n",
    "    url = scid.publicUrl(container)\n",
    "except Exception :\n",
    "    scid.createContainer(container)"
   ]
  },
  {
   "cell_type": "code",
   "execution_count": null,
   "metadata": {
    "ExecuteTime": {
     "end_time": "2016-03-14T20:31:40.329660",
     "start_time": "2016-03-14T20:31:32.724476"
    },
    "scrolled": false
   },
   "outputs": [],
   "source": [
    "# get thumbnail cutout, write to scidrive and plot on screen.\n",
    "# store public URLs for the scidrive images\n",
    "width=200\n",
    "height=200\n",
    "pixelsize=0.396\n",
    "plt.figure(figsize=(15, 15))\n",
    "subPlotNum = 1\n",
    "\n",
    "\n",
    "puburls=[]\n",
    "tempfile='/home/idies/workspace/scratch/TMP.jpg'\n",
    "for index,gal in gals.iterrows():\n",
    "    scale=2*gal['petror90_r']/pixelsize/width\n",
    "\n",
    "    # perform image cutout using skyserver \n",
    "    img=skys.getJpegImgCutout(ra=gal['ra'], dec=gal['dec'], scale=scale, width=width, height=height)\n",
    "    \n",
    "    # save the image to a JPG file in SciDrive\n",
    "    # TODO find out what data type to use to avoid having to write to/read from scratch file\n",
    "    # preferrable would be something like next, but this particular solution does not work.\n",
    "    #    scid.upload(scidrivename_name, data=img) \n",
    "    skimage.io.imsave(tempfile,img)\n",
    "    scidrivename_name = container+\"/new_\"+str(index)+\".jpg\"\n",
    "    scid.upload(scidrivename_name, localFilePath=tempfile) \n",
    "        \n",
    "    # store the public URL of the newly uploaded SciDrive file\n",
    "    puburls.append(scid.publicUrl(scidrivename_name))\n",
    "\n",
    "    plt.subplot(4,4,subPlotNum)\n",
    "    subPlotNum += 1\n",
    "    plt.imshow(img)\n",
    "    # show the object identifier (objId) above the image.\n",
    "    plt.title(gal['objId'])\n",
    "\n",
    "gals['pubURL']=puburls\n"
   ]
  },
  {
   "cell_type": "markdown",
   "metadata": {},
   "source": [
    "### Check after ... http://www.scidrive.org"
   ]
  },
  {
   "cell_type": "code",
   "execution_count": null,
   "metadata": {
    "ExecuteTime": {
     "end_time": "2016-03-14T21:00:29.038640",
     "start_time": "2016-03-14T21:00:29.033694"
    }
   },
   "outputs": [],
   "source": [
    "print(puburls[0])"
   ]
  },
  {
   "cell_type": "markdown",
   "metadata": {},
   "source": [
    "# 7. Store result in MyDB table\n",
    "### Check before ...  http://skyserver.sdss.org/CasJobs/MyDB.aspx"
   ]
  },
  {
   "cell_type": "code",
   "execution_count": null,
   "metadata": {
    "ExecuteTime": {
     "end_time": "2016-03-14T22:16:06.085716",
     "start_time": "2016-03-14T22:16:06.045913"
    }
   },
   "outputs": [],
   "source": [
    "# add column with public urls to the galaxies table ...\n",
    "gals['pubURL']=puburls\n",
    "gals"
   ]
  },
  {
   "cell_type": "code",
   "execution_count": null,
   "metadata": {},
   "outputs": [],
   "source": [
    "# create table in MyDB. Delete it first if it already exists\n",
    "thumbsTable='GalaxyThumbs'\n",
    "ddl = \"\"\"\n",
    "IF EXISTS (select * from information_schema.tables where table_name='{0}') \n",
    "BEGIN\n",
    "    DROP TABLE {0}\n",
    "END\n",
    "CREATE TABLE {0}(objId bigint, ra real, dec real, petror90_r real, pubURL varchar(128))\"\"\".format(thumbsTable)\n",
    "\n",
    "response = cj.executeQuery(ddl)"
   ]
  },
  {
   "cell_type": "code",
   "execution_count": null,
   "metadata": {
    "ExecuteTime": {
     "end_time": "2016-03-14T22:17:07.246394",
     "start_time": "2016-03-14T22:17:07.021840"
    }
   },
   "outputs": [],
   "source": [
    "# upload directly form DataFrame\n",
    "response=cj.uploadPandasDataFrameToTable(gals,thumbsTable)\n"
   ]
  },
  {
   "cell_type": "markdown",
   "metadata": {},
   "source": [
    "### Check after ...  http://skyserver.sdss.org/CasJobs/MyDB.aspx\n"
   ]
  }
 ],
 "metadata": {
  "kernelspec": {
   "display_name": "Python 3",
   "language": "python",
   "name": "python3"
  },
  "language_info": {
   "codemirror_mode": {
    "name": "ipython",
    "version": 3
   },
   "file_extension": ".py",
   "mimetype": "text/x-python",
   "name": "python",
   "nbconvert_exporter": "python",
   "pygments_lexer": "ipython3",
   "version": "3.6.1"
  }
 },
 "nbformat": 4,
 "nbformat_minor": 1
}
