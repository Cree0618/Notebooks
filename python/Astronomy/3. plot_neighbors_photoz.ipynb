{
 "cells": [
  {
   "cell_type": "markdown",
   "metadata": {},
   "source": [
    "# Notebook 3: Photo-Z regression calculator\n",
    "\n",
    "This notebook calculates a regression fit for photometric redshifts of galaxies. It uses the following steps:\n",
    "\n",
    "- Queries a training set of galaxies for which redshifts are available (redshift is a rough measure of the distance to a galaxy).\n",
    "- Derives a k-nearest-neighbour regressor that determines a redshift estimate from 5 \"broad-band\" magnitudes\n",
    "- Tests the derived regressor against a test dataset by plotting actual redshifts of galaxies in the test set against redshifts predicted by the regressor.\n",
    "\n",
    "Author: Jake VanderPlas (vanderplas@astro.washington.edu)\n",
    "\n",
    "License: BSD\n",
    "\n",
    "The figure is an example from astroML: see http://astroml.github.com\n",
    "\n",
    "Modified to work with SDSS data by Dmitry Medvedev (dmedv@jhu.edu)"
   ]
  },
  {
   "cell_type": "code",
   "execution_count": 2,
   "metadata": {
    "ExecuteTime": {
     "end_time": "2016-04-26T14:31:41.177545",
     "start_time": "2016-04-26T14:31:41.169799"
    },
    "collapsed": false
   },
   "outputs": [],
   "source": [
    "# Step 1: as usual, get token and make it available as \n",
    "#     a system variable for this session.\n",
    "#   The token must be replaced with new one once it has \n",
    "#     expired, so you may need to run this block again.\n",
    "with open('/home/idies/keystone.token', 'r') as f:\n",
    "    token = f.read().rstrip('\\n')# replace with your own token ID\n",
    "import sys\n",
    "sys.argv.append(\"--ident=\"+token)\n",
    "# The token is now available as a system variable called \"XXXXXXXX\""
   ]
  },
  {
   "cell_type": "code",
   "execution_count": 3,
   "metadata": {
    "ExecuteTime": {
     "end_time": "2016-04-26T14:34:12.542251",
     "start_time": "2016-04-26T14:34:11.507866"
    },
    "collapsed": true
   },
   "outputs": [],
   "source": [
    "import SciServer.CasJobs as CasJobs   # work with CasJobs\n",
    "from io import StringIO   # work with strings\n",
    "import numpy as np   # standard Python math package\n",
    "import pandas   # \"pandas\" package for data processing\n",
    "from matplotlib import pyplot as plt   # plotting\n",
    "from sklearn.neighbors import KNeighborsRegressor   # find regressor\n",
    "from astroML.plotting import scatter_contour   # make scatterplot"
   ]
  },
  {
   "cell_type": "code",
   "execution_count": 3,
   "metadata": {
    "ExecuteTime": {
     "end_time": "2016-04-25T16:51:36.185717",
     "start_time": "2016-04-25T16:51:36.179928"
    },
    "collapsed": false
   },
   "outputs": [],
   "source": [
    "# some special settings\n",
    "# ensure columns get written completely in notebook\n",
    "pandas.set_option('display.max_colwidth', -1)\n",
    "# do *not* show python warnings \n",
    "import warnings\n",
    "warnings.filterwarnings('ignore')"
   ]
  },
  {
   "cell_type": "code",
   "execution_count": 4,
   "metadata": {
    "ExecuteTime": {
     "end_time": "2016-04-25T16:51:41.785547",
     "start_time": "2016-04-25T16:51:41.777655"
    },
    "collapsed": true
   },
   "outputs": [],
   "source": [
    "NOBJECTS = 20000\n",
    "GAL_COLORS_DTYPE = [('u', float),\n",
    "                    ('g', float),\n",
    "                    ('r', float),\n",
    "                    ('i', float),\n",
    "                    ('z', float),\n",
    "                    ('redshift', float),\n",
    "                    ('redshift_err', float)]"
   ]
  },
  {
   "cell_type": "markdown",
   "metadata": {},
   "source": [
    "Now we do this"
   ]
  },
  {
   "cell_type": "code",
   "execution_count": 5,
   "metadata": {
    "ExecuteTime": {
     "end_time": "2016-04-25T16:52:16.601662",
     "start_time": "2016-04-25T16:51:49.050535"
    },
    "collapsed": false
   },
   "outputs": [
    {
     "name": "stdout",
     "output_type": "stream",
     "text": [
      "executeQuery POST response:  200 OK\n"
     ]
    }
   ],
   "source": [
    "# get data from CasJobs\n",
    "query_text = ('\\n'.join(\n",
    "    (\"SELECT TOP %i\" % NOBJECTS,\n",
    "    \"   p.u, p.g, p.r, p.i, p.z, s.z, s.zerr\",\n",
    "    \"FROM PhotoObj AS p\",\n",
    "    \"   JOIN SpecObj AS s ON s.bestobjid = p.objid\",\n",
    "    \"WHERE \",\n",
    "    \"   p.u BETWEEN 0 AND 19.6\",\n",
    "    \"   AND p.g BETWEEN 0 AND 20\",\n",
    "    \"   AND (s.class = 'GALAXY' OR s.class = 'QSO')\")))\n",
    "response = CasJobs.executeQuery(query_text, \"DR12\", token = token)\n",
    "# read the result as a\n",
    "output = StringIO(response.read().decode())\n",
    "data = np.loadtxt(output, delimiter=',',skiprows=1, dtype=GAL_COLORS_DTYPE)"
   ]
  },
  {
   "cell_type": "code",
   "execution_count": 6,
   "metadata": {
    "ExecuteTime": {
     "end_time": "2016-04-25T16:52:37.617780",
     "start_time": "2016-04-25T16:52:37.611888"
    },
    "collapsed": false
   },
   "outputs": [
    {
     "name": "stdout",
     "output_type": "stream",
     "text": [
      "[ (19.50771, 17.58796, 16.61911, 16.15772, 15.84043, 0.09494177, 1.315234e-05)\n",
      " (19.11732, 17.15754, 16.09585, 15.61398, 15.24157, 0.1148384, 2.056456e-05)\n",
      " (19.23904, 17.18665, 16.14616, 15.7115, 15.27712, 0.09135894, 1.521454e-05)\n",
      " (19.476, 17.466, 16.45814, 16.00689, 15.63121, 0.09640553, 1.426369e-05)\n",
      " (19.49722, 17.53199, 16.54039, 16.1251, 15.80431, 0.09695929, 1.246576e-05)\n",
      " (19.37358, 17.33834, 16.35108, 15.91889, 15.58481, 0.1019636, 1.438762e-05)\n",
      " (19.04837, 17.03156, 16.07271, 15.62632, 15.3128, 0.1015565, 1.566082e-05)\n",
      " (18.97821, 17.07366, 16.13625, 15.65121, 15.34174, 0.06836177, 1.32015e-05)\n",
      " (19.00721, 17.09096, 16.17937, 15.73111, 15.4603, 0.09046934, 1.492269e-05)]\n"
     ]
    }
   ],
   "source": [
    "# show some of the data\n",
    "print(data[1:10])"
   ]
  },
  {
   "cell_type": "code",
   "execution_count": 9,
   "metadata": {
    "ExecuteTime": {
     "end_time": "2016-04-25T16:53:16.272996",
     "start_time": "2016-04-25T16:53:16.074680"
    },
    "collapsed": false
   },
   "outputs": [
    {
     "name": "stdout",
     "output_type": "stream",
     "text": [
      "RMS error = 0.34\n"
     ]
    }
   ],
   "source": [
    "n_neighbors = 1\n",
    "\n",
    "N = len(data)\n",
    "\n",
    "# shuffle data\n",
    "np.random.seed(0)\n",
    "np.random.shuffle(data)\n",
    "\n",
    "# put colors in a matrix\n",
    "X = np.zeros((N, 4))\n",
    "X[:, 0] = data['u'] - data['g']\n",
    "X[:, 1] = data['g'] - data['r']\n",
    "X[:, 2] = data['r'] - data['i']\n",
    "X[:, 3] = data['i'] - data['z']\n",
    "z = data['redshift']\n",
    "\n",
    "# divide into training and testing data\n",
    "Ntrain = N / 2\n",
    "Xtrain = X[:Ntrain]\n",
    "ztrain = z[:Ntrain]\n",
    "\n",
    "Xtest = X[Ntrain:]\n",
    "ztest = z[Ntrain:]\n",
    "\n",
    "knn = KNeighborsRegressor(n_neighbors, weights='uniform')\n",
    "zpred = knn.fit(Xtrain, ztrain).predict(Xtest)\n",
    "\n",
    "rms = np.sqrt(np.mean((ztest - zpred) ** 2))\n",
    "print(\"RMS error = %.2g\" % rms)"
   ]
  },
  {
   "cell_type": "code",
   "execution_count": 10,
   "metadata": {
    "ExecuteTime": {
     "end_time": "2016-04-25T16:53:20.011878",
     "start_time": "2016-04-25T16:53:19.120662"
    },
    "collapsed": false
   },
   "outputs": [
    {
     "data": {
      "image/png": "[encoded data removed]",
      "text/plain": [
       "<matplotlib.figure.Figure at 0x7f9f5d31f2b0>"
      ]
     },
     "metadata": {},
     "output_type": "display_data"
    }
   ],
   "source": [
    "axis_lim = np.array([-0.1, 2.5])\n",
    "\n",
    "plt.figure(figsize=(12, 8))\n",
    "ax = plt.axes()\n",
    "plt.scatter(ztest, zpred, c='k', lw=0, s=4)\n",
    "plt.plot(axis_lim, axis_lim, '--k')\n",
    "plt.plot(axis_lim, axis_lim + rms, ':k')\n",
    "plt.plot(axis_lim, axis_lim - rms, ':k')\n",
    "plt.xlim(axis_lim)\n",
    "plt.ylim(axis_lim)\n",
    "\n",
    "plt.text(0.99, 0.02, \"RMS error = %.2g\" % rms,\n",
    "         ha='right', va='bottom', transform=ax.transAxes,\n",
    "         bbox=dict(ec='w', fc='w'), fontsize=16)\n",
    "\n",
    "plt.title('Photo-z: Nearest Neigbor Regression')\n",
    "plt.xlabel(r'$\\mathrm{z_{spec}}$', fontsize=20)\n",
    "plt.ylabel(r'$\\mathrm{z_{phot}}$', fontsize=20)\n",
    "plt.show()"
   ]
  }
 ],
 "metadata": {
  "kernelspec": {
   "display_name": "Python 3",
   "language": "python",
   "name": "python3"
  },
  "language_info": {
   "codemirror_mode": {
    "name": "ipython",
    "version": 3
   },
   "file_extension": ".py",
   "mimetype": "text/x-python",
   "name": "python",
   "nbconvert_exporter": "python",
   "pygments_lexer": "ipython3",
   "version": "3.4.4"
  }
 },
 "nbformat": 4,
 "nbformat_minor": 0
}
