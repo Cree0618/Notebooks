{
 "cells": [
  {
   "cell_type": "markdown",
   "metadata": {},
   "source": [
    "# Notebook 3: Photo-Z regression calculator\n",
    "\n",
    "This notebook calculates a regression fit for photometric redshifts of galaxies. It uses the following steps:\n",
    "\n",
    "- Queries a training set of galaxies for which redshifts are available (redshift is a rough measure of the distance to a galaxy).\n",
    "- Derives a k-nearest-neighbour regressor that determines a redshift estimate from 5 \"broad-band\" magnitudes\n",
    "- Tests the derived regressor against a test dataset by plotting actual redshifts of galaxies in the test set against redshifts predicted by the regressor.\n",
    "\n",
    "Author: Jake VanderPlas (vanderplas@astro.washington.edu)\n",
    "\n",
    "License: BSD\n",
    "\n",
    "The figure is an example from astroML: see http://astroml.github.com\n",
    "\n",
    "Modified to work with SDSS data by Dmitry Medvedev (dmedv@jhu.edu)"
   ]
  },
  {
   "cell_type": "code",
   "execution_count": null,
   "metadata": {
    "ExecuteTime": {
     "end_time": "2016-04-26T14:34:12.542251",
     "start_time": "2016-04-26T14:34:11.507866"
    },
    "collapsed": false
   },
   "outputs": [],
   "source": [
    "import SciServer.CasJobs as CasJobs # work with CasJobs\n",
    "from io import StringIO   # work with strings\n",
    "import numpy as np   # standard Python math package\n",
    "import pandas   # \"pandas\" package for data processing\n",
    "from matplotlib import pyplot as plt   # plotting\n",
    "from sklearn.neighbors import KNeighborsRegressor   # find regressor\n",
    "from astroML.plotting import scatter_contour   # make scatterplot\n",
    "print(\"OK\")"
   ]
  },
  {
   "cell_type": "code",
   "execution_count": null,
   "metadata": {
    "ExecuteTime": {
     "end_time": "2016-04-25T16:51:36.185717",
     "start_time": "2016-04-25T16:51:36.179928"
    },
    "collapsed": false
   },
   "outputs": [],
   "source": [
    "# some special settings\n",
    "# ensure columns get written completely in notebook\n",
    "pandas.set_option('display.max_colwidth', -1)\n",
    "# do *not* show python warnings \n",
    "import warnings\n",
    "#warnings.filterwarnings('ignore')\n",
    "print(\"OK\")"
   ]
  },
  {
   "cell_type": "code",
   "execution_count": null,
   "metadata": {
    "ExecuteTime": {
     "end_time": "2016-04-25T16:51:41.785547",
     "start_time": "2016-04-25T16:51:41.777655"
    },
    "collapsed": true
   },
   "outputs": [],
   "source": [
    "NOBJECTS =  20000\n",
    "GAL_COLORS_DTYPE = [('u', float),\n",
    "                    ('g', float),\n",
    "                    ('r', float),\n",
    "                    ('i', float),\n",
    "                    ('z', float),\n",
    "                    ('redshift', float),\n",
    "                    ('redshift_err', float)]"
   ]
  },
  {
   "cell_type": "markdown",
   "metadata": {},
   "source": [
    "Now we do this"
   ]
  },
  {
   "cell_type": "code",
   "execution_count": null,
   "metadata": {
    "ExecuteTime": {
     "end_time": "2016-04-25T16:52:16.601662",
     "start_time": "2016-04-25T16:51:49.050535"
    },
    "collapsed": false,
    "scrolled": false
   },
   "outputs": [],
   "source": [
    "# get data from CasJobs\n",
    "query_text = ('\\n'.join(\n",
    "    (\"SELECT TOP %i\" % NOBJECTS,\n",
    "    \"  p.objId, p.u, p.g, p.r, p.i, p.z, s.z as redshift, s.zerr\",\n",
    "    \"FROM PhotoObj AS p\",\n",
    "    \"   JOIN SpecObj AS s ON s.bestobjid = p.objid\",\n",
    "    \"WHERE \",\n",
    "    \"   p.u BETWEEN 0 AND 19.6\",\n",
    "    \"   AND p.g BETWEEN 0 AND 20\",\n",
    "    \"   AND (s.class = 'GALAXY' OR s.class = 'QSO')\")))\n",
    "\n",
    "data = CasJobs.executeQuery(query_text, \"DR14\")\n",
    "data = data.set_index('objId')\n",
    "\n",
    "# Show the first 10 rows\n",
    "data.head(10)"
   ]
  },
  {
   "cell_type": "code",
   "execution_count": null,
   "metadata": {
    "ExecuteTime": {
     "end_time": "2016-04-25T16:53:16.272996",
     "start_time": "2016-04-25T16:53:16.074680"
    },
    "collapsed": false
   },
   "outputs": [],
   "source": [
    "n_neighbors = 1\n",
    "\n",
    "N = len(data)\n",
    "\n",
    "# shuffle data\n",
    "np.random.seed(0)\n",
    "np.random.shuffle(data.as_matrix())\n",
    "\n",
    "# put colors in a matrix\n",
    "X = np.zeros((N, 4))\n",
    "X[:, 0] = data['u'] - data['g']\n",
    "X[:, 1] = data['g'] - data['r']\n",
    "X[:, 2] = data['r'] - data['i']\n",
    "X[:, 3] = data['i'] - data['z']\n",
    "z = data['redshift'].as_matrix()\n",
    "\n",
    "# divide into training and testing data\n",
    "Ntrain = int(np.round(N/2, 0))\n",
    "\n",
    "Xtrain = X[0:Ntrain]\n",
    "ztrain = z[:Ntrain]\n",
    "\n",
    "Xtest = X[Ntrain:]\n",
    "ztest = z[Ntrain:]\n",
    "\n",
    "knn = KNeighborsRegressor(n_neighbors, weights='uniform')\n",
    "zpred = knn.fit(Xtrain, ztrain).predict(Xtest)\n",
    "\n",
    "rms = np.sqrt(np.mean((ztest - zpred) ** 2))\n",
    "print(\"RMS error = {0:.2f}\".format(rms))"
   ]
  },
  {
   "cell_type": "code",
   "execution_count": null,
   "metadata": {
    "ExecuteTime": {
     "end_time": "2016-04-25T16:53:20.011878",
     "start_time": "2016-04-25T16:53:19.120662"
    },
    "collapsed": false,
    "scrolled": true
   },
   "outputs": [],
   "source": [
    "axis_lim = np.array([-0.1, 2.5])\n",
    "\n",
    "plt.figure(figsize=(12, 8))\n",
    "ax = plt.axes()\n",
    "plt.scatter(ztest, zpred, c='k', lw=0, s=4)\n",
    "plt.plot(axis_lim, axis_lim, '--k')\n",
    "plt.plot(axis_lim, axis_lim + rms, ':k')\n",
    "plt.plot(axis_lim, axis_lim - rms, ':k')\n",
    "plt.xlim(axis_lim)\n",
    "plt.ylim(axis_lim)\n",
    "\n",
    "plt.text(0.99, 0.02, \"RMS error = %.2g\" % rms,\n",
    "         ha='right', va='bottom', transform=ax.transAxes,\n",
    "         bbox=dict(ec='w', fc='w'), fontsize=16)\n",
    "\n",
    "plt.title('Photo-z: Nearest Neigbor Regression')\n",
    "plt.xlabel(r'$\\mathrm{z_{spec}}$', fontsize=20)\n",
    "plt.ylabel(r'$\\mathrm{z_{phot}}$', fontsize=20)\n",
    "plt.show()"
   ]
  }
 ],
 "metadata": {
  "kernelspec": {
   "display_name": "Python 3",
   "language": "python",
   "name": "python3"
  },
  "language_info": {
   "codemirror_mode": {
    "name": "ipython",
    "version": 3
   },
   "file_extension": ".py",
   "mimetype": "text/x-python",
   "name": "python",
   "nbconvert_exporter": "python",
   "pygments_lexer": "ipython3",
   "version": "3.5.3"
  }
 },
 "nbformat": 4,
 "nbformat_minor": 0
}
