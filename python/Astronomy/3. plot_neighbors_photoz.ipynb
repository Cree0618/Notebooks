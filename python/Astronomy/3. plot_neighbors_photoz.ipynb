{
 "cells": [
  {
   "cell_type": "markdown",
   "metadata": {},
   "source": [
    "# Photo-Z regression calculator\n",
    "- Query training set of galaxies for which redshift (~distance measure) is available.\n",
    "- Derive a k-nearest-neighbour regressor that determines redshift estimate from 5 \"broad-band\" magnitudes\n",
    "- Test regressor against test set by plotting predicted vs actual redshift"
   ]
  },
  {
   "cell_type": "markdown",
   "metadata": {},
   "source": [
    "## Author: Jake VanderPlas <vanderplas@astro.washington.edu>\n",
    "## License: BSD\n",
    "##   The figure is an example from astroML: see http://astroML.github.com\n",
    "\n",
    "## Modified by: Dmitry Medvedev <dmedv@jhu.edu> to work with SDSS DB\n"
   ]
  },
  {
   "cell_type": "code",
   "execution_count": 2,
   "metadata": {
    "ExecuteTime": {
     "end_time": "2016-03-14T20:41:32.162928",
     "start_time": "2016-03-14T20:41:32.156624"
    },
    "collapsed": false
   },
   "outputs": [],
   "source": [
    "# standard first block for defining the token and makinhg it available as a system variable for the session\n",
    "# token must be replaced with new one once it has expired\n",
    "with open('/home/idies/keystone.token', 'r') as f:\n",
    "    token = f.read().rstrip('\\n')# replace with your own token ID\n",
    "import sys\n",
    "sys.argv.append(\"--ident=\"+token)"
   ]
  },
  {
   "cell_type": "code",
   "execution_count": 5,
   "metadata": {
    "ExecuteTime": {
     "end_time": "2016-03-14T20:41:43.458483",
     "start_time": "2016-03-14T20:41:43.451342"
    },
    "collapsed": true
   },
   "outputs": [],
   "source": [
    "import SciServer.CasJobs as CasJobs\n",
    "from io import StringIO\n",
    "import numpy as np\n",
    "import pandas\n",
    "from matplotlib import pyplot as plt\n",
    "from sklearn.neighbors import KNeighborsRegressor\n",
    "from astroML.plotting import scatter_contour"
   ]
  },
  {
   "cell_type": "code",
   "execution_count": 6,
   "metadata": {
    "ExecuteTime": {
     "end_time": "2016-03-14T20:41:44.385870",
     "start_time": "2016-03-14T20:41:44.378985"
    },
    "collapsed": false
   },
   "outputs": [],
   "source": [
    "# some special settings\n",
    "# ensure columns get written completely in notebook\n",
    "pandas.set_option('display.max_colwidth', -1)\n",
    "# do *not* show python warnings \n",
    "import warnings\n",
    "warnings.filterwarnings('ignore')"
   ]
  },
  {
   "cell_type": "code",
   "execution_count": 7,
   "metadata": {
    "ExecuteTime": {
     "end_time": "2016-03-14T20:41:47.113029",
     "start_time": "2016-03-14T20:41:47.105790"
    },
    "collapsed": true
   },
   "outputs": [],
   "source": [
    "NOBJECTS = 20000\n",
    "GAL_COLORS_DTYPE = [('u', float),\n",
    "                    ('g', float),\n",
    "                    ('r', float),\n",
    "                    ('i', float),\n",
    "                    ('z', float),\n",
    "                    ('redshift', float),\n",
    "                    ('redshift_err', float)]"
   ]
  },
  {
   "cell_type": "markdown",
   "metadata": {},
   "source": [
    "Now we do this"
   ]
  },
  {
   "cell_type": "code",
   "execution_count": 8,
   "metadata": {
    "ExecuteTime": {
     "end_time": "2016-03-14T20:41:59.052306",
     "start_time": "2016-03-14T20:41:53.371145"
    },
    "collapsed": false
   },
   "outputs": [
    {
     "name": "stdout",
     "output_type": "stream",
     "text": [
      "executeQuery POST response:  200 OK\n"
     ]
    }
   ],
   "source": [
    "# get data from CasJobs\n",
    "query_text = ('\\n'.join(\n",
    "    (\"SELECT TOP %i\" % NOBJECTS,\n",
    "    \"   p.u, p.g, p.r, p.i, p.z, s.z, s.zerr\",\n",
    "    \"FROM PhotoObj AS p\",\n",
    "    \"   JOIN SpecObj AS s ON s.bestobjid = p.objid\",\n",
    "    \"WHERE \",\n",
    "    \"   p.u BETWEEN 0 AND 19.6\",\n",
    "    \"   AND p.g BETWEEN 0 AND 20\",\n",
    "    \"   AND (s.class = 'GALAXY' OR s.class = 'QSO')\")))\n",
    "response = CasJobs.executeQuery(query_text, \"DR12\", token = token)\n",
    "# read the result as a\n",
    "output = StringIO(response.read().decode())\n",
    "data = np.loadtxt(output, delimiter=',',skiprows=1, dtype=GAL_COLORS_DTYPE)"
   ]
  },
  {
   "cell_type": "code",
   "execution_count": 29,
   "metadata": {
    "ExecuteTime": {
     "end_time": "2016-03-14T20:49:32.438760",
     "start_time": "2016-03-14T20:49:32.433082"
    },
    "collapsed": false
   },
   "outputs": [
    {
     "name": "stdout",
     "output_type": "stream",
     "text": [
      "[ (18.83112, 17.29024, 16.50008, 16.11667, 15.84818, 0.0782107, 2.577068e-05)\n",
      " (19.05429, 17.53863, 17.28942, 16.76724, 16.40356, 0.03804972, 8.51579e-06)\n",
      " (18.64129, 16.88924, 16.01846, 15.59155, 15.28224, 0.08794436, 2.157527e-05)\n",
      " (19.59348, 17.36073, 16.19878, 15.61329, 15.16467, 0.06480569, 2.268782e-05)\n",
      " (18.5298, 16.83844, 15.99536, 15.55486, 15.22578, 0.08297382, 1.623472e-05)\n",
      " (17.91679, 17.71118, 17.54662, 17.6206, 17.58281, 0.9855092, 0.0001681249)\n",
      " (17.84981, 17.61697, 17.55898, 17.67929, 17.50808, 0.8299965, 0.0001121338)\n",
      " (18.7498, 17.71191, 17.1269, 16.70263, 16.56216, 0.09988046, 7.11508e-06)\n",
      " (16.48823, 15.04822, 14.34598, 13.95731, 13.65474, 0.02533082, 1.154724e-05)]\n"
     ]
    }
   ],
   "source": [
    "# show some of the data\n",
    "print(data[1:10])"
   ]
  },
  {
   "cell_type": "code",
   "execution_count": 12,
   "metadata": {
    "ExecuteTime": {
     "end_time": "2016-03-14T20:42:59.477475",
     "start_time": "2016-03-14T20:42:59.290415"
    },
    "collapsed": false
   },
   "outputs": [
    {
     "name": "stdout",
     "output_type": "stream",
     "text": [
      "RMS error = 0.36\n"
     ]
    }
   ],
   "source": [
    "n_neighbors = 1\n",
    "\n",
    "N = len(data)\n",
    "\n",
    "# shuffle data\n",
    "np.random.seed(0)\n",
    "np.random.shuffle(data)\n",
    "\n",
    "# put colors in a matrix\n",
    "X = np.zeros((N, 4))\n",
    "X[:, 0] = data['u'] - data['g']\n",
    "X[:, 1] = data['g'] - data['r']\n",
    "X[:, 2] = data['r'] - data['i']\n",
    "X[:, 3] = data['i'] - data['z']\n",
    "z = data['redshift']\n",
    "\n",
    "# divide into training and testing data\n",
    "Ntrain = N / 2\n",
    "Xtrain = X[:Ntrain]\n",
    "ztrain = z[:Ntrain]\n",
    "\n",
    "Xtest = X[Ntrain:]\n",
    "ztest = z[Ntrain:]\n",
    "\n",
    "knn = KNeighborsRegressor(n_neighbors, weights='uniform')\n",
    "zpred = knn.fit(Xtrain, ztrain).predict(Xtest)\n",
    "\n",
    "rms = np.sqrt(np.mean((ztest - zpred) ** 2))\n",
    "print(\"RMS error = %.2g\" % rms)"
   ]
  },
  {
   "cell_type": "code",
   "execution_count": 26,
   "metadata": {
    "ExecuteTime": {
     "end_time": "2016-03-14T20:48:16.512564",
     "start_time": "2016-03-14T20:48:15.610568"
    },
    "collapsed": false
   },
   "outputs": [
    {
     "data": {
      "image/png": "[encoded data removed]",
      "text/plain": [
       "<matplotlib.figure.Figure at 0x7f99d01b6eb8>"
      ]
     },
     "metadata": {},
     "output_type": "display_data"
    }
   ],
   "source": [
    "axis_lim = np.array([-0.1, 2.5])\n",
    "\n",
    "plt.figure(figsize=(12, 8))\n",
    "ax = plt.axes()\n",
    "plt.scatter(ztest, zpred, c='k', lw=0, s=4)\n",
    "plt.plot(axis_lim, axis_lim, '--k')\n",
    "plt.plot(axis_lim, axis_lim + rms, ':k')\n",
    "plt.plot(axis_lim, axis_lim - rms, ':k')\n",
    "plt.xlim(axis_lim)\n",
    "plt.ylim(axis_lim)\n",
    "\n",
    "plt.text(0.99, 0.02, \"RMS error = %.2g\" % rms,\n",
    "         ha='right', va='bottom', transform=ax.transAxes,\n",
    "         bbox=dict(ec='w', fc='w'), fontsize=16)\n",
    "\n",
    "plt.title('Photo-z: Nearest Neigbor Regression')\n",
    "plt.xlabel(r'$\\mathrm{z_{spec}}$', fontsize=20)\n",
    "plt.ylabel(r'$\\mathrm{z_{phot}}$', fontsize=20)\n",
    "plt.show()"
   ]
  }
 ],
 "metadata": {
  "kernelspec": {
   "display_name": "Python 3",
   "language": "python",
   "name": "python3"
  },
  "language_info": {
   "codemirror_mode": {
    "name": "ipython",
    "version": 3
   },
   "file_extension": ".py",
   "mimetype": "text/x-python",
   "name": "python",
   "nbconvert_exporter": "python",
   "pygments_lexer": "ipython3",
   "version": "3.4.4"
  }
 },
 "nbformat": 4,
 "nbformat_minor": 0
}
