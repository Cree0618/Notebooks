{
 "cells": [
  {
   "cell_type": "markdown",
   "metadata": {},
   "source": [
    "### Query SDSS stripe 82 database for multiple observations of same object, make cutouts and co-add, display all together with JPEG cutout.\n",
    "Thanks to Ani Thakar for SQL"
   ]
  },
  {
   "cell_type": "code",
   "execution_count": null,
   "metadata": {
    "collapsed": false
   },
   "outputs": [],
   "source": [
    "import SciServer.CasJobs\n",
    "import pandas\n",
    "import tables\n",
    "import numpy as np\n",
    "import astropy\n",
    "from astropy.io import fits\n",
    "from astropy import wcs\n",
    "import skimage.io\n",
    "import urllib\n",
    "import os\n",
    "import img_scale\n",
    "\n",
    "%config InlineBackend.rc = {}\n",
    "import matplotlib\n",
    "import matplotlib.pyplot as plt\n",
    "#matplotlib.rc_file(\"matplotlibrc\")\n",
    "%matplotlib inline\n",
    "\n",
    "import warnings\n",
    "warnings.filterwarnings('ignore')\n",
    "print(\"OK\")"
   ]
  },
  {
   "cell_type": "code",
   "execution_count": null,
   "metadata": {
    "collapsed": false
   },
   "outputs": [],
   "source": [
    "sql=\"\"\"\n",
    "SELECT a.objid as head, c.objid2 as match, b.matchcount, \n",
    "       p.fieldid as head_field, d.fieldid as match_field, \n",
    "       dbo.fGetUrlFitsCFrame(d.fieldid, 'g') as fits_g,\n",
    "       dbo.fGetUrlFitsCFrame(d.fieldid, 'r') as fits_r,\n",
    "       dbo.fGetUrlFitsCFrame(d.fieldid, 'z') as fits_z,\n",
    "       p.ra, d.ra as match_ra, p.dec, d.dec as match_dec\n",
    "       , p.petror90_r\n",
    "  from (select top 1 * from galaxy where objId=8658194378960928809) a\n",
    "      -- dbo.fGetNearbyObjEq(309.33, -1.08, 0.1) a\n",
    "   join matchhead b on a.objid=b.objid        -- join with matchhead\n",
    "   join photoobj p on a.objid=p.objid         -- get matchhead photoobj\n",
    "   join match c on c.objid1=b.objid           -- join with all the matches\n",
    "   join photoobjall d on c.objid2=d.objid     -- get match photoobj\n",
    "order by a.objid                              -- order by matchhead objid\n",
    "\"\"\"\n",
    "obss = SciServer.CasJobs.executeQuery(sql, \"Stripe82\")\n",
    "obss.head(3)"
   ]
  },
  {
   "cell_type": "code",
   "execution_count": null,
   "metadata": {
    "collapsed": false
   },
   "outputs": [],
   "source": [
    "def cutout(ff,ra,dec,hw):\n",
    "    hdulist = fits.open(ff)\n",
    "    w = wcs.WCS(hdulist[0].header)  \n",
    "    crd = np.array([[ra,dec]], np.float_)\n",
    "    pixcoords = np.around(list(w.wcs_world2pix(crd,1)))\n",
    "    sh=hdulist[0].data.shape\n",
    "    xfrom=max(0,pixcoords[0][1]-hw)\n",
    "    xto=min(pixcoords[0][1]+hw-1,sh[0])\n",
    "    yfrom=max(pixcoords[0][0]-hw,0)\n",
    "    yto=min(pixcoords[0][0]+hw-1,sh[1])\n",
    "    scidata = hdulist[0].data[xfrom:xto,yfrom:yto]\n",
    "\n",
    "    _img=np.zeros((hw*2-1,hw*2-1))\n",
    "    _mask=np.zeros(_img.shape)\n",
    "    \n",
    "    x0=hw-(pixcoords[0][1]-xfrom)\n",
    "    x1=hw+xto-pixcoords[0][1]\n",
    "    y0=hw-(pixcoords[0][0]-yfrom)\n",
    "    y1=hw+yto-pixcoords[0][0]\n",
    "    _img[x0:x1,y0:y1]=scidata\n",
    "    _mask[x0:x1,y0:y1]=1\n",
    "    _img=np.fliplr(_img.T)\n",
    "    _mask=np.fliplr(_mask.T)\n",
    "    return _img,_mask\n",
    "\n",
    "# Define a function for making a logarithmic gray scale\n",
    "def loggray(x, mask,a=None, b=None) :\n",
    "    if a == None:\n",
    "        a = np.min(x[mask>0])\n",
    "    if b == None:\n",
    "        b = np.max(x[mask>0])          \n",
    "    linval = 10.0 + 990.0 * (x-float(a))/(b-a)\n",
    "    linval[mask==0]=0.0 # force NaNs\n",
    "    return (np.log10(linval)-1.0)*0.5 * 255.0\n",
    "\n",
    "print(\"OK\")"
   ]
  },
  {
   "cell_type": "code",
   "execution_count": null,
   "metadata": {
    "collapsed": false,
    "scrolled": false
   },
   "outputs": [],
   "source": [
    "width=200\n",
    "height=200\n",
    "pixelsize=0.396\n",
    "_cmap='afmhot'\n",
    "#_cmap='cool'\n",
    "_vmin=1000\n",
    "_vmax=10000\n",
    "\n",
    "nx=4\n",
    "ny=2\n",
    "nmax=nx*ny\n",
    "plt.figure(figsize=(15, 15*nx/ny))\n",
    "sp = 1\n",
    "_min=np.inf\n",
    "_max=-np.inf\n",
    "for ix in range(0,nmax-2):\n",
    "    if ix == 0:\n",
    "        ra=obss.ra[ix]\n",
    "        dec=obss.dec[ix]\n",
    "        r90=obss.petror90_r[ix]\n",
    "        size=2*r90/pixelsize\n",
    "        scale=size/width\n",
    "        url=\"http://skyservice.pha.jhu.edu/DR12/ImgCutout/getjpeg.aspx?ra=\"+str(ra)\n",
    "        url+=\"&dec=\"+str(dec)+\"&scale=\"\"\"+str(scale)+\"&width=\"+str(width)\n",
    "        url+=\"&height=\"+str(height)\n",
    "    fits_r=obss.fits_r[ix]\n",
    "# IFF sdss_das is mounted read from file\n",
    "    if os.path.isdir('../../sdss_das/'):\n",
    "        fits_r=fits_r.replace('http://das.sdss.org','../../sdss_das/das2')\n",
    "    fimg,_mask=cutout(fits_r,ra,dec,np.floor(size))\n",
    "    if ix == 0:\n",
    "        stack = np.zeros(fimg.shape, dtype=float)\n",
    "        mask = np.zeros(stack.shape, dtype=float)\n",
    "    stack=stack+fimg\n",
    "    mask=mask+_mask\n",
    "    plt.subplot(nx,ny,sp)\n",
    "    \n",
    "#    scimg=loggray(fimg,_mask)\n",
    "    scimg=img_scale.asinh(fimg,scale_min=np.min(fimg[_mask>0]))\n",
    "\n",
    "    im=plt.imshow(scimg,  cmap=_cmap,origin='lower')\n",
    "    sp+=1\n",
    "ix=np.where(mask > 0.1)\n",
    "stack[ix]=stack[ix]/mask[ix]\n",
    "stack[mask==0]=0\n",
    "plt.subplot(nx,ny,sp)\n",
    "\n",
    "#scimg=loggray(stack,mask)\n",
    "scimg=img_scale.asinh(stack,scale_min=np.min(stack[mask>0]))\n",
    "im=plt.imshow(scimg,cmap=_cmap,origin='lower')\n",
    "plt.title('stack')\n",
    "img=skimage.io.imread(url)\n",
    "sp+=1\n",
    "plt.subplot(nx,ny,sp)\n",
    "plt.imshow(img)\n",
    "plt.title(\"JPEG\")"
   ]
  },
  {
   "cell_type": "code",
   "execution_count": null,
   "metadata": {
    "collapsed": false
   },
   "outputs": [],
   "source": [
    "nbins = 10\n",
    "histogram = plt.hist(scimg, bins=nbins)\n",
    "plt.yscale('log')"
   ]
  },
  {
   "cell_type": "code",
   "execution_count": null,
   "metadata": {
    "collapsed": true
   },
   "outputs": [],
   "source": []
  }
 ],
 "metadata": {
  "kernelspec": {
   "display_name": "Python 3",
   "language": "python",
   "name": "python3"
  },
  "language_info": {
   "codemirror_mode": {
    "name": "ipython",
    "version": 3
   },
   "file_extension": ".py",
   "mimetype": "text/x-python",
   "name": "python",
   "nbconvert_exporter": "python",
   "pygments_lexer": "ipython3",
   "version": "3.5.3"
  }
 },
 "nbformat": 4,
 "nbformat_minor": 0
}
