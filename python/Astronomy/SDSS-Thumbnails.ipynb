{
 "cells": [
  {
   "cell_type": "code",
   "execution_count": null,
   "metadata": {
    "collapsed": true
   },
   "outputs": [],
   "source": [
    "# standard first block for defining the token and makinhg it available as a system variable for the session\n",
    "# token must be replaced with new one once it has expired\n",
    "token=\"ab2467e8fccd49cf8a52651dfef7f5b8\"\n",
    "import sys\n",
    "sys.argv.append(\"--ident=\"+token)"
   ]
  },
  {
   "cell_type": "code",
   "execution_count": null,
   "metadata": {
    "collapsed": false
   },
   "outputs": [],
   "source": [
    "import numpy as np\n",
    "import pandas\n",
    "from astropy.io import fits\n",
    "import astropy\n",
    "import bz2\n",
    "import matplotlib.pyplot as plt\n",
    "import skimage.io\n",
    "import SciServer.CasJobs as CasJobs\n",
    "import SciServer.SciDrive"
   ]
  },
  {
   "cell_type": "code",
   "execution_count": null,
   "metadata": {
    "collapsed": false
   },
   "outputs": [],
   "source": [
    "query=\"\"\"\n",
    "select top 16 g.objId,g.ra,g.dec,g.petror90_r, dbo.fGetUrlFitsCFrame(F.FIELDiD,'r') as fieldURL\n",
    "from galaxy g\n",
    "  ,  field f\n",
    "where f.run=g.run\n",
    "  and f.camcol=g.camcol\n",
    "  and f.field=g.field\n",
    "  and f.rerun=g.rerun\n",
    "\"\"\"\n",
    "# query CasJobs table. Using DR12 as context\n",
    "queryResponse = CasJobs.executeQuery(query, \"DR12\")\n",
    "# parse results into pandas.DataFrame for further in memory processing\n",
    "gals = pandas.read_csv(queryResponse,index_col=None)\n",
    "gals['objId']=gals['objId'].astype(np.int64)"
   ]
  },
  {
   "cell_type": "code",
   "execution_count": null,
   "metadata": {
    "collapsed": false,
    "scrolled": false
   },
   "outputs": [],
   "source": [
    "width=200\n",
    "height=200\n",
    "pixelsize=0.396\n",
    "plt.figure(figsize=(15, 15))\n",
    "subPlotNum = 1\n",
    "\n",
    "for index,gal in gals.iterrows():\n",
    "    scale=2*gal['petror90_r']/pixelsize/width\n",
    "    url=\"http://skyservice.pha.jhu.edu/DR12/ImgCutout/getjpeg.aspx?ra=\"+str(gal['ra'])\n",
    "    url+=\"&dec=\"+str(gal['dec'])+\"&scale=\"\"\"+str(scale)+\"&width=\"+str(width)\n",
    "    url+=\"&height=\"+str(height)\n",
    "    img=skimage.io.imread(url)\n",
    "    plt.subplot(4,4,subPlotNum)\n",
    "    subPlotNum += 1\n",
    "    plt.imshow(img)\n",
    "    plt.title(gal['objId'])\n",
    "#    write images to scidrive\n",
    "\n",
    "# create container\n",
    "    "
   ]
  },
  {
   "cell_type": "code",
   "execution_count": null,
   "metadata": {
    "collapsed": false
   },
   "outputs": [],
   "source": [
    "#write images to scidrive\n",
    "container = 'thumbs'\n",
    "SciServer.SciDrive.createContainer(container)\n",
    "width=200\n",
    "height=200\n",
    "pixelsize=0.396\n",
    "\n",
    "for index,gal in gals.iterrows():\n",
    "    scale=2*gal['petror90_r']/pixelsize/width\n",
    "    url=\"http://skyservice.pha.jhu.edu/DR12/ImgCutout/getjpeg.aspx?ra=\"+str(gal['ra'])\n",
    "    url+=\"&dec=\"+str(gal['dec'])+\"&scale=\"\"\"+str(scale)+\"&width=\"+str(width)\n",
    "    url+=\"&height=\"+str(height)\n",
    "    req = urllib.request.Request(url=url,method='GET')\n",
    "    res = urllib.request.urlopen(req)\n",
    "    data=res.read()\n",
    "    scidrivename_name = container+\"/\"+str(gal['objId'])+\".jpg\"\n",
    "    SciServer.SciDrive.upload(scidrivename_name, data)\n"
   ]
  },
  {
   "cell_type": "code",
   "execution_count": null,
   "metadata": {
    "collapsed": true
   },
   "outputs": [],
   "source": []
  }
 ],
 "metadata": {
  "kernelspec": {
   "display_name": "Python 3",
   "language": "python",
   "name": "python3"
  },
  "language_info": {
   "codemirror_mode": {
    "name": "ipython",
    "version": 3
   },
   "file_extension": ".py",
   "mimetype": "text/x-python",
   "name": "python",
   "nbconvert_exporter": "python",
   "pygments_lexer": "ipython3",
   "version": "3.4.3"
  }
 },
 "nbformat": 4,
 "nbformat_minor": 0
}
