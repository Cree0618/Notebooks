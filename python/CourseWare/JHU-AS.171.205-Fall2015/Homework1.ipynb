{
 "cells": [
  {
   "cell_type": "markdown",
   "metadata": {},
   "source": [
    "# AS.171.205: Beautiful Data: Introduction to Practical Data Science\n",
    "## Teacher: Alex Szalay\n",
    "## Fall 2015\n",
    "See also: http://www.sdss.jhu.edu/~szalay/class/2015/data.htm\n",
    "\n",
    "For data files see:http://www.sdss.jhu.edu/~szalay/class/2015/data/"
   ]
  },
  {
   "cell_type": "markdown",
   "metadata": {},
   "source": [
    "### Homework 1.1\n",
    "http://www.sdss.jhu.edu/~szalay/class/2015/Homework-1.pdf\n",
    "\n",
    "Take a Cauchy distribution, $ 1/(1+x^2)$. Show that the distribution of the sum of two\n",
    "Cauchy variables is still a Cauchy. Do this numerically as an iPython notebook, through\n",
    "generating a few hundred random Cauchy variables"
   ]
  },
  {
   "cell_type": "markdown",
   "metadata": {},
   "source": [
    "### Homework 1.2\n",
    "http://www.sdss.jhu.edu/~szalay/class/2015/Homework-1.pdf\n",
    "\n",
    "Consider the data in the files a100.csv, b100.csv, s057.csv. Try to determine the\n",
    "underlying probability distributions of each data set."
   ]
  },
  {
   "cell_type": "markdown",
   "metadata": {},
   "source": [
    "### Homework 1.3\n",
    "http://www.sdss.jhu.edu/~szalay/class/2015/Homework-1.pdf\n",
    "\n",
    "Fit a linear relationship to the data in the files *fit.csv. Use an iPython notebook for\n",
    "the fitting."
   ]
  },
  {
   "cell_type": "markdown",
   "metadata": {},
   "source": [
    "### Homework 1.4\n",
    "http://www.sdss.jhu.edu/~szalay/class/2015/Homework-1.pdf\n",
    "\n",
    "The files noise01.csv to noise10.csv contain a random noise from a real\n",
    "instrument, measuring the intensity of light as a function of the voltage on a light\n",
    "source. The voltage goes from 0.1V to 1.0V, encoded in the filename. (0.1V, 0.2V, 0.3V,\n",
    "0.4V, 0.5V, 1.0V). Prove that the noise is due to the Poisson distribution of the discrete\n",
    "photons using iPython."
   ]
  },
  {
   "cell_type": "markdown",
   "metadata": {},
   "source": [
    "### Homework 1.5\n",
    "http://www.sdss.jhu.edu/~szalay/class/2015/Homework-1.pdf\n",
    "\n",
    "A die is rolled 24 times. Use the Central limit theorem to estimate the probability that\n",
    "1. The sum is greater than 84\n",
    "1. The sum is equal to 84\n",
    "1. Perform a hundred numerical realization to illustrate the result"
   ]
  },
  {
   "cell_type": "markdown",
   "metadata": {},
   "source": [
    "### Hint\n",
    "You can find relevant code samples for the regression in\n",
    "http://cadence.lsst.org/introAstroML/blog/regression.html"
   ]
  },
  {
   "cell_type": "code",
   "execution_count": null,
   "metadata": {
    "collapsed": true
   },
   "outputs": [],
   "source": []
  }
 ],
 "metadata": {
  "kernelspec": {
   "display_name": "Python 3",
   "language": "python",
   "name": "python3"
  },
  "language_info": {
   "codemirror_mode": {
    "name": "ipython",
    "version": 3
   },
   "file_extension": ".py",
   "mimetype": "text/x-python",
   "name": "python",
   "nbconvert_exporter": "python",
   "pygments_lexer": "ipython3",
   "version": "3.4.4"
  }
 },
 "nbformat": 4,
 "nbformat_minor": 0
}
