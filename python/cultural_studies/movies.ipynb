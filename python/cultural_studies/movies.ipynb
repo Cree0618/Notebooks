{
 "cells": [
  {
   "cell_type": "markdown",
   "metadata": {},
   "source": [
    "### First You Get the Money, Then You Get the Reviews, Then You Get the Internet Comments: A Quantitative Examination of the Relationship Between Critics, Viewers, and Box Office Success\n",
    "\n",
    "This notebook reconstructs the Analysis section of the paper <a href=\"http://dx.doi.org/10.1080/10509208.2016.1156426\">Berg & Raddick 2016</a>. The paper examines films released in the U.S. between 2000 and 2015, and studies the relationships between their financial success (measured by U.S. gross box office receipts), perceived quality among viewers (measured by IMDb user scores), and critical ratings (measured by the \"Metascores\" on metacritic.com).\n",
    "\n",
    "First, we load the data using the code block below. The code block displays the last 10 movies in the dataset, to prove that we have loaded the data correctly.\n",
    "\n",
    "## Results"
   ]
  },
  {
   "cell_type": "code",
   "execution_count": 105,
   "metadata": {
    "ExecuteTime": {
     "end_time": "2016-04-25T17:31:04.714614",
     "start_time": "2016-04-25T17:31:04.444436"
    },
    "collapsed": false
   },
   "outputs": [
    {
     "name": "stdout",
     "output_type": "stream",
     "text": [
      "Your username is: raddick\n",
      "Your current token is8a5a61c5099c430f93519ab3b6cbeace\n",
      "All SciServer libraries imported\n",
      "All supporting libraries imported\n",
      "options set\n"
     ]
    }
   ],
   "source": [
    "# This code block defined your token and makes it available as a \n",
    "#   system variable for the length of your current session.\n",
    "# \n",
    "# This will usually be the first code block in any script you write.\n",
    "\n",
    "import SciServer.LoginPortal as Login\n",
    "token=Login.getToken()\n",
    "user = Login.getKeystoneUserWithToken(token)\n",
    "print(\"Your username is: \"+user.userName)\n",
    "print(\"Your current token is\"+token)\n",
    "# Step 2a: Import Python libraries to work with SciServer\n",
    "\n",
    "import SciServer.CasJobs as CasJobs # query with CasJobs\n",
    "import SciServer.SciDrive           # read/write to/from SciDrive\n",
    "print(\"All SciServer libraries imported\")\n",
    "\n",
    "import numpy as np                  # standard Python lib for math ops\n",
    "import pandas                       # graphing package\n",
    "import matplotlib.pyplot as plt     # another graphing package\n",
    "from matplotlib.ticker import FormatStrFormatter\n",
    "import urllib                       # parse URLs\n",
    "import json      # Work with Javascript object notation (.json) files\n",
    "import datetime\n",
    "import dateutil\n",
    "#!pip install tabulate\n",
    "from tabulate import tabulate\n",
    "print(\"All supporting libraries imported\")\n",
    "# Step 2b: Apply some special settings to the imported libraries\n",
    "# ensure columns get written completely in notebook\n",
    "pandas.set_option('display.max_colwidth', -1)\n",
    "# do *not* show python warnings \n",
    "import warnings\n",
    "warnings.filterwarnings('ignore')\n",
    "print(\"options set\")\n",
    "# First, store the query in an object called \"query\"\n",
    "query=\"\"\"\n",
    "SELECT thekey, title, studio, openingdate, total_gross, adjusted_gross,\n",
    "nvotes,userscore,metascore\n",
    "from movies\n",
    "\"\"\"\n",
    "queryResponse = CasJobs.executeQuery(query, \"mydb\",token=token)\n",
    "movies = pandas.read_csv(queryResponse)\n",
    "#movies.tail(10)"
   ]
  },
  {
   "cell_type": "code",
   "execution_count": 106,
   "metadata": {
    "collapsed": false,
    "scrolled": false
   },
   "outputs": [
    {
     "name": "stdout",
     "output_type": "stream",
     "text": [
      "Here is your data:\n"
     ]
    },
    {
     "data": {
      "text/html": [
       "<div>\n",
       "<table border=\"1\" class=\"dataframe\">\n",
       "  <thead>\n",
       "    <tr style=\"text-align: right;\">\n",
       "      <th></th>\n",
       "      <th>thekey</th>\n",
       "      <th>title</th>\n",
       "      <th>studio</th>\n",
       "      <th>openingdate</th>\n",
       "      <th>total_gross</th>\n",
       "      <th>adjusted_gross</th>\n",
       "      <th>nvotes</th>\n",
       "      <th>userscore</th>\n",
       "      <th>metascore</th>\n",
       "      <th>openingdate_asdate</th>\n",
       "      <th>openingdate_formatted</th>\n",
       "      <th>total_gross_formatted</th>\n",
       "      <th>adjusted_gross_formatted</th>\n",
       "    </tr>\n",
       "  </thead>\n",
       "  <tbody>\n",
       "    <tr>\n",
       "      <th>0</th>\n",
       "      <td>fantasi992000</td>\n",
       "      <td>Fantasia 2000 [35mm &amp; IMAX]</td>\n",
       "      <td>BV</td>\n",
       "      <td>1/1/2000 12:00:00 AM</td>\n",
       "      <td>60655420</td>\n",
       "      <td>84991250.00</td>\n",
       "      <td>27013</td>\n",
       "      <td>7.3</td>\n",
       "      <td>59</td>\n",
       "      <td>2000-01-01</td>\n",
       "      <td>1/1/2000</td>\n",
       "      <td>$60,655,420</td>\n",
       "      <td>$84,991,250</td>\n",
       "    </tr>\n",
       "    <tr>\n",
       "      <th>1</th>\n",
       "      <td>nextfri00iday</td>\n",
       "      <td>Next Friday</td>\n",
       "      <td>NL</td>\n",
       "      <td>1/12/2000 12:00:00 AM</td>\n",
       "      <td>57328603</td>\n",
       "      <td>80329660.00</td>\n",
       "      <td>26773</td>\n",
       "      <td>6.1</td>\n",
       "      <td>41</td>\n",
       "      <td>2000-01-12</td>\n",
       "      <td>1/12/2000</td>\n",
       "      <td>$57,328,603</td>\n",
       "      <td>$80,329,660</td>\n",
       "    </tr>\n",
       "    <tr>\n",
       "      <th>2</th>\n",
       "      <td>mydogsk00skip</td>\n",
       "      <td>My Dog Skip</td>\n",
       "      <td>WB</td>\n",
       "      <td>1/14/2000 12:00:00 AM</td>\n",
       "      <td>34134641</td>\n",
       "      <td>47829950.00</td>\n",
       "      <td>16472</td>\n",
       "      <td>7.0</td>\n",
       "      <td>61</td>\n",
       "      <td>2000-01-14</td>\n",
       "      <td>1/14/2000</td>\n",
       "      <td>$34,134,641</td>\n",
       "      <td>$47,829,950</td>\n",
       "    </tr>\n",
       "    <tr>\n",
       "      <th>3</th>\n",
       "      <td>superno00ovai</td>\n",
       "      <td>Supernova</td>\n",
       "      <td>MGM</td>\n",
       "      <td>1/14/2000 12:00:00 AM</td>\n",
       "      <td>14230455</td>\n",
       "      <td>19939920.00</td>\n",
       "      <td>14451</td>\n",
       "      <td>4.8</td>\n",
       "      <td>19</td>\n",
       "      <td>2000-01-14</td>\n",
       "      <td>1/14/2000</td>\n",
       "      <td>$14,230,455</td>\n",
       "      <td>$19,939,920</td>\n",
       "    </tr>\n",
       "    <tr>\n",
       "      <th>4</th>\n",
       "      <td>theevir98rist</td>\n",
       "      <td>The Terrorist</td>\n",
       "      <td>Pha.</td>\n",
       "      <td>1/14/2000 12:00:00 AM</td>\n",
       "      <td>153629</td>\n",
       "      <td>215267.20</td>\n",
       "      <td>1751</td>\n",
       "      <td>7.2</td>\n",
       "      <td>68</td>\n",
       "      <td>2000-01-14</td>\n",
       "      <td>1/14/2000</td>\n",
       "      <td>$153,629</td>\n",
       "      <td>$215,267</td>\n",
       "    </tr>\n",
       "    <tr>\n",
       "      <th>5</th>\n",
       "      <td>boondoc99ints</td>\n",
       "      <td>The Boondock Saints</td>\n",
       "      <td>Indic.</td>\n",
       "      <td>1/21/2000 12:00:00 AM</td>\n",
       "      <td>30471</td>\n",
       "      <td>42696.41</td>\n",
       "      <td>195958</td>\n",
       "      <td>7.9</td>\n",
       "      <td>44</td>\n",
       "      <td>2000-01-21</td>\n",
       "      <td>1/21/2000</td>\n",
       "      <td>$30,471</td>\n",
       "      <td>$42,696</td>\n",
       "    </tr>\n",
       "    <tr>\n",
       "      <th>6</th>\n",
       "      <td>downtoy00oyou</td>\n",
       "      <td>Down to You</td>\n",
       "      <td>Mira.</td>\n",
       "      <td>1/21/2000 12:00:00 AM</td>\n",
       "      <td>20069008</td>\n",
       "      <td>28120980.00</td>\n",
       "      <td>12172</td>\n",
       "      <td>4.9</td>\n",
       "      <td>13</td>\n",
       "      <td>2000-01-21</td>\n",
       "      <td>1/21/2000</td>\n",
       "      <td>$20,069,008</td>\n",
       "      <td>$28,120,980</td>\n",
       "    </tr>\n",
       "    <tr>\n",
       "      <th>7</th>\n",
       "      <td>bigteas99ease</td>\n",
       "      <td>The Big Tease</td>\n",
       "      <td>WB</td>\n",
       "      <td>1/28/2000 12:00:00 AM</td>\n",
       "      <td>187152</td>\n",
       "      <td>262240.10</td>\n",
       "      <td>2125</td>\n",
       "      <td>6.3</td>\n",
       "      <td>53</td>\n",
       "      <td>2000-01-28</td>\n",
       "      <td>1/28/2000</td>\n",
       "      <td>$187,152</td>\n",
       "      <td>$262,240</td>\n",
       "    </tr>\n",
       "    <tr>\n",
       "      <th>8</th>\n",
       "      <td>eyeofth99lder</td>\n",
       "      <td>Eye of the Beholder</td>\n",
       "      <td>Dest.</td>\n",
       "      <td>1/28/2000 12:00:00 AM</td>\n",
       "      <td>16500786</td>\n",
       "      <td>23121140.00</td>\n",
       "      <td>13239</td>\n",
       "      <td>4.9</td>\n",
       "      <td>29</td>\n",
       "      <td>2000-01-28</td>\n",
       "      <td>1/28/2000</td>\n",
       "      <td>$16,500,786</td>\n",
       "      <td>$23,121,140</td>\n",
       "    </tr>\n",
       "    <tr>\n",
       "      <th>9</th>\n",
       "      <td>grizzly99alls</td>\n",
       "      <td>Grizzly Falls</td>\n",
       "      <td>Prov.</td>\n",
       "      <td>1/28/2000 12:00:00 AM</td>\n",
       "      <td>168874</td>\n",
       "      <td>236628.70</td>\n",
       "      <td>449</td>\n",
       "      <td>5.9</td>\n",
       "      <td>34</td>\n",
       "      <td>2000-01-28</td>\n",
       "      <td>1/28/2000</td>\n",
       "      <td>$168,874</td>\n",
       "      <td>$236,629</td>\n",
       "    </tr>\n",
       "  </tbody>\n",
       "</table>\n",
       "</div>"
      ],
      "text/plain": [
       "          thekey                        title  studio            openingdate  \\\n",
       "0  fantasi992000  Fantasia 2000 [35mm & IMAX]  BV      1/1/2000 12:00:00 AM    \n",
       "1  nextfri00iday  Next Friday                  NL      1/12/2000 12:00:00 AM   \n",
       "2  mydogsk00skip  My Dog Skip                  WB      1/14/2000 12:00:00 AM   \n",
       "3  superno00ovai  Supernova                    MGM     1/14/2000 12:00:00 AM   \n",
       "4  theevir98rist  The Terrorist                Pha.    1/14/2000 12:00:00 AM   \n",
       "5  boondoc99ints  The Boondock Saints          Indic.  1/21/2000 12:00:00 AM   \n",
       "6  downtoy00oyou  Down to You                  Mira.   1/21/2000 12:00:00 AM   \n",
       "7  bigteas99ease  The Big Tease                WB      1/28/2000 12:00:00 AM   \n",
       "8  eyeofth99lder  Eye of the Beholder          Dest.   1/28/2000 12:00:00 AM   \n",
       "9  grizzly99alls  Grizzly Falls                Prov.   1/28/2000 12:00:00 AM   \n",
       "\n",
       "   total_gross  adjusted_gross  nvotes  userscore  metascore  \\\n",
       "0  60655420     84991250.00     27013   7.3        59          \n",
       "1  57328603     80329660.00     26773   6.1        41          \n",
       "2  34134641     47829950.00     16472   7.0        61          \n",
       "3  14230455     19939920.00     14451   4.8        19          \n",
       "4  153629       215267.20       1751    7.2        68          \n",
       "5  30471        42696.41        195958  7.9        44          \n",
       "6  20069008     28120980.00     12172   4.9        13          \n",
       "7  187152       262240.10       2125    6.3        53          \n",
       "8  16500786     23121140.00     13239   4.9        29          \n",
       "9  168874       236628.70       449     5.9        34          \n",
       "\n",
       "  openingdate_asdate openingdate_formatted total_gross_formatted  \\\n",
       "0 2000-01-01          1/1/2000              $60,655,420            \n",
       "1 2000-01-12          1/12/2000             $57,328,603            \n",
       "2 2000-01-14          1/14/2000             $34,134,641            \n",
       "3 2000-01-14          1/14/2000             $14,230,455            \n",
       "4 2000-01-14          1/14/2000             $153,629               \n",
       "5 2000-01-21          1/21/2000             $30,471                \n",
       "6 2000-01-21          1/21/2000             $20,069,008            \n",
       "7 2000-01-28          1/28/2000             $187,152               \n",
       "8 2000-01-28          1/28/2000             $16,500,786            \n",
       "9 2000-01-28          1/28/2000             $168,874               \n",
       "\n",
       "  adjusted_gross_formatted  \n",
       "0  $84,991,250              \n",
       "1  $80,329,660              \n",
       "2  $47,829,950              \n",
       "3  $19,939,920              \n",
       "4  $215,267                 \n",
       "5  $42,696                  \n",
       "6  $28,120,980              \n",
       "7  $262,240                 \n",
       "8  $23,121,140              \n",
       "9  $236,629                 "
      ]
     },
     "execution_count": 106,
     "metadata": {},
     "output_type": "execute_result"
    }
   ],
   "source": [
    "#pandas.__version__\n",
    "#movies = moviepandas.values\n",
    "#print(movies[0,:])\n",
    "#movies.dtype = object\n",
    "#print(movies.dtype.fields)\n",
    "#movies.dtype = ({'names':['key','title','studio','openingdate','total_gross','adjusted_gross','userscore','metascore'], 'formats':['s13','s256','s16',datetime.datetime.date,'f8','f8','f8','i4']})\n",
    "#movies.dtype = np.dtype([('thekey','S16'),('title','S256'),('studio','S16'),('date','S50'),('total_gross','f8'),('adjsuted_gross','f8'),('userscore','f4'),('metascore','f4')])\n",
    "#movies.astype(dtype=[('thekey','S16'),('title','S256'),('studio','S16'),('date','S50'),('total_gross','f8'),('adjsuted_gross','f8'),('userscore','f4'),('metascore','f4')])\n",
    "#print(movies.dtype)\n",
    "\n",
    "thedate = [dateutil.parser.parse(d) for d in movies.openingdate]\n",
    "movies['openingdate_asdate'] = thedate\n",
    "sdate = [datetime.datetime.strftime(x,'%-m/%-d/%Y') for x in thedate]\n",
    "movies['openingdate_formatted'] = sdate\n",
    "total_gross_dollar_string = ['${:,.0f}'.format(d) for d in movies.total_gross]\n",
    "adjusted_gross_dollar_string = ['${:,.0f}'.format(g) for g in movies.adjusted_gross]\n",
    "movies['total_gross_formatted'] = total_gross_dollar_string\n",
    "movies['adjusted_gross_formatted'] = adjusted_gross_dollar_string\n",
    "#ppp = len(movies[:,'openingdate'])\n",
    "#print(movies.dtype.fields)\n",
    "#print(movies.openingdate)\n",
    "#for k in range(0,len(movies['openingdate'])):\n",
    "#    tempy[k] = k\n",
    "#               thedate = [dateutil.parser.parse(movies['openingdate'])]\n",
    "#print(tempy)\n",
    "#print(thedate)\n",
    "#print(tabulate(movies,headers=['key','title','studio','openingdate','total_gross','adjsuted_gross','userscore','metascore'],tablefmt='fancy_grid'))\n",
    "\n",
    "print('Here is your data:')\n",
    "movies.head(10)\n",
    "#movies[['thekey','title','openingdate_formatted','total_gross_formatted','adjusted_gross_formatted','userscore','metascore']].tail(10)"
   ]
  },
  {
   "cell_type": "markdown",
   "metadata": {},
   "source": [
    "Now, we continue with the analysis section of the paper.\n",
    "\n",
    "## Financial data: Release times and box office receipts\n",
    "\n",
    "Table 1 shows the number of movies in our dataset by year of release.\n",
    "\n",
    "### Table 1. Number of films released per year in our dataset."
   ]
  },
  {
   "cell_type": "code",
   "execution_count": 107,
   "metadata": {
    "collapsed": false
   },
   "outputs": [
    {
     "name": "stdout",
     "output_type": "stream",
     "text": [
      "Table 1. Number of films released per year in our dataset\n",
      "╒════════╤══════════╕\n",
      "│   Year │   Movies │\n",
      "╞════════╪══════════╡\n",
      "│   2000 │      312 │\n",
      "├────────┼──────────┤\n",
      "│   2001 │      312 │\n",
      "├────────┼──────────┤\n",
      "│   2002 │      400 │\n",
      "├────────┼──────────┤\n",
      "│   2003 │      402 │\n",
      "├────────┼──────────┤\n",
      "│   2004 │      467 │\n",
      "├────────┼──────────┤\n",
      "│   2005 │      486 │\n",
      "├────────┼──────────┤\n",
      "│   2006 │      511 │\n",
      "├────────┼──────────┤\n",
      "│   2007 │      487 │\n",
      "├────────┼──────────┤\n",
      "│   2008 │      441 │\n",
      "├────────┼──────────┤\n",
      "│   2009 │      397 │\n",
      "├────────┼──────────┤\n",
      "│   2010 │      429 │\n",
      "├────────┼──────────┤\n",
      "│   2011 │      499 │\n",
      "├────────┼──────────┤\n",
      "│   2012 │      544 │\n",
      "├────────┼──────────┤\n",
      "│   2013 │      583 │\n",
      "├────────┼──────────┤\n",
      "│   2014 │      602 │\n",
      "├────────┼──────────┤\n",
      "│   2015 │      556 │\n",
      "╘════════╧══════════╛\n"
     ]
    }
   ],
   "source": [
    "years = [k.year for k in movies.openingdate_asdate]\n",
    "\n",
    "movies['year'] = years\n",
    "#movies['year']=movies['releaseyear']\n",
    "movies\n",
    "grouped = movies.groupby('year')\n",
    "a = grouped['title'].count()\n",
    "\n",
    "b = a.to_frame()\n",
    "print('Table 1. Number of films released per year in our dataset')\n",
    "print(tabulate(b, headers=['Year','Movies'], tablefmt='fancy_grid'))"
   ]
  },
  {
   "cell_type": "markdown",
   "metadata": {},
   "source": [
    "Most new films are released into theaters on <font color='red'>Fridays (n = 6,506; 88%)</font>, with the only other day with an appreciable number of releases being <font color='red'>Wednesday (n = 791; 11%)</font>."
   ]
  },
  {
   "cell_type": "code",
   "execution_count": 108,
   "metadata": {
    "collapsed": false
   },
   "outputs": [
    {
     "name": "stdout",
     "output_type": "stream",
     "text": [
      "╒═══════════╤══════════╤═════════════════════╕\n",
      "│ Weekday   │ Movies   │ Percent of movies   │\n",
      "╞═══════════╪══════════╪═════════════════════╡\n",
      "│ Sunday    │ 8        │ 0.1%                │\n",
      "├───────────┼──────────┼─────────────────────┤\n",
      "│ Monday    │ 9        │ 0.1%                │\n",
      "├───────────┼──────────┼─────────────────────┤\n",
      "│ Tuesday   │ 25       │ 0.3%                │\n",
      "├───────────┼──────────┼─────────────────────┤\n",
      "│ Wednesday │ 791      │ 10.6%               │\n",
      "├───────────┼──────────┼─────────────────────┤\n",
      "│ Thursday  │ 78       │ 1.1%                │\n",
      "├───────────┼──────────┼─────────────────────┤\n",
      "│ Friday    │ 6,506    │ 87.6%               │\n",
      "├───────────┼──────────┼─────────────────────┤\n",
      "│ Saturday  │ 11       │ 0.1%                │\n",
      "╘═══════════╧══════════╧═════════════════════╛\n"
     ]
    }
   ],
   "source": [
    "openingdates = [k.strftime('%w') for k in movies['openingdate_asdate']]\n",
    "openingdates = [int(p) for p in openingdates]\n",
    "\n",
    "movies['dayofweek'] = openingdates\n",
    "gh = movies.groupby('dayofweek').count()\n",
    "\n",
    "gh['weekdayname'] = ''\n",
    "gh.loc[gh.index == 0, 'weekdayname'] = 'Sunday'\n",
    "gh.loc[gh.index == 1, 'weekdayname'] = 'Monday'\n",
    "gh.loc[gh.index == 2, 'weekdayname'] = 'Tuesday'\n",
    "gh.loc[gh.index == 3, 'weekdayname'] = 'Wednesday'\n",
    "gh.loc[gh.index == 4, 'weekdayname'] = 'Thursday'\n",
    "gh.loc[gh.index == 5, 'weekdayname'] = 'Friday'\n",
    "gh.loc[gh.index == 6, 'weekdayname'] = 'Saturday'\n",
    "\n",
    "#print(gh)\n",
    "ghprint = gh[['weekdayname','title']]\n",
    "ghprint.set_index(['weekdayname'],inplace=True)\n",
    "#print(ghprint)\n",
    "\n",
    "count_formatted = ['{:,.0f}'.format(p) for p in ghprint['title']]\n",
    "ghprint['title_formatted'] = count_formatted\n",
    "\n",
    "#title_formatted = ['{:,.0f}'.format(q) for q in ghprint['title']]\n",
    "#print(title_formatted)\n",
    "#ghprint['title'] = title_formatted\n",
    "\n",
    "ghprint['percentage'] = 100*(ghprint['title'] / movies['title'].count())\n",
    "percentage_formatted = ['{:,.1f}%'.format(q) for q in ghprint['percentage']]\n",
    "ghprint['percentage'] = percentage_formatted\n",
    "\n",
    "ghprint.drop(['title'],axis=1,inplace=True)\n",
    "\n",
    "print(tabulate(ghprint,headers=['Weekday','Movies','Percent of movies'],tablefmt='fancy_grid'))"
   ]
  },
  {
   "cell_type": "markdown",
   "metadata": {},
   "source": [
    "Table 2 shows the number of movies released by month over our entire study\n",
    "period. The number of theatrical releases per month is roughly the same throughout\n",
    "the year, as is required to keep a fresh supply of movies available in theaters\n",
    "year-round. Slightly fewer movies are released in January, and slightly more are\n",
    "released in the fall.\n",
    "\n",
    "### Table 2. Number of films released per month."
   ]
  },
  {
   "cell_type": "code",
   "execution_count": 109,
   "metadata": {
    "collapsed": false,
    "scrolled": true
   },
   "outputs": [
    {
     "name": "stdout",
     "output_type": "stream",
     "text": [
      "Table 2. Number of films released per month\n",
      "╒═══════════╤══════════╤═══════════════════════════╕\n",
      "│ Month     │   Movies │   Percent of all releases │\n",
      "╞═══════════╪══════════╪═══════════════════════════╡\n",
      "│ January   │      419 │                       5.6 │\n",
      "├───────────┼──────────┼───────────────────────────┤\n",
      "│ February  │      509 │                       6.9 │\n",
      "├───────────┼──────────┼───────────────────────────┤\n",
      "│ March     │      668 │                       9   │\n",
      "├───────────┼──────────┼───────────────────────────┤\n",
      "│ April     │      683 │                       9.2 │\n",
      "├───────────┼──────────┼───────────────────────────┤\n",
      "│ May       │      621 │                       8.4 │\n",
      "├───────────┼──────────┼───────────────────────────┤\n",
      "│ June      │      593 │                       8   │\n",
      "├───────────┼──────────┼───────────────────────────┤\n",
      "│ July      │      579 │                       7.8 │\n",
      "├───────────┼──────────┼───────────────────────────┤\n",
      "│ August    │      690 │                       9.3 │\n",
      "├───────────┼──────────┼───────────────────────────┤\n",
      "│ September │      753 │                      10.1 │\n",
      "├───────────┼──────────┼───────────────────────────┤\n",
      "│ October   │      758 │                      10.2 │\n",
      "├───────────┼──────────┼───────────────────────────┤\n",
      "│ November  │      597 │                       8   │\n",
      "├───────────┼──────────┼───────────────────────────┤\n",
      "│ December  │      558 │                       7.5 │\n",
      "╘═══════════╧══════════╧═══════════════════════════╛\n"
     ]
    }
   ],
   "source": [
    "months = [k.month for k in movies.openingdate_asdate]\n",
    "#monthname = [datetime.datetime.strftime(k,'%B') for k in movies.openingdate_asdate]\n",
    "movies['releasemonth'] = months\n",
    "#movies['releasemonthname'] = monthname\n",
    "#movies['releasemonth_str'] = months_str\n",
    "#movies.tail(10)\n",
    "\n",
    "grouped = movies.groupby('releasemonth')\n",
    "\n",
    "a = grouped[['title']].count()\n",
    "a['releasemonthname'] = a.index\n",
    "a.loc[a['releasemonthname'] == 1, 'releasemonthname'] = 'January'\n",
    "a.loc[a['releasemonthname'] == 2, 'releasemonthname'] = 'February'\n",
    "a.loc[a['releasemonthname'] == 3, 'releasemonthname'] = 'March'\n",
    "a.loc[a['releasemonthname'] == 4, 'releasemonthname'] = 'April'\n",
    "a.loc[a['releasemonthname'] == 5, 'releasemonthname'] = 'May'\n",
    "a.loc[a['releasemonthname'] == 6, 'releasemonthname'] = 'June'\n",
    "a.loc[a['releasemonthname'] == 7, 'releasemonthname'] = 'July'\n",
    "a.loc[a['releasemonthname'] == 8, 'releasemonthname'] = 'August'\n",
    "a.loc[a['releasemonthname'] == 9, 'releasemonthname'] = 'September'\n",
    "a.loc[a['releasemonthname'] == 10, 'releasemonthname'] = 'October'\n",
    "a.loc[a['releasemonthname'] == 11, 'releasemonthname'] = 'November'\n",
    "a.loc[a['releasemonthname'] == 12, 'releasemonthname'] = 'December'\n",
    "\n",
    "a['percentoftotal'] = (100*a['title'] / (np.count_nonzero(movies['title'])))\n",
    "percentages = [format(k,'.1f') for k in a['percentoftotal']]\n",
    "a['percentoftotal'] = percentages\n",
    "\n",
    "#p = format(234.2523234234,'.1f')\n",
    "#print(p)\n",
    "#a['percentoftotal'] = \"{5.1f}\".format(a['percentoftotal'])\n",
    "#cols = a.columns.tolist()\n",
    "#cols = cols[-1:] + cols[:-1]\n",
    "#a = a[cols]\n",
    "#a.columns = [['Movies']]\n",
    "\n",
    "#state_pcts = state_office.groupby(level=0).apply(lambda x: 100*x/float(x.sum()))\n",
    "#a\n",
    "a.set_index(['releasemonthname'],inplace='true')\n",
    "#print(a.index)\n",
    "print('Table 2. Number of films released per month')\n",
    "print(tabulate(a,headers=['Month','Movies','Percent of all releases'],tablefmt='fancy_grid'))"
   ]
  },
  {
   "cell_type": "markdown",
   "metadata": {},
   "source": [
    "The Box Office Mojo dataset is missing some values for gross box office receipts; the number of films with receipts listed is <font color='red'>7,230</font>, which is <font color='red'>97%</font> of all movies in the dataset. A quick review of <font color='red'>the few titles that are missing</font> shows, as expected, they are all small releases whose data would be highly unlikely to change any of our conclusions."
   ]
  },
  {
   "cell_type": "code",
   "execution_count": 110,
   "metadata": {
    "collapsed": false
   },
   "outputs": [
    {
     "name": "stdout",
     "output_type": "stream",
     "text": [
      "Total number of movies: 7428\n",
      "Movies with U.S. box office figures: 7230\n",
      "\n",
      "\n",
      "Percentage of movies with box office figures:  97 %\n",
      "\n",
      "\n",
      "Movies with no box office data:\n",
      "╒══════╤══════════════════════════════════════════════════════╤════════╕\n",
      "│   ID │ Title                                                │   Year │\n",
      "╞══════╪══════════════════════════════════════════════════════╪════════╡\n",
      "│ 1120 │ Marion Bridge                                        │   2003 │\n",
      "├──────┼──────────────────────────────────────────────────────┼────────┤\n",
      "│ 1130 │ Venus and Mars                                       │   2003 │\n",
      "├──────┼──────────────────────────────────────────────────────┼────────┤\n",
      "│ 1175 │ The Three Marias                                     │   2003 │\n",
      "├──────┼──────────────────────────────────────────────────────┼────────┤\n",
      "│ 1262 │ Catching Out                                         │   2003 │\n",
      "├──────┼──────────────────────────────────────────────────────┼────────┤\n",
      "│ 1359 │ Mail Order Bride                                     │   2003 │\n",
      "├──────┼──────────────────────────────────────────────────────┼────────┤\n",
      "│ 1541 │ Moriang                                              │   2004 │\n",
      "├──────┼──────────────────────────────────────────────────────┼────────┤\n",
      "│ 1619 │ Grand Theft Parsons                                  │   2004 │\n",
      "├──────┼──────────────────────────────────────────────────────┼────────┤\n",
      "│ 1729 │ Evergreen                                            │   2004 │\n",
      "├──────┼──────────────────────────────────────────────────────┼────────┤\n",
      "│ 1824 │ Overnight                                            │   2004 │\n",
      "├──────┼──────────────────────────────────────────────────────┼────────┤\n",
      "│ 1834 │ Noel                                                 │   2004 │\n",
      "├──────┼──────────────────────────────────────────────────────┼────────┤\n",
      "│ 1855 │ Game Over: Kasparov and the Machine                  │   2004 │\n",
      "├──────┼──────────────────────────────────────────────────────┼────────┤\n",
      "│ 1882 │ Keys to the House                                    │   2004 │\n",
      "├──────┼──────────────────────────────────────────────────────┼────────┤\n",
      "│ 2045 │ A Hole in One                                        │   2005 │\n",
      "├──────┼──────────────────────────────────────────────────────┼────────┤\n",
      "│ 2084 │ Bustin' Bonaparte                                    │   2005 │\n",
      "├──────┼──────────────────────────────────────────────────────┼────────┤\n",
      "│ 2098 │ The Deal                                             │   2005 │\n",
      "├──────┼──────────────────────────────────────────────────────┼────────┤\n",
      "│ 2183 │ Now and Forever                                      │   2005 │\n",
      "├──────┼──────────────────────────────────────────────────────┼────────┤\n",
      "│ 2261 │ Dandelion                                            │   2005 │\n",
      "├──────┼──────────────────────────────────────────────────────┼────────┤\n",
      "│ 2347 │ The Kid & I                                          │   2005 │\n",
      "├──────┼──────────────────────────────────────────────────────┼────────┤\n",
      "│ 2382 │ Kill the Poor                                        │   2006 │\n",
      "├──────┼──────────────────────────────────────────────────────┼────────┤\n",
      "│ 2526 │ The Sisters                                          │   2006 │\n",
      "├──────┼──────────────────────────────────────────────────────┼────────┤\n",
      "│ 2566 │ Saving Shiloh                                        │   2006 │\n",
      "├──────┼──────────────────────────────────────────────────────┼────────┤\n",
      "│ 2626 │ The Blood of My Brother                              │   2006 │\n",
      "├──────┼──────────────────────────────────────────────────────┼────────┤\n",
      "│ 2628 │ The Great Yokai War                                  │   2006 │\n",
      "├──────┼──────────────────────────────────────────────────────┼────────┤\n",
      "│ 2701 │ Surviving Eden                                       │   2006 │\n",
      "├──────┼──────────────────────────────────────────────────────┼────────┤\n",
      "│ 2736 │ Zen Noir                                             │   2006 │\n",
      "├──────┼──────────────────────────────────────────────────────┼────────┤\n",
      "│ 2775 │ Nearing Grace                                        │   2006 │\n",
      "├──────┼──────────────────────────────────────────────────────┼────────┤\n",
      "│ 2807 │ Shottas                                              │   2006 │\n",
      "├──────┼──────────────────────────────────────────────────────┼────────┤\n",
      "│ 2844 │ 3 Needles                                            │   2006 │\n",
      "├──────┼──────────────────────────────────────────────────────┼────────┤\n",
      "│ 3022 │ Downtown: A Street Tale                              │   2007 │\n",
      "├──────┼──────────────────────────────────────────────────────┼────────┤\n",
      "│ 3061 │ Duck                                                 │   2007 │\n",
      "├──────┼──────────────────────────────────────────────────────┼────────┤\n",
      "│ 3501 │ Remember the Daze                                    │   2008 │\n",
      "├──────┼──────────────────────────────────────────────────────┼────────┤\n",
      "│ 3553 │ Postal                                               │   2008 │\n",
      "├──────┼──────────────────────────────────────────────────────┼────────┤\n",
      "│ 3703 │ Obscene                                              │   2008 │\n",
      "├──────┼──────────────────────────────────────────────────────┼────────┤\n",
      "│ 3704 │ Shoot on Sight                                       │   2008 │\n",
      "├──────┼──────────────────────────────────────────────────────┼────────┤\n",
      "│ 3705 │ Smother                                              │   2008 │\n",
      "├──────┼──────────────────────────────────────────────────────┼────────┤\n",
      "│ 3745 │ The Universe of Keith Haring                         │   2008 │\n",
      "├──────┼──────────────────────────────────────────────────────┼────────┤\n",
      "│ 3781 │ The Black Balloon                                    │   2008 │\n",
      "├──────┼──────────────────────────────────────────────────────┼────────┤\n",
      "│ 3797 │ What Doesn't Kill You                                │   2008 │\n",
      "├──────┼──────────────────────────────────────────────────────┼────────┤\n",
      "│ 3799 │ While She Was Out                                    │   2008 │\n",
      "├──────┼──────────────────────────────────────────────────────┼────────┤\n",
      "│ 3801 │ Moscow, Belgium                                      │   2008 │\n",
      "├──────┼──────────────────────────────────────────────────────┼────────┤\n",
      "│ 3963 │ What Goes Up                                         │   2009 │\n",
      "├──────┼──────────────────────────────────────────────────────┼────────┤\n",
      "│ 4232 │ The Paranoids                                        │   2010 │\n",
      "├──────┼──────────────────────────────────────────────────────┼────────┤\n",
      "│ 4250 │ Jackie Chan in Shinjuku Incident                     │   2010 │\n",
      "├──────┼──────────────────────────────────────────────────────┼────────┤\n",
      "│ 4257 │ Celine: Through the Eyes of the World                │   2010 │\n",
      "├──────┼──────────────────────────────────────────────────────┼────────┤\n",
      "│ 4299 │ Godspeed                                             │   2010 │\n",
      "├──────┼──────────────────────────────────────────────────────┼────────┤\n",
      "│ 4321 │ Phyllis and Harold                                   │   2010 │\n",
      "├──────┼──────────────────────────────────────────────────────┼────────┤\n",
      "│ 4478 │ Hiding Divya                                         │   2010 │\n",
      "├──────┼──────────────────────────────────────────────────────┼────────┤\n",
      "│ 4502 │ The Winning Season                                   │   2010 │\n",
      "├──────┼──────────────────────────────────────────────────────┼────────┤\n",
      "│ 4538 │ Barry Munday                                         │   2010 │\n",
      "├──────┼──────────────────────────────────────────────────────┼────────┤\n",
      "│ 4550 │ It's a Wonderful Afterlife                           │   2010 │\n",
      "├──────┼──────────────────────────────────────────────────────┼────────┤\n",
      "│ 4569 │ Kalamity                                             │   2010 │\n",
      "├──────┼──────────────────────────────────────────────────────┼────────┤\n",
      "│ 4657 │ Twelve Thirty                                        │   2011 │\n",
      "├──────┼──────────────────────────────────────────────────────┼────────┤\n",
      "│ 4681 │ Certifiably Jonathan                                 │   2011 │\n",
      "├──────┼──────────────────────────────────────────────────────┼────────┤\n",
      "│ 4683 │ The Sky Turns [El cielo gira]                        │   2011 │\n",
      "├──────┼──────────────────────────────────────────────────────┼────────┤\n",
      "│ 4694 │ The Chaperone                                        │   2011 │\n",
      "├──────┼──────────────────────────────────────────────────────┼────────┤\n",
      "│ 4813 │ The People vs. George Lucas                          │   2011 │\n",
      "├──────┼──────────────────────────────────────────────────────┼────────┤\n",
      "│ 4842 │ Empire of Silver                                     │   2011 │\n",
      "├──────┼──────────────────────────────────────────────────────┼────────┤\n",
      "│ 4874 │ General Orders No. 9                                 │   2011 │\n",
      "├──────┼──────────────────────────────────────────────────────┼────────┤\n",
      "│ 4929 │ The Perfect Age of Rock 'n'' Roll                    │   2011 │\n",
      "├──────┼──────────────────────────────────────────────────────┼────────┤\n",
      "│ 4950 │ Programming the Nation?                              │   2011 │\n",
      "├──────┼──────────────────────────────────────────────────────┼────────┤\n",
      "│ 4987 │ We Were Here                                         │   2011 │\n",
      "├──────┼──────────────────────────────────────────────────────┼────────┤\n",
      "│ 5113 │ Warrior's Heart                                      │   2011 │\n",
      "├──────┼──────────────────────────────────────────────────────┼────────┤\n",
      "│ 5144 │ Beneath the Darkness                                 │   2012 │\n",
      "├──────┼──────────────────────────────────────────────────────┼────────┤\n",
      "│ 5149 │ Albatross                                            │   2012 │\n",
      "├──────┼──────────────────────────────────────────────────────┼────────┤\n",
      "│ 5152 │ Don't Go in the Woods                                │   2012 │\n",
      "├──────┼──────────────────────────────────────────────────────┼────────┤\n",
      "│ 5154 │ Lula, Son of Brazil                                  │   2012 │\n",
      "├──────┼──────────────────────────────────────────────────────┼────────┤\n",
      "│ 5169 │ Watching TV With the Red Chinese                     │   2012 │\n",
      "├──────┼──────────────────────────────────────────────────────┼────────┤\n",
      "│ 5196 │ Deadline [2012]                                      │   2012 │\n",
      "├──────┼──────────────────────────────────────────────────────┼────────┤\n",
      "│ 5215 │ Black Butterflies                                    │   2012 │\n",
      "├──────┼──────────────────────────────────────────────────────┼────────┤\n",
      "│ 5229 │ Good for Nothing                                     │   2012 │\n",
      "├──────┼──────────────────────────────────────────────────────┼────────┤\n",
      "│ 5262 │ Dark Tide                                            │   2012 │\n",
      "├──────┼──────────────────────────────────────────────────────┼────────┤\n",
      "│ 5271 │ Detention                                            │   2012 │\n",
      "├──────┼──────────────────────────────────────────────────────┼────────┤\n",
      "│ 5275 │ The Assault [2012]                                   │   2012 │\n",
      "├──────┼──────────────────────────────────────────────────────┼────────┤\n",
      "│ 5277 │ We the Party                                         │   2012 │\n",
      "├──────┼──────────────────────────────────────────────────────┼────────┤\n",
      "│ 5329 │ The Cup [2012]                                       │   2012 │\n",
      "├──────┼──────────────────────────────────────────────────────┼────────┤\n",
      "│ 5417 │ Family Portrait in Black and White                   │   2012 │\n",
      "├──────┼──────────────────────────────────────────────────────┼────────┤\n",
      "│ 5458 │ Goats                                                │   2012 │\n",
      "├──────┼──────────────────────────────────────────────────────┼────────┤\n",
      "│ 5459 │ The Green Wave                                       │   2012 │\n",
      "├──────┼──────────────────────────────────────────────────────┼────────┤\n",
      "│ 5496 │ The Tall Man                                         │   2012 │\n",
      "├──────┼──────────────────────────────────────────────────────┼────────┤\n",
      "│ 5546 │ Solomon Kane                                         │   2012 │\n",
      "├──────┼──────────────────────────────────────────────────────┼────────┤\n",
      "│ 5567 │ Excuse Me for Living                                 │   2012 │\n",
      "├──────┼──────────────────────────────────────────────────────┼────────┤\n",
      "│ 5569 │ 3,2,1... Frankie Go Boom                             │   2012 │\n",
      "├──────┼──────────────────────────────────────────────────────┼────────┤\n",
      "│ 5595 │ The Zen of Bennett                                   │   2012 │\n",
      "├──────┼──────────────────────────────────────────────────────┼────────┤\n",
      "│ 5603 │ Pusher [2012]                                        │   2012 │\n",
      "├──────┼──────────────────────────────────────────────────────┼────────┤\n",
      "│ 5609 │ High Ground                                          │   2012 │\n",
      "├──────┼──────────────────────────────────────────────────────┼────────┤\n",
      "│ 5622 │ Coming Up Roses [2012]                               │   2012 │\n",
      "├──────┼──────────────────────────────────────────────────────┼────────┤\n",
      "│ 5646 │ Addicted to Fame                                     │   2012 │\n",
      "├──────┼──────────────────────────────────────────────────────┼────────┤\n",
      "│ 5656 │ Delhi Safari                                         │   2012 │\n",
      "├──────┼──────────────────────────────────────────────────────┼────────┤\n",
      "│ 5658 │ Heleno                                               │   2012 │\n",
      "├──────┼──────────────────────────────────────────────────────┼────────┤\n",
      "│ 5694 │ Matru Ki Bijlee Ka Mandola                           │   2013 │\n",
      "├──────┼──────────────────────────────────────────────────────┼────────┤\n",
      "│ 5700 │ Hors Satan                                           │   2013 │\n",
      "├──────┼──────────────────────────────────────────────────────┼────────┤\n",
      "│ 5782 │ Reincarnated                                         │   2013 │\n",
      "├──────┼──────────────────────────────────────────────────────┼────────┤\n",
      "│ 5814 │ 6 Souls                                              │   2013 │\n",
      "├──────┼──────────────────────────────────────────────────────┼────────┤\n",
      "│ 5871 │ The Girls in the Band                                │   2013 │\n",
      "├──────┼──────────────────────────────────────────────────────┼────────┤\n",
      "│ 5881 │ Old Dog                                              │   2013 │\n",
      "├──────┼──────────────────────────────────────────────────────┼────────┤\n",
      "│ 5886 │ Black Rock                                           │   2013 │\n",
      "├──────┼──────────────────────────────────────────────────────┼────────┤\n",
      "│ 5889 │ Erased                                               │   2013 │\n",
      "├──────┼──────────────────────────────────────────────────────┼────────┤\n",
      "│ 5892 │ State 194                                            │   2013 │\n",
      "├──────┼──────────────────────────────────────────────────────┼────────┤\n",
      "│ 5955 │ The Secret Disco Revolution                          │   2013 │\n",
      "├──────┼──────────────────────────────────────────────────────┼────────┤\n",
      "│ 6001 │ Cockneys Vs. Zombies                                 │   2013 │\n",
      "├──────┼──────────────────────────────────────────────────────┼────────┤\n",
      "│ 6004 │ The Gardener                                         │   2013 │\n",
      "├──────┼──────────────────────────────────────────────────────┼────────┤\n",
      "│ 6005 │ The Machine Which Makes Everything Disappear         │   2013 │\n",
      "├──────┼──────────────────────────────────────────────────────┼────────┤\n",
      "│ 6049 │ The Lifeguard                                        │   2013 │\n",
      "├──────┼──────────────────────────────────────────────────────┼────────┤\n",
      "│ 6056 │ 99% - The Occupy Wall Street Collaborative Film      │   2013 │\n",
      "├──────┼──────────────────────────────────────────────────────┼────────┤\n",
      "│ 6057 │ Best Kept Secret                                     │   2013 │\n",
      "├──────┼──────────────────────────────────────────────────────┼────────┤\n",
      "│ 6088 │ Sample This                                          │   2013 │\n",
      "├──────┼──────────────────────────────────────────────────────┼────────┤\n",
      "│ 6139 │ Running Wild: The Life of Dayton O. Hyde             │   2013 │\n",
      "├──────┼──────────────────────────────────────────────────────┼────────┤\n",
      "│ 6142 │ All the Boys Love Mandy Lane                         │   2013 │\n",
      "├──────┼──────────────────────────────────────────────────────┼────────┤\n",
      "│ 6157 │ Boss                                                 │   2013 │\n",
      "├──────┼──────────────────────────────────────────────────────┼────────┤\n",
      "│ 6161 │ 2 Jacks                                              │   2013 │\n",
      "├──────┼──────────────────────────────────────────────────────┼────────┤\n",
      "│ 6164 │ Big Ass Spider!                                      │   2013 │\n",
      "├──────┼──────────────────────────────────────────────────────┼────────┤\n",
      "│ 6213 │ 39793                                                │   2013 │\n",
      "├──────┼──────────────────────────────────────────────────────┼────────┤\n",
      "│ 6273 │ Open Grave                                           │   2014 │\n",
      "├──────┼──────────────────────────────────────────────────────┼────────┤\n",
      "│ 6290 │ G.B.F.                                               │   2014 │\n",
      "├──────┼──────────────────────────────────────────────────────┼────────┤\n",
      "│ 6309 │ Best Night Ever                                      │   2014 │\n",
      "├──────┼──────────────────────────────────────────────────────┼────────┤\n",
      "│ 6320 │ A Fantastic Fear of Everything                       │   2014 │\n",
      "├──────┼──────────────────────────────────────────────────────┼────────┤\n",
      "│ 6335 │ The Returned                                         │   2014 │\n",
      "├──────┼──────────────────────────────────────────────────────┼────────┤\n",
      "│ 6360 │ A Farewell to Fools                                  │   2014 │\n",
      "├──────┼──────────────────────────────────────────────────────┼────────┤\n",
      "│ 6381 │ U Want Me to Kill Him?                               │   2014 │\n",
      "├──────┼──────────────────────────────────────────────────────┼────────┤\n",
      "│ 6395 │ Maladies                                             │   2014 │\n",
      "├──────┼──────────────────────────────────────────────────────┼────────┤\n",
      "│ 6413 │ 10 Rules for Sleeping Around                         │   2014 │\n",
      "├──────┼──────────────────────────────────────────────────────┼────────┤\n",
      "│ 6470 │ Friended to Death                                    │   2014 │\n",
      "├──────┼──────────────────────────────────────────────────────┼────────┤\n",
      "│ 6504 │ Lila Lila                                            │   2014 │\n",
      "├──────┼──────────────────────────────────────────────────────┼────────┤\n",
      "│ 6528 │ The Moment                                           │   2014 │\n",
      "├──────┼──────────────────────────────────────────────────────┼────────┤\n",
      "│ 6534 │ Trust Me                                             │   2014 │\n",
      "├──────┼──────────────────────────────────────────────────────┼────────┤\n",
      "│ 6543 │ Lullaby                                              │   2014 │\n",
      "├──────┼──────────────────────────────────────────────────────┼────────┤\n",
      "│ 6555 │ Miss Lovely                                          │   2014 │\n",
      "├──────┼──────────────────────────────────────────────────────┼────────┤\n",
      "│ 6612 │ Behaving Badly                                       │   2014 │\n",
      "├──────┼──────────────────────────────────────────────────────┼────────┤\n",
      "│ 6619 │ Louder Than Words                                    │   2014 │\n",
      "├──────┼──────────────────────────────────────────────────────┼────────┤\n",
      "│ 6620 │ The Almost Man                                       │   2014 │\n",
      "├──────┼──────────────────────────────────────────────────────┼────────┤\n",
      "│ 6623 │ About Alex                                           │   2014 │\n",
      "├──────┼──────────────────────────────────────────────────────┼────────┤\n",
      "│ 6634 │ Coldwater                                            │   2014 │\n",
      "├──────┼──────────────────────────────────────────────────────┼────────┤\n",
      "│ 6644 │ Are You Here                                         │   2014 │\n",
      "├──────┼──────────────────────────────────────────────────────┼────────┤\n",
      "│ 6646 │ 14 Blades                                            │   2014 │\n",
      "├──────┼──────────────────────────────────────────────────────┼────────┤\n",
      "│ 6683 │ No No: A Dockumentary                                │   2014 │\n",
      "├──────┼──────────────────────────────────────────────────────┼────────┤\n",
      "│ 6701 │ Swearnet                                             │   2014 │\n",
      "├──────┼──────────────────────────────────────────────────────┼────────┤\n",
      "│ 6721 │ Jack and the Cuckoo-Clock Heart                      │   2014 │\n",
      "├──────┼──────────────────────────────────────────────────────┼────────┤\n",
      "│ 6773 │ Young Ones                                           │   2014 │\n",
      "├──────┼──────────────────────────────────────────────────────┼────────┤\n",
      "│ 6783 │ Revenge of the Green Dragons                         │   2014 │\n",
      "├──────┼──────────────────────────────────────────────────────┼────────┤\n",
      "│ 6792 │ Magical Universe                                     │   2014 │\n",
      "├──────┼──────────────────────────────────────────────────────┼────────┤\n",
      "│ 6806 │ Jessabelle                                           │   2014 │\n",
      "├──────┼──────────────────────────────────────────────────────┼────────┤\n",
      "│ 6812 │ Bad Turn Worse                                       │   2014 │\n",
      "├──────┼──────────────────────────────────────────────────────┼────────┤\n",
      "│ 6814 │ Brahmin Bulls                                        │   2014 │\n",
      "├──────┼──────────────────────────────────────────────────────┼────────┤\n",
      "│ 6834 │ Once Upon a Time Veronica [Era uma vez eu, Veronica] │   2014 │\n",
      "├──────┼──────────────────────────────────────────────────────┼────────┤\n",
      "│ 6836 │ Remote Area Medical                                  │   2014 │\n",
      "├──────┼──────────────────────────────────────────────────────┼────────┤\n",
      "│ 6900 │ Killers [2015]                                       │   2015 │\n",
      "├──────┼──────────────────────────────────────────────────────┼────────┤\n",
      "│ 6916 │ Supremacy                                            │   2015 │\n",
      "├──────┼──────────────────────────────────────────────────────┼────────┤\n",
      "│ 6918 │ Wild Card                                            │   2015 │\n",
      "├──────┼──────────────────────────────────────────────────────┼────────┤\n",
      "│ 6921 │ Enter the Dangerous Mind                             │   2015 │\n",
      "├──────┼──────────────────────────────────────────────────────┼────────┤\n",
      "│ 6931 │ Hits                                                 │   2015 │\n",
      "├──────┼──────────────────────────────────────────────────────┼────────┤\n",
      "│ 6946 │ Everly                                               │   2015 │\n",
      "├──────┼──────────────────────────────────────────────────────┼────────┤\n",
      "│ 6951 │ My Life Directed                                     │   2015 │\n",
      "├──────┼──────────────────────────────────────────────────────┼────────┤\n",
      "│ 6964 │ These Final Hours                                    │   2015 │\n",
      "├──────┼──────────────────────────────────────────────────────┼────────┤\n",
      "│ 6969 │ Home Sweet Hell                                      │   2015 │\n",
      "├──────┼──────────────────────────────────────────────────────┼────────┤\n",
      "│ 6993 │ A Girl Like Her                                      │   2015 │\n",
      "├──────┼──────────────────────────────────────────────────────┼────────┤\n",
      "│ 6999 │ Welcome to New York                                  │   2015 │\n",
      "├──────┼──────────────────────────────────────────────────────┼────────┤\n",
      "│ 7002 │ 52 Tuesdays                                          │   2015 │\n",
      "├──────┼──────────────────────────────────────────────────────┼────────┤\n",
      "│ 7019 │ Alex of Venice                                       │   2015 │\n",
      "├──────┼──────────────────────────────────────────────────────┼────────┤\n",
      "│ 7028 │ Monsters: Dark Continent                             │   2015 │\n",
      "├──────┼──────────────────────────────────────────────────────┼────────┤\n",
      "│ 7030 │ The Road Within                                      │   2015 │\n",
      "├──────┼──────────────────────────────────────────────────────┼────────┤\n",
      "│ 7051 │ Ride [2015]                                          │   2015 │\n",
      "├──────┼──────────────────────────────────────────────────────┼────────┤\n",
      "│ 7058 │ A Lonely Hero                                        │   2015 │\n",
      "├──────┼──────────────────────────────────────────────────────┼────────┤\n",
      "│ 7065 │ Forbidden Films                                      │   2015 │\n",
      "├──────┼──────────────────────────────────────────────────────┼────────┤\n",
      "│ 7098 │ Every Last Child                                     │   2015 │\n",
      "├──────┼──────────────────────────────────────────────────────┼────────┤\n",
      "│ 7107 │ Soaked in Bleach                                     │   2015 │\n",
      "├──────┼──────────────────────────────────────────────────────┼────────┤\n",
      "│ 7108 │ 11th Hour                                            │   2015 │\n",
      "├──────┼──────────────────────────────────────────────────────┼────────┤\n",
      "│ 7110 │ Live from New York!                                  │   2015 │\n",
      "├──────┼──────────────────────────────────────────────────────┼────────┤\n",
      "│ 7129 │ 7 Minutes                                            │   2015 │\n",
      "├──────┼──────────────────────────────────────────────────────┼────────┤\n",
      "│ 7134 │ Felt                                                 │   2015 │\n",
      "├──────┼──────────────────────────────────────────────────────┼────────┤\n",
      "│ 7149 │ Jackie & Ryan                                        │   2015 │\n",
      "├──────┼──────────────────────────────────────────────────────┼────────┤\n",
      "│ 7167 │ Catch Me Daddy                                       │   2015 │\n",
      "├──────┼──────────────────────────────────────────────────────┼────────┤\n",
      "│ 7169 │ Famous Nathan                                        │   2015 │\n",
      "├──────┼──────────────────────────────────────────────────────┼────────┤\n",
      "│ 7178 │ Big Significant Things                               │   2015 │\n",
      "├──────┼──────────────────────────────────────────────────────┼────────┤\n",
      "│ 7201 │ Kurt Cobain: Montage of Heck                         │   2015 │\n",
      "├──────┼──────────────────────────────────────────────────────┼────────┤\n",
      "│ 7205 │ The Falling                                          │   2015 │\n",
      "├──────┼──────────────────────────────────────────────────────┼────────┤\n",
      "│ 7219 │ 6 Years                                              │   2015 │\n",
      "├──────┼──────────────────────────────────────────────────────┼────────┤\n",
      "│ 7221 │ After Words                                          │   2015 │\n",
      "├──────┼──────────────────────────────────────────────────────┼────────┤\n",
      "│ 7245 │ Bloodsucking Bastards                                │   2015 │\n",
      "├──────┼──────────────────────────────────────────────────────┼────────┤\n",
      "│ 7256 │ Listening                                            │   2015 │\n",
      "├──────┼──────────────────────────────────────────────────────┼────────┤\n",
      "│ 7273 │ Racing Extinction                                    │   2015 │\n",
      "├──────┼──────────────────────────────────────────────────────┼────────┤\n",
      "│ 7277 │ The Reflektor Tapes                                  │   2015 │\n",
      "├──────┼──────────────────────────────────────────────────────┼────────┤\n",
      "│ 7280 │ A Brave Heart: The Lizzie Velasquez Story            │   2015 │\n",
      "├──────┼──────────────────────────────────────────────────────┼────────┤\n",
      "│ 7290 │ Wildlike                                             │   2015 │\n",
      "├──────┼──────────────────────────────────────────────────────┼────────┤\n",
      "│ 7297 │ Partisan                                             │   2015 │\n",
      "├──────┼──────────────────────────────────────────────────────┼────────┤\n",
      "│ 7305 │ The Final Girls                                      │   2015 │\n",
      "├──────┼──────────────────────────────────────────────────────┼────────┤\n",
      "│ 7307 │ In My Father's House                                 │   2015 │\n",
      "├──────┼──────────────────────────────────────────────────────┼────────┤\n",
      "│ 7312 │ Victoria                                             │   2015 │\n",
      "├──────┼──────────────────────────────────────────────────────┼────────┤\n",
      "│ 7321 │ Meadowland                                           │   2015 │\n",
      "├──────┼──────────────────────────────────────────────────────┼────────┤\n",
      "│ 7322 │ Momentum                                             │   2015 │\n",
      "├──────┼──────────────────────────────────────────────────────┼────────┤\n",
      "│ 7325 │ The Russian Woodpecker                               │   2015 │\n",
      "├──────┼──────────────────────────────────────────────────────┼────────┤\n",
      "│ 7327 │ Tales of Halloween                                   │   2015 │\n",
      "├──────┼──────────────────────────────────────────────────────┼────────┤\n",
      "│ 7333 │ Extraordinary Tales                                  │   2015 │\n",
      "├──────┼──────────────────────────────────────────────────────┼────────┤\n",
      "│ 7372 │ #Horror                                              │   2015 │\n",
      "├──────┼──────────────────────────────────────────────────────┼────────┤\n",
      "│ 7387 │ Killing Them Safely                                  │   2015 │\n",
      "├──────┼──────────────────────────────────────────────────────┼────────┤\n",
      "│ 7391 │ A Married Woman [Une Femme Mariee] [2015 re-release] │   2015 │\n",
      "├──────┼──────────────────────────────────────────────────────┼────────┤\n",
      "│ 7397 │ Life                                                 │   2015 │\n",
      "├──────┼──────────────────────────────────────────────────────┼────────┤\n",
      "│ 7399 │ My Friend Victoria                                   │   2015 │\n",
      "├──────┼──────────────────────────────────────────────────────┼────────┤\n",
      "│ 7402 │ MI-5                                                 │   2015 │\n",
      "╘══════╧══════════════════════════════════════════════════════╧════════╛\n"
     ]
    }
   ],
   "source": [
    "print('Total number of movies:',movies['title'].count())\n",
    "print('Movies with U.S. box office figures:',movies['title'][movies['total_gross'] > 0].count())\n",
    "print(\"\\n\")\n",
    "\n",
    "percentage_with_box_office = 100*(movies['title'][movies['total_gross'] > 0].count()/movies['title'].count())\n",
    "\n",
    "print('Percentage of movies with box office figures: ','{:,.0f}'.format(percentage_with_box_office),'%')\n",
    "print(\"\\n\")\n",
    "\n",
    "print('Movies with no box office data:')\n",
    "\n",
    "print(tabulate(movies[['title','year']][movies['total_gross'] == -9999],headers=['ID','Title','Year'],tablefmt='fancy_grid'))"
   ]
  },
  {
   "cell_type": "markdown",
   "metadata": {},
   "source": [
    "After correcting for inflation to express all values in December 2014 dollars, the movies in our dataset combined for gross box office receipts of more than <font color='red'>$175 billion</font>, underscoring once again the enormous importance of the American film industry."
   ]
  },
  {
   "cell_type": "code",
   "execution_count": 111,
   "metadata": {
    "collapsed": false
   },
   "outputs": [
    {
     "name": "stdout",
     "output_type": "stream",
     "text": [
      "Total box office receipts for all movies, 2000-2015 (in 2015 dollars):  $175,650,774,101\n"
     ]
    }
   ],
   "source": [
    "print('Total box office receipts for all movies, 2000-2015 (in 2015 dollars): ','${:,.0f}'.format(movies['adjusted_gross'][movies['adjusted_gross'] > 0].sum()))"
   ]
  },
  {
   "cell_type": "markdown",
   "metadata": {},
   "source": [
    "What companies are producing these films? Table 3 shows the top studios represented\n",
    "in our dataset, in terms of total adjusted gross for all movies released.\n",
    "\n",
    "### Table 3. Number of films released per studio in our entire dataset."
   ]
  },
  {
   "cell_type": "code",
   "execution_count": 112,
   "metadata": {
    "collapsed": false
   },
   "outputs": [
    {
     "name": "stdout",
     "output_type": "stream",
     "text": [
      "Table 3. Number of films released per studio in our entire dataset.\n",
      "Abbrev.    Studio                        Movies  Top-grossing title                             Total (2015 B$)\n",
      "---------  --------------------------  --------  ---------------------------------------------  -----------------\n",
      "BV         Buena Vista                      237  Star Wars: The Force Awakens                   $24.5\n",
      "WB         Warner Brothers                  309  The Dark Knight                                $23.4\n",
      "Fox        20th Century Fox                 253  Avatar                                         $20.6\n",
      "Uni.       Universal                        252  Jurassic World                                 $20.2\n",
      "Sony       Sony                             210  Spider-Man                                     $16.3\n",
      "Par.       Paramount                        178  Iron Man                                       $14.3\n",
      "NL         New Line                          88  The Lord of the Rings: The Return of the King  $5.5\n",
      "P/DW       Paramount / DreamWorks            39  Transformers: Revenge of the Fallen            $5.2\n",
      "LGF        Lionsgate Entertainment          133  The Hunger Games: Catching Fire                $4.9\n",
      "DW         Dream Works                       46  Shrek 2                                        $4.2\n",
      "WB (NL)    Warner Brothers / New Line        36  The Hobbit: An Unexpected Journey              $3.3\n",
      "Mira.      Miramax                          145  Chicago                                        $3.2\n",
      "SGem       Screen Gems                       67  The Vow                                        $2.8\n",
      "SonR       Sony Revolution Studios           40  XXX                                            $2.6\n",
      "FoxS       Fox Searchlight                  129  Juno                                           $2.5\n"
     ]
    }
   ],
   "source": [
    "bystudio = movies[(movies['total_gross'] > 0) & (movies['studio'] != ' ')].groupby('studio').agg({'thekey': np.size,'adjusted_gross' : np.sum})\n",
    "#bystudio.tail(10)\n",
    "bystudio = bystudio.sort_values('adjusted_gross',ascending=False)\n",
    "#bystudio.head(10)\n",
    "\n",
    "studio_names = [k for k in bystudio.index]\n",
    "#print(len(studio_names))\n",
    "\n",
    "yyy = [movies[movies['studio'] == m]['adjusted_gross'].idxmax() for m in studio_names]\n",
    "#print(len(yyy))\n",
    "\n",
    "zzz = [movies['title'].loc[g] for g in yyy]\n",
    "#print(len(zzz))\n",
    "\n",
    "bystudio['highest_movie'] = zzz\n",
    "\n",
    "themoney = [d/1000000000 for d in bystudio.adjusted_gross]\n",
    "themoney = ['${:,.1f}'.format(g) for g in themoney]\n",
    "bystudio['adjusted_gross_formatted'] = themoney\n",
    "\n",
    "bystudio['studio_name'] = ''\n",
    "bystudio['studio_name'][bystudio.index == 'BV'] = 'Buena Vista'\n",
    "bystudio['studio_name'][bystudio.index == 'WB'] = 'Warner Brothers'\n",
    "bystudio['studio_name'][bystudio.index == 'Fox'] = '20th Century Fox'\n",
    "bystudio['studio_name'][bystudio.index == 'Uni.'] = 'Universal'\n",
    "bystudio['studio_name'][bystudio.index == 'Sony'] = 'Sony'\n",
    "bystudio['studio_name'][bystudio.index == 'Par.'] = 'Paramount'\n",
    "bystudio['studio_name'][bystudio.index == 'NL'] = 'New Line'\n",
    "bystudio['studio_name'][bystudio.index == 'P/DW'] = 'Paramount / DreamWorks'\n",
    "bystudio['studio_name'][bystudio.index == 'LGF'] = 'Lionsgate Entertainment'\n",
    "bystudio['studio_name'][bystudio.index == 'DW'] = 'Dream Works'\n",
    "bystudio['studio_name'][bystudio.index == 'WB (NL)'] = 'Warner Brothers / New Line'\n",
    "bystudio['studio_name'][bystudio.index == 'SonR'] = 'Sony Revolution Studios'\n",
    "bystudio['studio_name'][bystudio.index == 'Mira.'] = 'Miramax'\n",
    "bystudio['studio_name'][bystudio.index == 'SGem'] = 'Screen Gems'\n",
    "bystudio['studio_name'][bystudio.index == 'FoxS'] = 'Fox Searchlight'\n",
    "\n",
    "bystudioprint = bystudio[['studio_name','thekey','highest_movie','adjusted_gross_formatted']].head(15)\n",
    "#print(zzz.columns)\n",
    "#print(zzz.count('title'))\n",
    "print('Table 3. Number of films released per studio in our entire dataset.')\n",
    "print(tabulate(bystudioprint,headers=['Abbrev.','Studio','Movies','Top-grossing title','Total (2015 B$)'],tablefmt='simple'))"
   ]
  },
  {
   "cell_type": "markdown",
   "metadata": {},
   "source": [
    "These <font color='red'>15</font> studios together are responsible for more than <font color='red'>87%</font> of all gross box office receipts during our study period. The limitations of our dataset preclude making comparisons between studios; for example, Screen Gems is a division of Sony Pictures, but they are listed as separate rows in Table 3. However, Table 3 does lend support to the common observation that only a few studios contribute most of the industry’s financial returns."
   ]
  },
  {
   "cell_type": "code",
   "execution_count": 113,
   "metadata": {
    "collapsed": false
   },
   "outputs": [
    {
     "name": "stdout",
     "output_type": "stream",
     "text": [
      "Table 3 includes  15  studios.\n",
      "These studios' box office receipts add up to:  $153,314,187,108 .\n",
      "All studios' box office receipts add up to:  $175,649,981,717 .\n",
      "Thus, the studios shown in Table 3 account for  87% of total receipts.\n"
     ]
    }
   ],
   "source": [
    "print('Table 3 includes ',bystudio['studio_name'][bystudio['studio_name'] != ''].count(),' studios.')\n",
    "\n",
    "print('These studios\\' box office receipts add up to: ','${:,.0f}'.format(bystudio['adjusted_gross'][bystudio['studio_name'] != ''].sum()),'.')\n",
    "\n",
    "print('All studios\\' box office receipts add up to: ','${:,.0f}'.format(bystudio['adjusted_gross'].sum()),'.')\n",
    "\n",
    "big_studio_percentage = 100*(bystudio['adjusted_gross'][bystudio['studio_name'] != ''].sum()/bystudio['adjusted_gross'].sum())\n",
    "\n",
    "print('Thus, the studios shown in Table 3 account for ','{:,.0f}%'.format(big_studio_percentage),'of total receipts.')"
   ]
  },
  {
   "cell_type": "markdown",
   "metadata": {},
   "source": [
    "This observation shows that, like many economic and social phenomena, film box office receipts are extremely top-heavy, with a few titles responsible for most receipts, and a large number of titles generating much smaller receipts. This fact means that the analysis of movie receipts data is clearer if receipts are sorted into bins of unequal size. Table 4 shows the number of movies in each of four bins (again, figures are in inflation-adjusted December 2015 dollars):\n",
    "\n",
    "1. Box office receipts less than \\$100,000\n",
    "\n",
    "2. Greater than (or equal to) \\$100,000 but less than \\$10 million\n",
    "\n",
    "3. Greater than (or equal to) \\$10 million but less than \\$100 million\n",
    "\n",
    "4. \\$100 million or more\n",
    "\n",
    "### Table 4. Number of films in our dataset for which the gross box office receipts reach four different levels (bins)."
   ]
  },
  {
   "cell_type": "code",
   "execution_count": 114,
   "metadata": {
    "collapsed": false,
    "scrolled": true
   },
   "outputs": [
    {
     "name": "stdout",
     "output_type": "stream",
     "text": [
      "Table 4. Number of films in our dataset for which the gross box office receipts reach four different levels (bins).\n",
      "╒══════════════╤════════════════════════╤══════════╤═════════════════════════╕\n",
      "│   Bin number │ Bin                    │   Movies │ Percent of all movies   │\n",
      "╞══════════════╪════════════════════════╪══════════╪═════════════════════════╡\n",
      "│            1 │ Less than $100,000     │     2608 │ 35.1%                   │\n",
      "├──────────────┼────────────────────────┼──────────┼─────────────────────────┤\n",
      "│            2 │ $100,000 - $10 million │     2617 │ 35.2%                   │\n",
      "├──────────────┼────────────────────────┼──────────┼─────────────────────────┤\n",
      "│            3 │ $10 - $100 million     │     1769 │ 23.8%                   │\n",
      "├──────────────┼────────────────────────┼──────────┼─────────────────────────┤\n",
      "│            4 │ More than $100,000,000 │      434 │ 5.8%                    │\n",
      "╘══════════════╧════════════════════════╧══════════╧═════════════════════════╛\n"
     ]
    }
   ],
   "source": [
    "movies['moneybin'] = 0\n",
    "movies.loc[movies['total_gross'] < 100000, 'moneybin'] = 1\n",
    "movies.loc[(movies['total_gross'] > 100000) & (movies['total_gross'] <= 10000000), 'moneybin'] = 2\n",
    "movies.loc[(movies['total_gross'] > 10000000) & (movies['total_gross'] <= 100000000), 'moneybin'] = 3\n",
    "movies.loc[movies['total_gross'] > 100000000, 'moneybin'] = 4\n",
    "\n",
    "table4all = movies.groupby('moneybin').count()\n",
    "\n",
    "#table4all['percentoftotal'] = (100*table4all['title'] / (np.count_nonzero(table4all['title'])))\n",
    "\n",
    "#table4all.sort_index()\n",
    "\n",
    "table4 = table4all[['title']]\n",
    "\n",
    "table4['moneybin_name'] = ''\n",
    "table4['moneybin_name'][table4.index == 1] = 'Less than $100,000'\n",
    "table4['moneybin_name'][table4.index == 2] = '$100,000 - $10 million'\n",
    "table4['moneybin_name'][table4.index == 3] = '$10 - $100 million'\n",
    "table4['moneybin_name'][table4.index == 4] = 'More than $100,000,000'\n",
    "\n",
    "table4['percentoftotal'] = (100*table4all['title'] / (movies['title'].count()))\n",
    "\n",
    "formatted_percent_table4 = ['{:,.1f}%'.format(q) for q in table4['percentoftotal']]\n",
    "table4['percentoftotal'] = formatted_percent_table4\n",
    "\n",
    "\n",
    "print('Table 4. Number of films in our dataset for which the gross box office receipts reach four different levels (bins).')\n",
    "print(tabulate(table4[['moneybin_name','title','percentoftotal']],headers=['Bin number','Bin','Movies','Percent of all movies'],tablefmt='fancy_grid'))\n",
    "#print(tabulate(table4,headers=['Bin','Movies'],tablefmt='fancy_grid'))"
   ]
  },
  {
   "cell_type": "markdown",
   "metadata": {},
   "source": [
    "Another way to show such top-heavy data is to plot a histogram of the logarithm (base 10) of both observed values and frequency counts. Figure 1 shows this plot for box office receipts in our dataset. A histogram is a graph showing a range of data values along the bottom (the x-axis). The range is divided into smaller groupings called “bins”; above each bin is a bar whose height shows how many times the values in that bin occur in the dataset.\n",
    "\n",
    "### Figure 1"
   ]
  },
  {
   "cell_type": "code",
   "execution_count": 115,
   "metadata": {
    "collapsed": false
   },
   "outputs": [
    {
     "name": "stdout",
     "output_type": "stream",
     "text": [
      "Figure 1\n"
     ]
    },
    {
     "data": {
      "image/png": "[encoded data removed]",
      "text/plain": [
       "<matplotlib.figure.Figure at 0x7f3172743c88>"
      ]
     },
     "metadata": {},
     "output_type": "display_data"
    }
   ],
   "source": [
    "fig1 = plt.figure(figsize=(5,5))\n",
    "ax1 = fig1.add_subplot(1,1,1)\n",
    "#ax1.hist(movies['userscore'],bins=90,range=(1,10))\n",
    "#ax1.hist(movies['total_gross'],bins=np.logspace(1, 9, 50),log=True)\n",
    "ax1.hist(movies['adjusted_gross'],bins=np.logspace(1, 9, 100),log=True)\n",
    "ax1.set_xscale(\"log\")\n",
    "ax1.axis([10,10000000000,0.5,1000])\n",
    "# Add a title.\n",
    "#movies[movies['total_gross'] > 0].count()   # 7,230 movies have box office receipts recorded\n",
    "ax1.set_title(\"Logarithmic histogram of box office receipts (n=7,230)\",fontsize=12)\n",
    "# Add some axis labels.\n",
    "ax1.set_xlabel(\"Box office receipts (2015$)\",fontsize=10)\n",
    "ax1.set_ylabel(\"Number of movies\",fontsize=10)\n",
    "\n",
    "print('Figure 1')\n",
    "fig1.show()\n",
    "\n",
    "#movies['log_total_gross'] = np.log10(movies['total_gross'])\n",
    "#movies[['title','log_total_gross']]\n",
    "\n",
    "#plt.hist(movies['total_gross'],bins=np.logspace(1, 9, 50))\n",
    "\n",
    "#plt.hist(x, 50, normed=1, facecolor='green', alpha=0.75)"
   ]
  },
  {
   "cell_type": "markdown",
   "metadata": {},
   "source": [
    "In most histograms, all the bins have equal widths, but this histogram is somewhat different. Each tick mark on both the horizontal and vertical axes shows values a factor of ten larger than the previous tick. Thus, each bin along the x-axis actually contains ten times the range of data values of the previous bin, and each bar that reaches an additional tick mark on the y-axis contains ten times as many films as the lower bar.\n",
    "\n",
    "The two bars to the far left show the <font color='red'>two</font> films with lowest box office receipts, both with around <font color='red'>$100</font> each:"
   ]
  },
  {
   "cell_type": "code",
   "execution_count": 116,
   "metadata": {
    "collapsed": false
   },
   "outputs": [
    {
     "name": "stdout",
     "output_type": "stream",
     "text": [
      "The two lowest-grossing films:\n",
      "╒══════╤═══════════════╤══════════════════╕\n",
      "│   id │ title         │ adjsuted_gross   │\n",
      "╞══════╪═══════════════╪══════════════════╡\n",
      "│ 5705 │ Storage 24    │ $74              │\n",
      "├──────┼───────────────┼──────────────────┤\n",
      "│ 3841 │ The Objective │ $106             │\n",
      "╘══════╧═══════════════╧══════════════════╛\n"
     ]
    }
   ],
   "source": [
    "print('The two lowest-grossing films:')\n",
    "\n",
    "lowest = movies[(movies['adjusted_gross'] > 0)][['title','adjusted_gross']].sort_values('adjusted_gross').head(2)\n",
    "\n",
    "moviemoney = ['${:,.0f}'.format(g) for g in lowest.adjusted_gross]\n",
    "lowest['adjusted_gross_formatted'] = moviemoney\n",
    "lowestprint = lowest[['title','adjusted_gross_formatted']]\n",
    "print(tabulate(lowestprint,headers=['id','title','adjsuted_gross'],tablefmt='fancy_grid'))"
   ]
  },
  {
   "cell_type": "markdown",
   "metadata": {},
   "source": [
    "The two bars on the far right show the <font color='red'>two</font> highest-grossing movies, both of which brought in more than <font color='red'>$800 million</font> (inflation-adjusted)."
   ]
  },
  {
   "cell_type": "code",
   "execution_count": 117,
   "metadata": {
    "collapsed": false
   },
   "outputs": [
    {
     "name": "stdout",
     "output_type": "stream",
     "text": [
      "The two highest-grossing films:\n",
      "╒══════╤══════════════════════════════╤══════════════════╕\n",
      "│   id │ title                        │ adjsuted_gross   │\n",
      "╞══════╪══════════════════════════════╪══════════════════╡\n",
      "│ 7419 │ Star Wars: The Force Awakens │ $936,519,700     │\n",
      "├──────┼──────────────────────────────┼──────────────────┤\n",
      "│ 4204 │ Avatar                       │ $821,205,200     │\n",
      "╘══════╧══════════════════════════════╧══════════════════╛\n"
     ]
    }
   ],
   "source": [
    "print('The two highest-grossing films:')\n",
    "\n",
    "highest = movies[(movies['adjusted_gross'] > 0)][['title','adjusted_gross']].sort_values('adjusted_gross',ascending=False).head(2)\n",
    "\n",
    "moviemoney = ['${:,.0f}'.format(g) for g in highest.adjusted_gross]\n",
    "highest['adjusted_gross_formatted'] = moviemoney\n",
    "highestprint = highest[['title','adjusted_gross_formatted']]\n",
    "print(tabulate(highestprint,headers=['id','title','adjsuted_gross'],tablefmt='fancy_grid'))"
   ]
  },
  {
   "cell_type": "markdown",
   "metadata": {},
   "source": [
    "Keeping in mind the caveat that logarithmic scales introduce distortions in plots, we note the fascinating bimodal (double-peaked) distribution of receipts, with one peak of around \\$200,000 and another of around \\$30,000,000. We suspect this is due to the distribution gap between wide release and limited release movies, with the \\$200,000 peak representing the average for a film that only screened in a few places and the \\$30,000,000 peak representing the average for wide release movies, but more careful research is needed to draw conclusions."
   ]
  },
  {
   "cell_type": "markdown",
   "metadata": {},
   "source": [
    "### Critical judgment data: User and critic ratings\n",
    "\n",
    "Financial returns are the data most important to studio decisions, but are only one part of the story of how our culture understands the film industry. The other important consideration is the perceived artistic merit of the films. We do not make any artistic judgments ourselves; rather, we consider the opinions of two groups: viewers - specifically, registered users of the Internet Movie Database (IMDb) - and professional film critics. Data sources for each are explained in the Data and Methods section.\n",
    "\n",
    "As described in the Data section, IMDb provides user ratings only for those movies that have received more than five user votes; but many movies have received many more votes, all the way up to The Dark Knight, which has more than 1 million votes. Our dataset of user ratings contains <font color='red'>321,488,529</font> individual votes. As described in the Data and Methods section, we know that within an individual title, each user can vote only once; but of course users may vote on more than one movie, so we have no way of knowing how many people contributed these <font color='red'>321,488,529</font> votes. But it is safe to say that our dataset of user ratings is one of the largest ever used in a study of this type."
   ]
  },
  {
   "cell_type": "code",
   "execution_count": 118,
   "metadata": {
    "collapsed": false
   },
   "outputs": [
    {
     "name": "stdout",
     "output_type": "stream",
     "text": [
      "Total IMDb votes in our dataset:  321,488,529\n"
     ]
    }
   ],
   "source": [
    "print('Total IMDb votes in our dataset: ','{:,.0f}'.format(movies['nvotes'].sum()))"
   ]
  },
  {
   "cell_type": "markdown",
   "metadata": {},
   "source": [
    "Figure 2 shows the histogram of user scores. User scores from 1 to 10 are shown along the bottom of the graph (on the x-axis). The number of movies with that score is shown along the left side (on the y-axis)."
   ]
  },
  {
   "cell_type": "code",
   "execution_count": 119,
   "metadata": {
    "collapsed": false
   },
   "outputs": [
    {
     "name": "stdout",
     "output_type": "stream",
     "text": [
      "Movies with IMDb user ratings:  7,428\n"
     ]
    },
    {
     "data": {
      "image/png": "[encoded data removed]",
      "text/plain": [
       "<matplotlib.figure.Figure at 0x7f3172ee20f0>"
      ]
     },
     "metadata": {},
     "output_type": "display_data"
    }
   ],
   "source": [
    "nUserscore = movies['title'][movies['userscore'] > 0].count()\n",
    "print(\"Movies with IMDb user ratings: \",'{:,.0f}'.format(nUserscore))\n",
    "\n",
    "## Bin widths recommended by the Freedman-Diaconis rule: h= 2∗IQR∗(n^(−1/3)); bin number = (max-min)/h\n",
    "#n = movies['userscore'].count()\n",
    "#interquantile_range = movies['userscore'].quantile(.75) - movies['userscore'].quantile(.25)\n",
    "#h = 2*interquantile_range*(n**(-1/3))\n",
    "#nbins = np.round((movies['userscore'].max() - movies['userscore'].min()) / h,0)\n",
    "#print(nbins)\n",
    "\n",
    "fig2 = plt.figure(figsize=(8,8))\n",
    "ax2 = fig2.add_subplot(1,1,1)\n",
    "#ax2.hist(movies['userscore'],bins=nbins,range=(1,10))\n",
    "ax2.hist(movies['userscore'],bins=91,range=(1,10))\n",
    "ax2.axis([1,10,0,350])\n",
    "#ax2.tick_params(axis='both', which='major', labelsize=8)\n",
    "# Add a title.\n",
    "ax2_title_string = 'Histogram of IMDb user ratings (n='+'{:,.0f}'.format(nUserscore)+\")\"\n",
    "ax2.set_title(ax2_title_string,fontsize=12)\n",
    "# Add some axis labels.\n",
    "ax2.set_xlabel(\"IMDb user rating\",fontsize=10)\n",
    "ax2.set_ylabel(\"Number of movies\",fontsize=10)\n",
    "\n",
    "fig2.show()"
   ]
  },
  {
   "cell_type": "markdown",
   "metadata": {},
   "source": [
    "The leftmost bar shows <font color='red'>the single movie with the minimum user score of 1.0: <i>Moebius</i></font>. The rightmost bar shows <font color='red'>the single movie with the maximum user score of 9.4: <i>Isn't This a Time! A Tribute to Harold Leventhal</i></font>."
   ]
  },
  {
   "cell_type": "code",
   "execution_count": 120,
   "metadata": {
    "collapsed": false
   },
   "outputs": [
    {
     "name": "stdout",
     "output_type": "stream",
     "text": [
      "╒═══════════╤══════════════════════════════════════════════════╕\n",
      "│           │ Movie with highest userscore                     │\n",
      "╞═══════════╪══════════════════════════════════════════════════╡\n",
      "│ title     │ Isn't This a Time! A Tribute to Harold Leventhal │\n",
      "├───────────┼──────────────────────────────────────────────────┤\n",
      "│ userscore │ 9.4                                              │\n",
      "╘═══════════╧══════════════════════════════════════════════════╛\n",
      "╒═══════════╤═══════════════════════════════╕\n",
      "│           │ Movie with lowest userscore   │\n",
      "╞═══════════╪═══════════════════════════════╡\n",
      "│ title     │ Moebius                       │\n",
      "├───────────┼───────────────────────────────┤\n",
      "│ userscore │ 1.0                           │\n",
      "╘═══════════╧═══════════════════════════════╛\n"
     ]
    }
   ],
   "source": [
    "print(tabulate(movies[['title','userscore']].loc[movies['userscore'].idxmax()].to_frame(),headers=['Movie with highest userscore'],tablefmt='fancy_grid'))\n",
    "print(tabulate(movies[['title','userscore']].loc[movies['userscore'].idxmin()].to_frame(),headers=['Movie with lowest userscore'],tablefmt='fancy_grid'))"
   ]
  },
  {
   "cell_type": "markdown",
   "metadata": {},
   "source": [
    "In spite of the uneven distribution of the number of votes per title (from five to more than one million votes contributing to the ratings), the user ratings show the expected pattern of a bell curve, more precisely described as a \"normal distribution.\"\n",
    "\n",
    "The mean of the distribution - in other words, the average user rating for a movie on IMDb - is <font color='red'>6.51</font> out of 10. The standard deviation of the distribution of user ratings - a common measure of how much the distribution clusters around the mean value - is <font color='red'>0.99</font>. The definition of standard deviation means that about two-thirds of ratings lie within one standard deviation of the mean; that is, <font color='red'>between 5.53 and 7.50</font>."
   ]
  },
  {
   "cell_type": "code",
   "execution_count": 121,
   "metadata": {
    "collapsed": false
   },
   "outputs": [
    {
     "name": "stdout",
     "output_type": "stream",
     "text": [
      "Minimum number of votes:  5\n",
      "Maximum number of votes:  1,638,089\n",
      "Average user rating: 6.51\n",
      "Standard devition of user rating: 0.99\n",
      "Two thirds of values lie between 5.53 and 7.50\n"
     ]
    }
   ],
   "source": [
    "print('Minimum number of votes: ','{:,.0f}'.format(movies['nvotes'].min()))\n",
    "print('Maximum number of votes: ','{:,.0f}'.format(movies['nvotes'].max()))\n",
    "#print(tabulate(movies[['title','nvotes']].loc[movies['nvotes'].idxmax()].to_frame(),headers=['Movie with most IMDb votes'],tablefmt='fancy_grid'))\n",
    "\n",
    "meanuserscore = movies['userscore'].mean()\n",
    "stdevuserscore = movies['userscore'].std()\n",
    "\n",
    "print('Average user rating:','{:,.2f}'.format(meanuserscore))\n",
    "print('Standard devition of user rating:','{:,.2f}'.format(stdevuserscore))\n",
    "print('Two thirds of values lie between','{:,.2f}'.format(meanuserscore - stdevuserscore),'and','{:,.2f}'.format(meanuserscore + stdevuserscore))"
   ]
  },
  {
   "cell_type": "markdown",
   "metadata": {},
   "source": [
    "What about the ratings given by professional film critics? Figure 3 shows the distribution of “metascores” from the Metacritic website for films in our dataset <font color='red'>(n = 7,428)</font>. The histogram is shown in the same way as in Figure 2, but note that the x-axis (Metascore) now runs from 1 to 100 instead of 1 to 10."
   ]
  },
  {
   "cell_type": "code",
   "execution_count": 122,
   "metadata": {
    "collapsed": false
   },
   "outputs": [
    {
     "name": "stdout",
     "output_type": "stream",
     "text": [
      "Movies with Metascores:  7,428\n"
     ]
    },
    {
     "data": {
      "image/png": "[encoded data removed]",
      "text/plain": [
       "<matplotlib.figure.Figure at 0x7f3175284eb8>"
      ]
     },
     "metadata": {},
     "output_type": "display_data"
    }
   ],
   "source": [
    "nMetascore = movies['title'][movies['metascore'] > 0].count()\n",
    "print(\"Movies with Metascores: \",'{:,.0f}'.format(nMetascore))\n",
    "\n",
    "## Bin widths recommended by the Freedman-Diaconis rule: h= 2∗IQR∗(n^(−1/3)); bin number = (max-min)/h\n",
    "#n = movies['metascore'].count()\n",
    "#interquantile_range = movies['metascore'].quantile(.75) - movies['metascore'].quantile(.25)\n",
    "#h = 2*interquantile_range*(n**(-1/3))\n",
    "#nbins = np.round((movies['metascore'].max() - movies['metascore'].min()) / h,0)\n",
    "#print(nbins)\n",
    "      \n",
    "fig3 = plt.figure(figsize=(5,5))\n",
    "ax3 = fig3.add_subplot(1,1,1)\n",
    "ax3.hist(movies['metascore'],bins=50,range=(1,100))\n",
    "#ax3.hist(movies['metascore'],bins=nbins,range=(1,100))\n",
    "ax3.axis([1,100,0,350])\n",
    "#ax2.tick_params(axis='both', which='major', labelsize=8)\n",
    "# Add a title.\n",
    "ax3_title_string = \"Histogram of IMDb user ratings (n=\"+'{:,.0f}'.format(nMetascore)+\")\"\n",
    "ax3.set_title(ax3_title_string,fontsize=12)\n",
    "# Add some axis labels.\n",
    "ax3.set_xlabel(\"Metacritic rating\",fontsize=10)\n",
    "ax3.set_ylabel(\"Number of movies\",fontsize=10)\n",
    "\n",
    "fig3.show()"
   ]
  },
  {
   "cell_type": "markdown",
   "metadata": {},
   "source": [
    "<font color='red'>Five</font> films have Metascores of 1 and <font color='red'>two</font> have Metascores of 100."
   ]
  },
  {
   "cell_type": "code",
   "execution_count": 123,
   "metadata": {
    "collapsed": false
   },
   "outputs": [
    {
     "name": "stdout",
     "output_type": "stream",
     "text": [
      "The 5 movies with a Metascore of 1:\n",
      "╒══════╤══════════════════════════════╤════════╤═════════════╕\n",
      "│   ID │ Title                        │   Year │   Metascore │\n",
      "╞══════╪══════════════════════════════╪════════╪═════════════╡\n",
      "│ 2167 │ Chaos                        │   2005 │           1 │\n",
      "├──────┼──────────────────────────────┼────────┼─────────────┤\n",
      "│ 5792 │ InAPPropriate Comedy         │   2013 │           1 │\n",
      "├──────┼──────────────────────────────┼────────┼─────────────┤\n",
      "│ 6413 │ 10 Rules for Sleeping Around │   2014 │           1 │\n",
      "├──────┼──────────────────────────────┼────────┼─────────────┤\n",
      "│ 6712 │ Not Cool                     │   2014 │           1 │\n",
      "├──────┼──────────────────────────────┼────────┼─────────────┤\n",
      "│ 7106 │ United Passions              │   2015 │           1 │\n",
      "╘══════╧══════════════════════════════╧════════╧═════════════╛\n",
      "The 2 movies with a Metascore of 100:\n",
      "╒══════╤══════════════════╤════════╤═════════════╕\n",
      "│   ID │ Title            │   Year │   Metascore │\n",
      "╞══════╪══════════════════╪════════╪═════════════╡\n",
      "│ 6057 │ Best Kept Secret │   2013 │         100 │\n",
      "├──────┼──────────────────┼────────┼─────────────┤\n",
      "│ 6581 │ Boyhood          │   2014 │         100 │\n",
      "╘══════╧══════════════════╧════════╧═════════════╛\n"
     ]
    }
   ],
   "source": [
    "lowmetascore = movies[['title','year','metascore']][movies['metascore'] == 1]\n",
    "print('The',lowmetascore['title'].count(),'movies with a Metascore of 1:')\n",
    "print(tabulate(lowmetascore,headers=['ID','Title','Year','Metascore'],tablefmt='fancy_grid'))\n",
    "\n",
    "highmetascore = movies[['title','year','metascore']][movies['metascore'] == 100]\n",
    "print('The',highmetascore['title'].count(),'movies with a Metascore of 100:')\n",
    "print(tabulate(highmetascore,headers=['ID','Title','Year','Metascore'],tablefmt='fancy_grid'))"
   ]
  },
  {
   "cell_type": "markdown",
   "metadata": {},
   "source": [
    "The mean Metascore is <font color='red'>56</font>, and the distribution has a standard deviation of <font color='red'>17</font>, meaning that about two-thirds of films have Metascores <font color='red'>between 39 and 73</font>."
   ]
  },
  {
   "cell_type": "code",
   "execution_count": 124,
   "metadata": {
    "collapsed": false
   },
   "outputs": [
    {
     "name": "stdout",
     "output_type": "stream",
     "text": [
      "Average Metascore: 56\n",
      "Standard devition of Metascore: 17\n",
      "Two thirds of values lie between 39 and 73\n"
     ]
    }
   ],
   "source": [
    "meanMetascore = movies['metascore'].mean()\n",
    "stdevMetascore = movies['metascore'].std()\n",
    "print('Average Metascore:','{:,.0f}'.format(meanMetascore))\n",
    "\n",
    "print('Standard devition of Metascore:','{:,.0f}'.format(stdevMetascore))\n",
    "print('Two thirds of values lie between','{:,.0f}'.format(meanMetascore - stdevMetascore),'and','{:,.0f}'.format(meanMetascore + stdevMetascore))"
   ]
  },
  {
   "cell_type": "markdown",
   "metadata": {},
   "source": [
    "Comparing the distributions of ratings given by viewers and critics (Figures 3 and 4) reveals some fascinating trends. The mean film rating given by critics (<font color='red'>56</font>/100) is lower than the mean rating given by viewers (<font color='red'>6.51</font>/10). Furthermore, the spread of ratings assigned by critics (standard deviation of <font color='red'>17</font>/100) is wider than the spread of ratings assigned by viewers (<font color='red'>0.99</font>/10). These observations mean that, on average, critics assign lower scores than viewers, and that they are more likely to give scores that are higher or lower than their average for all movies.\n",
    "\n",
    "There could be a number of possible explanations for these observations. Perhaps critics have higher artistic standards for film, and are better able to distinguish small differences in quality. Perhaps critics have learned, consciously or unconsciously, that controversy sells copy, and are therefore more likely to assign scores closer to the extremes. Perhaps the process of becoming a professional film critic selects for people with more extreme opinions. Perhaps the effect is due to some inherent difference in the way in which IMDb and/or Metacritic calculates summary scores, since the specific methods the sites use are not publicly available. Quantitative methods are not ideal for answering such questions of underlying causation, and certainly our study cannot distinguish between these possibilities. We encourage other researchers to continue studying possible reasons for the observed differences in the means and standard deviations of viewers and critics."
   ]
  },
  {
   "cell_type": "markdown",
   "metadata": {},
   "source": [
    "### How do critical and public opinions of movies correlate?\n",
    "\n",
    "Having assembled our dataset and understood its basic statistical properties, we now consider our research questions and hypotheses. Our first research question compares critical and viewer opinions to one another; our second compares both types of opinions to box office receipts. The ideal methods for answering such questions - those that ask how data values change in relation to one another - are the methods of correlation and regression.\n",
    "\n",
    "A first step in any such study is to graph the variables of interest against one another to look for trends. Figure 4 shows such a graph - a scatterplot with IMDb user scores along the bottom (x-axis) and Metascores along the left side (y-axis). Each point on the graph represents a single movie, showing both types of scores. For orientation, points in the top right corner represent movies that scored highly with both web users and critics; films in the middle left scored moderately well with critics and poorly with users. The graph shows, at a glance, the relationship between user and critic scores for our entire big dataset at once."
   ]
  },
  {
   "cell_type": "markdown",
   "metadata": {},
   "source": [
    "# 4. Figure 4: Scatterplot\n",
    "\n",
    "Scatterplot of IMDb user scores (x-axis) and metacritic critic scores (y-axis)."
   ]
  },
  {
   "cell_type": "code",
   "execution_count": 125,
   "metadata": {
    "ExecuteTime": {
     "end_time": "2016-04-25T17:31:33.930267",
     "start_time": "2016-04-25T17:31:33.582504"
    },
    "collapsed": false,
    "scrolled": true
   },
   "outputs": [
    {
     "name": "stdout",
     "output_type": "stream",
     "text": [
      "Figure 4. Scatterplot of ratings by users and critics (n= 7,428 )\n"
     ]
    },
    {
     "data": {
      "image/png": "[encoded data removed]",
      "text/plain": [
       "<matplotlib.figure.Figure at 0x7f3172ac5b70>"
      ]
     },
     "metadata": {},
     "output_type": "display_data"
    }
   ],
   "source": [
    "nPoints = movies['title'][(movies['userscore'] > 0) & (movies['metascore'] > 0)].count()\n",
    "print('Figure 4. Scatterplot of ratings by users and critics (n=','{:,.0f}'.format(nPoints),')')\n",
    "\n",
    "# This code block uses the matplotlib external library, which you imported earlier.\n",
    "fig4 = plt.figure(figsize=(5,5))\n",
    "# Create an Axes object.\n",
    "ax4 = fig4.add_subplot(1,1,1) # one row, one column, first plot\n",
    "# Plot the data.\n",
    "ax4.scatter(movies['userscore'],movies['metascore'], s=4,color=\"red\", marker=\"o\")\n",
    "ax4.axis([0,10,0,100])\n",
    "ax4.tick_params(axis='both', which='major', labelsize=8)\n",
    "# Add a title.\n",
    "title_string = 'Scatterplot of ratings by users and critics (n='+'{:,.0f}'.format(nPoints)+')'\n",
    "ax4.set_title(title_string,fontsize=12)\n",
    "# Add some axis labels.\n",
    "ax4.set_xlabel(\"IMDb user score\",fontsize=10)\n",
    "ax4.set_ylabel(\"Metascore\",fontsize=10)\n",
    "fig4.show()   # show the plot"
   ]
  },
  {
   "cell_type": "markdown",
   "metadata": {},
   "source": [
    "The clearest trend in Figure 4 is the broad cloud of points in the middle, trending roughly diagonally from lower left to upper right. That cloud shows that, while the relationship is by no means perfect, ratings by users and critics do tend to go together.\n",
    "\n",
    "We hypothesized that user and critic scores would not agree, based on the financial success of such critically reviled movies as Michael Bay’s <i>Transformers</i> series. However, Figure 4 shows that this is clearly not the case.\n",
    "\n",
    "Can we say anything more quantitative about the relationship between user and critic scores? Yes, using the methods of correlation analysis, which are essentially a formalized way of measuring the strength of the linear trend shown graphically in Figure 4. The correlation is a number ranging from -1 to 1 giving the relationship between two variables. A correlation of 1 indicates that the two variables go together perfectly - when one increases in value, the other always increases at a predictable rate. A correlation of -1 means that the two variables go together in a perfectly opposite way - when one increases, the other decreases at a predictable rate. A correlation of 0 means that the values are completely unrelated. There are no hard-and-fast rules for interpreting correlation values, but a common guideline is that a correlation greater than 0.5 (or less than -0.5) is considered a large correlation."
   ]
  },
  {
   "cell_type": "markdown",
   "metadata": {},
   "source": [
    "The correlation between Metacritic critic scores and IMDb user scores in our dataset <font color='red'>(n = 7,428</font> movies) is <font color='red'>.683</font>."
   ]
  },
  {
   "cell_type": "code",
   "execution_count": 126,
   "metadata": {
    "collapsed": false
   },
   "outputs": [
    {
     "name": "stdout",
     "output_type": "stream",
     "text": [
      "Movies with both IMDb user scores and Metascores: 7,428\n",
      "Correlation between IMDb user scores and Metascores: 0.683\n"
     ]
    }
   ],
   "source": [
    "print('Movies with both IMDb user scores and Metascores:','{:,.0f}'.format(movies['title'][(movies['userscore'] >= 0) & (movies['metascore'] >= 0)].count()))\n",
    "\n",
    "#movies['userscore'] >= 0 and movies['metascore'] >= 0]\n",
    "print('Correlation between IMDb user scores and Metascores:','{:.3f}'.format(movies['userscore'].corr(movies['metascore'])))"
   ]
  },
  {
   "cell_type": "markdown",
   "metadata": {},
   "source": [
    "That value is by no means a perfect correlation, but it is large enough that we can make a clear case that critics and the public tend to give the same movies similar scores.\n",
    "\n",
    "This fact is all the more intriguing given that the results of our next research question showed variables that do not correlate: neither the user score nor the critic score correlates to any appreciable degree with gross box office receipts, whether considered as raw amounts or adjusted for inflation. Table 5 shows the correlation matrix (the correlation between every variable and every other variable) for user score, critic score, and both types of box office receipts."
   ]
  },
  {
   "cell_type": "code",
   "execution_count": 127,
   "metadata": {
    "collapsed": false
   },
   "outputs": [
    {
     "name": "stdout",
     "output_type": "stream",
     "text": [
      "Table 5. Correlations among user score, Metascore, and gross box office receipts for films in our dataset.\n",
      "Variable           IMDb user score    Metascore    Box office (raw)    Box office (adjusted)\n",
      "---------------  -----------------  -----------  ------------------  -----------------------\n",
      "IMDb user score              1            0.683               0.058                    0.054\n",
      "Metascore                    0.683        1                   0.014                    0.011\n"
     ]
    }
   ],
   "source": [
    "#movies.tail(10)\n",
    "moviestocorr = movies[['userscore','metascore','total_gross','adjusted_gross']]\n",
    "\n",
    "moviestocorr.rename(index=str, columns={\"userscore\": \"IMDb user score\", \"metascore\": \"Metascore\", \"total_gross\": \"Box office (raw)\", \"adjusted_gross\": \"Box office (inflation-adjusted)\"},inplace=True)\n",
    "allthecorr = moviestocorr.corr()\n",
    "table5 = allthecorr[(allthecorr.index == \"IMDb user score\") | (allthecorr.index == \"Metascore\")]\n",
    "table5['IMDb user score'] = ['{:.3f}'.format(k) for k in table5['IMDb user score']]\n",
    "table5['Metascore'] = ['{:.3f}'.format(k) for k in table5['Metascore']]\n",
    "table5['Box office (raw)'] = ['{:.3f}'.format(k) for k in table5['Box office (raw)']]\n",
    "table5['Box office (inflation-adjusted)'] = ['{:.3f}'.format(k) for k in table5['Box office (inflation-adjusted)']]\n",
    "\n",
    "print('Table 5. Correlations among user score, Metascore, and gross box office receipts for films in our dataset.')\n",
    "#table5['IMDb user score'] = x\n",
    "print(tabulate(table5,headers=['Variable','IMDb user score','Metascore','Box office (raw)','Box office (adjusted)'],tablefmt='simple'))\n",
    "#print(table5['IMDb user score'])\n",
    "#print(tabulate(table5,headers=['Variable','IMDb user score','Metascore','Raw gross','Adjsuted gross'],tablefmt='fancy_grid'))"
   ]
  },
  {
   "cell_type": "markdown",
   "metadata": {},
   "source": [
    "<a name=\"#back75\"></a>Thus, while the statistical evidence in our dataset proved our first hypothesis incorrect, our second hypothesis was supported<a href=\"#e75\"><sup>75</sup></a>. Despite the fact that viewers tend to agree with critics, poor critical reception is not associated with poor box office performance. Since viewers agree with critics a far greater amount of the time than they fail to see a movie at all because of what the critics say (because to rate a film, viewers must have seen it first), we can infer that there is virtually no relationship between what the critics think of a movie and whether or not it makes money at the box office, although we cannot draw conclusions about why.\n",
    "\n",
    "<a name=\"#back76\"></a>Cartier and Liarte say that, just by being out, a highly rated movie gets people to go to the movies more.<a href=\"#e76\"><sup>76</sup></a> However, rather than contradict our findings, this underscores the idea that there is no connection between critical appraisal and the decision to watch a particular movie. Despite Cartier and Liarte’s observation that the viewing public shows some interest in seeing critically acclaimed movies, the fact that that interest boosts attendance for <i>all</i> films still demonstrates the lack of importance given to the critical appraisal of any one movie."
   ]
  },
  {
   "cell_type": "markdown",
   "metadata": {},
   "source": [
    "### The significance of release times to box office take, on average - AKA \"dump months\"\n",
    "\n",
    "We next look at how the timing of a film's release is associated with both its box office performance and its artistic merit as measured by users' and critics' ratings. Table 6 shows the data we use in our analysis throughout this section, giving the number of movies included and the means of each variable."
   ]
  },
  {
   "cell_type": "code",
   "execution_count": 128,
   "metadata": {
    "collapsed": false
   },
   "outputs": [
    {
     "name": "stdout",
     "output_type": "stream",
     "text": [
      "╒════════════════════╤══════════╤════════════════════╤══════════════════╤═════════════════╕\n",
      "│ Month of release   │ Titles   │ Avg BO (2015 M$)   │   Avg IMDb score │   Avg Metascore │\n",
      "╞════════════════════╪══════════╪════════════════════╪══════════════════╪═════════════════╡\n",
      "│ January            │ 403      │ $16.1              │             6.37 │            52.5 │\n",
      "├────────────────────┼──────────┼────────────────────┼──────────────────┼─────────────────┤\n",
      "│ February           │ 497      │ $21.3              │             6.42 │            53.9 │\n",
      "├────────────────────┼──────────┼────────────────────┼──────────────────┼─────────────────┤\n",
      "│ March              │ 656      │ $20.6              │             6.54 │            55.8 │\n",
      "├────────────────────┼──────────┼────────────────────┼──────────────────┼─────────────────┤\n",
      "│ April              │ 667      │ $15.4              │             6.45 │            55.5 │\n",
      "├────────────────────┼──────────┼────────────────────┼──────────────────┼─────────────────┤\n",
      "│ May                │ 603      │ $33.9              │             6.56 │            57.8 │\n",
      "├────────────────────┼──────────┼────────────────────┼──────────────────┼─────────────────┤\n",
      "│ June               │ 575      │ $34.4              │             6.55 │            58.1 │\n",
      "├────────────────────┼──────────┼────────────────────┼──────────────────┼─────────────────┤\n",
      "│ July               │ 574      │ $32.8              │             6.56 │            58.3 │\n",
      "├────────────────────┼──────────┼────────────────────┼──────────────────┼─────────────────┤\n",
      "│ August             │ 666      │ $19.2              │             6.38 │            55.2 │\n",
      "├────────────────────┼──────────┼────────────────────┼──────────────────┼─────────────────┤\n",
      "│ September          │ 733      │ $11.7              │             6.47 │            55   │\n",
      "├────────────────────┼──────────┼────────────────────┼──────────────────┼─────────────────┤\n",
      "│ October            │ 730      │ $15.1              │             6.59 │            56.9 │\n",
      "├────────────────────┼──────────┼────────────────────┼──────────────────┼─────────────────┤\n",
      "│ November           │ 583      │ $33.4              │             6.65 │            58.4 │\n",
      "├────────────────────┼──────────┼────────────────────┼──────────────────┼─────────────────┤\n",
      "│ December           │ 543      │ $44.2              │             6.73 │            59.9 │\n",
      "├────────────────────┼──────────┼────────────────────┼──────────────────┼─────────────────┤\n",
      "│ TOTAL              │ 7,230    │ $24.8              │             6.52 │            56.4 │\n",
      "╘════════════════════╧══════════╧════════════════════╧══════════════════╧═════════════════╛\n"
     ]
    }
   ],
   "source": [
    "months = [k.month for k in movies.openingdate_asdate]\n",
    "#monthname = [datetime.datetime.strftime(k,'%B') for k in movies.openingdate_asdate]\n",
    "movies['releasemonth'] = months\n",
    "#movies.loc[movies['releasemonth'] == 1, 'releasemonthname'] = 'January'\n",
    "\n",
    "table6 = movies[(movies['total_gross'] > 0)].groupby('releasemonth').agg({'thekey': np.size,'adjusted_gross' : np.mean,'userscore' : np.mean, 'metascore' : np.mean})\n",
    "\n",
    "table6['releasemonthname'] = table6.index\n",
    "table6.loc[table6['releasemonthname'] == 1, 'releasemonthname'] = 'January'\n",
    "table6.loc[table6['releasemonthname'] == 2, 'releasemonthname'] = 'February'\n",
    "table6.loc[table6['releasemonthname'] == 3, 'releasemonthname'] = 'March'\n",
    "table6.loc[table6['releasemonthname'] == 4, 'releasemonthname'] = 'April'\n",
    "table6.loc[table6['releasemonthname'] == 5, 'releasemonthname'] = 'May'\n",
    "table6.loc[table6['releasemonthname'] == 6, 'releasemonthname'] = 'June'\n",
    "table6.loc[table6['releasemonthname'] == 7, 'releasemonthname'] = 'July'\n",
    "table6.loc[table6['releasemonthname'] == 8, 'releasemonthname'] = 'August'\n",
    "table6.loc[table6['releasemonthname'] == 9, 'releasemonthname'] = 'September'\n",
    "table6.loc[table6['releasemonthname'] == 10, 'releasemonthname'] = 'October'\n",
    "table6.loc[table6['releasemonthname'] == 11, 'releasemonthname'] = 'November'\n",
    "table6.loc[table6['releasemonthname'] == 12, 'releasemonthname'] = 'December'\n",
    "\n",
    "nTotal = np.sum(table6['thekey'])\n",
    "grossTotal = np.mean(table6['adjusted_gross'])\n",
    "userscoreGlobalMean = np.mean(table6['userscore'])\n",
    "metascoreGlobalMean = np.mean(table6['metascore'])\n",
    "\n",
    "\n",
    "\n",
    "t6cols = table6.columns.tolist()\n",
    "t6cols = ['releasemonthname','thekey','adjusted_gross','userscore','metascore']\n",
    "table6 = table6[t6cols]\n",
    "\n",
    "\n",
    "newrownumber = len(table6.index)+1\n",
    "table6.loc[newrownumber] = ['TOTAL',nTotal,grossTotal,userscoreGlobalMean,metascoreGlobalMean]\n",
    "\n",
    "table6.set_index('releasemonthname',inplace=True)\n",
    "\n",
    "table6['thekey'] = ['{:,.0f}'.format(k) for k in table6['thekey']]\n",
    "\n",
    "table6['adjusted_gross'] = [k/1000000 for k in table6['adjusted_gross']]\n",
    "table6['adjusted_gross'] = ['${:,.1f}'.format(k) for k in table6['adjusted_gross']]\n",
    "\n",
    "table6['userscore'] = ['{:.2f}'.format(k) for k in table6['userscore']]\n",
    "table6['metascore'] = ['{:.1f}'.format(k) for k in table6['metascore']]\n",
    "\n",
    "print(tabulate(table6,headers=['Month of release','Titles','Avg BO (2015 M$)','Avg IMDb score','Avg Metascore'],tablefmt='fancy_grid'))"
   ]
  },
  {
   "cell_type": "markdown",
   "metadata": {},
   "source": [
    "Figure 5, which plots the mean box office receipts for films released in each month, clearly shows the different levels of audience demand in different months."
   ]
  },
  {
   "cell_type": "code",
   "execution_count": 131,
   "metadata": {
    "collapsed": false
   },
   "outputs": [
    {
     "name": "stdout",
     "output_type": "stream",
     "text": [
      "Figure 5. Mean box office by month of release (n= 7,230 )\n"
     ]
    },
    {
     "data": {
      "image/png": "[encoded data removed]",
      "text/plain": [
       "<matplotlib.figure.Figure at 0x7f31733cd550>"
      ]
     },
     "metadata": {},
     "output_type": "display_data"
    }
   ],
   "source": [
    "nPoints = movies['title'][(movies['total_gross'] > 0)].count()\n",
    "print('Figure 5. Mean box office by month of release (n=','{:,.0f}'.format(nPoints),')')\n",
    "\n",
    "monthnames = ['Jan','Feb','Mar','Apr','May','Jun','Jul','Aug','Sep','Oct','Nov','Dec']\n",
    "\n",
    "fig5data = movies[(movies['total_gross'] > 0)].groupby('releasemonth').agg({'adjusted_gross' : np.mean})#.as_matrix()\n",
    "\n",
    "fig5data['groupn'] = movies[(movies['total_gross'] > 0)].groupby('releasemonth').agg({'adjusted_gross' : 'count'})\n",
    "fig5data['stdev'] = movies[(movies['total_gross'] > 0)].groupby('releasemonth').agg({'adjusted_gross' : np.std})\n",
    "fig5data['stderrm'] = 1.96*fig5data['stdev']\n",
    "fig5data['errorvalues'] = fig5data['stdev'] / (fig5data['groupn']**0.5)\n",
    "\n",
    "# convert to millions for display\n",
    "fig5data['adjusted_gross'] = fig5data['adjusted_gross'] / 1000000\n",
    "fig5data['errorvalues'] = fig5data['errorvalues'] / 1000000\n",
    "#print(fig5data)\n",
    "yerrval_matrix = np.zeros((12,1))\n",
    "yerrval_matrix = fig5data['errorvalues'].as_matrix()\n",
    "#print(yerrval_matrix)\n",
    "\n",
    "fig5 = plt.figure(figsize=(8,8))\n",
    "# Create an Axes object.\n",
    "ax5 = fig5.add_subplot(1,1,1) # one row, one column, first plot\n",
    "# Plot the data.\n",
    "ax5.errorbar(fig5data.index,fig5data['adjusted_gross'],yerr=yerrval_matrix)\n",
    "\n",
    "ax5.axis([0,13,0,50])\n",
    "#ax5.set_title(\"Logarithmic histogram of box office receipts (n=7,230)\",fontsize=12)\n",
    "# Add some axis labels.\n",
    "ax5.set_xlabel(\"Month of release\",fontsize=10)\n",
    "ax5.set_xticks(np.arange(1, 13, 1))\n",
    "ax5.set_xticklabels(monthnames)\n",
    "ax5.set_ylabel(\"Mean box office (million 2015$)\",fontsize=10)\n",
    "\n",
    "fig5.show()"
   ]
  },
  {
   "cell_type": "markdown",
   "metadata": {},
   "source": [
    "Error bars show 95% confidence intervals for the mean gross box office receipts for all films in our dataset that were released during a given month. Note that not only are mean receipts lower in somemonths than others, but the difference is so big that the error bars do not overlap. The clear difference in receipts shown in Figure 5 certainly provides strong evidence for the idea that different months have very different levels of audience demand.\n",
    "\n",
    "Does the difference in box office receipts translate into to a difference in perceived artistic quality? There is indeed a relationship between release month and ratings, but not in a straightforward way. The pattern of monthly variation of scores is very similar in the user and critic scores, but both are different from pattern of box office receipts. Neither of these observations is surprising given our observation, described in the previous section, of a fairly high correlation between user and critic scores, and of the lack of correlation between either type score and gross box office receipts."
   ]
  },
  {
   "cell_type": "code",
   "execution_count": 132,
   "metadata": {
    "collapsed": false
   },
   "outputs": [
    {
     "data": {
      "text/plain": [
       "<matplotlib.figure.Figure at 0x7f31734662e8>"
      ]
     },
     "metadata": {},
     "output_type": "display_data"
    }
   ],
   "source": [
    "nPoints = movies['title'][(movies['userscore'] > 0) & (movies['metascore'] > 0)].count()\n",
    "#print('Figure 5. Mean box office by month of release (n=','{:,.0f}'.format(nPoints),')')\n",
    "\n",
    "monthnames = ['Jan','Feb','Mar','Apr','May','Jun','Jul','Aug','Sep','Oct','Nov','Dec']\n",
    "\n",
    "fig6adata = movies[(movies['userscore'] > 0)].groupby('releasemonth').agg({'userscore' : np.mean})#.as_matrix()\n",
    "\n",
    "fig6adata['groupn'] = movies[(movies['userscore'] > 0)].groupby('releasemonth').agg({'userscore' : 'count'})\n",
    "fig6adata['stdev'] = movies[(movies['userscore'] > 0)].groupby('releasemonth').agg({'userscore' : np.std})\n",
    "fig6adata['stderrm'] = 1.96*fig6adata['stdev']\n",
    "fig6adata['errorvalues'] = fig6adata['stdev'] / (fig6adata['groupn']**0.5)\n",
    "\n",
    "#print(fig5data)\n",
    "yerrval_matrix = np.zeros((12,1))\n",
    "yerrval_matrix = fig6adata['errorvalues'].as_matrix()\n",
    "#print(yerrval_matrix)\n",
    "\n",
    "fig6 = plt.figure(figsize=(8,8))\n",
    "# Create an Axes object.\n",
    "ax6a = fig5.add_subplot(1,1,1) # one row, one column, first plot\n",
    "# Plot the data.\n",
    "ax6a.errorbar(fig5data.index,fig5data['adjusted_gross'],yerr=yerrval_matrix)\n",
    "\n",
    "#ax6.axis([0,13,0,50])\n",
    "#ax5.set_title(\"Logarithmic histogram of box office receipts (n=7,230)\",fontsize=12)\n",
    "# Add some axis labels.\n",
    "ax6a.set_xlabel(\"Month of release\",fontsize=10)\n",
    "#ax6a.set_xticks(np.arange(1, 13, 1))\n",
    "ax6a.set_xticklabels(monthnames)\n",
    "ax6a.set_ylabel(\"Mean user score\",fontsize=10)\n",
    "\n",
    "fig6.show()"
   ]
  },
  {
   "cell_type": "code",
   "execution_count": 135,
   "metadata": {
    "collapsed": false
   },
   "outputs": [
    {
     "ename": "KeyError",
     "evalue": "'userscore'",
     "output_type": "error",
     "traceback": [
      "\u001b[1;31m\u001b[0m",
      "\u001b[1;31mKeyError\u001b[0mTraceback (most recent call last)",
      "\u001b[1;32m/home/idies/anaconda3/lib/python3.5/site-packages/pandas/indexes/base.py\u001b[0m in \u001b[0;36mget_loc\u001b[1;34m(self, key, method, tolerance)\u001b[0m\n\u001b[0;32m   1944\u001b[0m             \u001b[1;32mtry\u001b[0m\u001b[1;33m:\u001b[0m\u001b[1;33m\u001b[0m\u001b[0m\n\u001b[1;32m-> 1945\u001b[1;33m                 \u001b[1;32mreturn\u001b[0m \u001b[0mself\u001b[0m\u001b[1;33m.\u001b[0m\u001b[0m_engine\u001b[0m\u001b[1;33m.\u001b[0m\u001b[0mget_loc\u001b[0m\u001b[1;33m(\u001b[0m\u001b[0mkey\u001b[0m\u001b[1;33m)\u001b[0m\u001b[1;33m\u001b[0m\u001b[0m\n\u001b[0m\u001b[0;32m   1946\u001b[0m             \u001b[1;32mexcept\u001b[0m \u001b[0mKeyError\u001b[0m\u001b[1;33m:\u001b[0m\u001b[1;33m\u001b[0m\u001b[0m\n",
      "\u001b[1;32mpandas/index.pyx\u001b[0m in \u001b[0;36mpandas.index.IndexEngine.get_loc (pandas/index.c:4154)\u001b[1;34m()\u001b[0m\n",
      "\u001b[1;32mpandas/index.pyx\u001b[0m in \u001b[0;36mpandas.index.IndexEngine.get_loc (pandas/index.c:4018)\u001b[1;34m()\u001b[0m\n",
      "\u001b[1;32mpandas/hashtable.pyx\u001b[0m in \u001b[0;36mpandas.hashtable.PyObjectHashTable.get_item (pandas/hashtable.c:12368)\u001b[1;34m()\u001b[0m\n",
      "\u001b[1;32mpandas/hashtable.pyx\u001b[0m in \u001b[0;36mpandas.hashtable.PyObjectHashTable.get_item (pandas/hashtable.c:12322)\u001b[1;34m()\u001b[0m\n",
      "\u001b[1;31mKeyError\u001b[0m: 'userscore'",
      "\nDuring handling of the above exception, another exception occurred:\n",
      "\u001b[1;31mKeyError\u001b[0mTraceback (most recent call last)",
      "\u001b[1;32m<ipython-input-135-2294639b602d>\u001b[0m in \u001b[0;36m<module>\u001b[1;34m()\u001b[0m\n\u001b[0;32m     32\u001b[0m \u001b[0max6b\u001b[0m \u001b[1;33m=\u001b[0m \u001b[0mfig5\u001b[0m\u001b[1;33m.\u001b[0m\u001b[0madd_subplot\u001b[0m\u001b[1;33m(\u001b[0m\u001b[1;36m1\u001b[0m\u001b[1;33m,\u001b[0m\u001b[1;36m2\u001b[0m\u001b[1;33m,\u001b[0m\u001b[1;36m2\u001b[0m\u001b[1;33m)\u001b[0m \u001b[1;31m# one row, one column, first plot\u001b[0m\u001b[1;33m\u001b[0m\u001b[0m\n\u001b[0;32m     33\u001b[0m \u001b[1;31m# Plot the data.\u001b[0m\u001b[1;33m\u001b[0m\u001b[1;33m\u001b[0m\u001b[0m\n\u001b[1;32m---> 34\u001b[1;33m \u001b[0max6b\u001b[0m\u001b[1;33m.\u001b[0m\u001b[0merrorbar\u001b[0m\u001b[1;33m(\u001b[0m\u001b[0mfig5data\u001b[0m\u001b[1;33m.\u001b[0m\u001b[0mindex\u001b[0m\u001b[1;33m,\u001b[0m\u001b[0mfig5data\u001b[0m\u001b[1;33m[\u001b[0m\u001b[1;34m'userscore'\u001b[0m\u001b[1;33m]\u001b[0m\u001b[1;33m,\u001b[0m\u001b[0myerr\u001b[0m\u001b[1;33m=\u001b[0m\u001b[0myerrval_matrix\u001b[0m\u001b[1;33m)\u001b[0m\u001b[1;33m\u001b[0m\u001b[0m\n\u001b[0m\u001b[0;32m     35\u001b[0m \u001b[1;33m\u001b[0m\u001b[0m\n\u001b[0;32m     36\u001b[0m \u001b[0max6b\u001b[0m\u001b[1;33m.\u001b[0m\u001b[0maxis\u001b[0m\u001b[1;33m(\u001b[0m\u001b[1;33m[\u001b[0m\u001b[1;36m0\u001b[0m\u001b[1;33m,\u001b[0m\u001b[1;36m13\u001b[0m\u001b[1;33m,\u001b[0m\u001b[1;36m0\u001b[0m\u001b[1;33m,\u001b[0m\u001b[1;36m100\u001b[0m\u001b[1;33m]\u001b[0m\u001b[1;33m)\u001b[0m\u001b[1;33m\u001b[0m\u001b[0m\n",
      "\u001b[1;32m/home/idies/anaconda3/lib/python3.5/site-packages/pandas/core/frame.py\u001b[0m in \u001b[0;36m__getitem__\u001b[1;34m(self, key)\u001b[0m\n\u001b[0;32m   1995\u001b[0m             \u001b[1;32mreturn\u001b[0m \u001b[0mself\u001b[0m\u001b[1;33m.\u001b[0m\u001b[0m_getitem_multilevel\u001b[0m\u001b[1;33m(\u001b[0m\u001b[0mkey\u001b[0m\u001b[1;33m)\u001b[0m\u001b[1;33m\u001b[0m\u001b[0m\n\u001b[0;32m   1996\u001b[0m         \u001b[1;32melse\u001b[0m\u001b[1;33m:\u001b[0m\u001b[1;33m\u001b[0m\u001b[0m\n\u001b[1;32m-> 1997\u001b[1;33m             \u001b[1;32mreturn\u001b[0m \u001b[0mself\u001b[0m\u001b[1;33m.\u001b[0m\u001b[0m_getitem_column\u001b[0m\u001b[1;33m(\u001b[0m\u001b[0mkey\u001b[0m\u001b[1;33m)\u001b[0m\u001b[1;33m\u001b[0m\u001b[0m\n\u001b[0m\u001b[0;32m   1998\u001b[0m \u001b[1;33m\u001b[0m\u001b[0m\n\u001b[0;32m   1999\u001b[0m     \u001b[1;32mdef\u001b[0m \u001b[0m_getitem_column\u001b[0m\u001b[1;33m(\u001b[0m\u001b[0mself\u001b[0m\u001b[1;33m,\u001b[0m \u001b[0mkey\u001b[0m\u001b[1;33m)\u001b[0m\u001b[1;33m:\u001b[0m\u001b[1;33m\u001b[0m\u001b[0m\n",
      "\u001b[1;32m/home/idies/anaconda3/lib/python3.5/site-packages/pandas/core/frame.py\u001b[0m in \u001b[0;36m_getitem_column\u001b[1;34m(self, key)\u001b[0m\n\u001b[0;32m   2002\u001b[0m         \u001b[1;31m# get column\u001b[0m\u001b[1;33m\u001b[0m\u001b[1;33m\u001b[0m\u001b[0m\n\u001b[0;32m   2003\u001b[0m         \u001b[1;32mif\u001b[0m \u001b[0mself\u001b[0m\u001b[1;33m.\u001b[0m\u001b[0mcolumns\u001b[0m\u001b[1;33m.\u001b[0m\u001b[0mis_unique\u001b[0m\u001b[1;33m:\u001b[0m\u001b[1;33m\u001b[0m\u001b[0m\n\u001b[1;32m-> 2004\u001b[1;33m             \u001b[1;32mreturn\u001b[0m \u001b[0mself\u001b[0m\u001b[1;33m.\u001b[0m\u001b[0m_get_item_cache\u001b[0m\u001b[1;33m(\u001b[0m\u001b[0mkey\u001b[0m\u001b[1;33m)\u001b[0m\u001b[1;33m\u001b[0m\u001b[0m\n\u001b[0m\u001b[0;32m   2005\u001b[0m \u001b[1;33m\u001b[0m\u001b[0m\n\u001b[0;32m   2006\u001b[0m         \u001b[1;31m# duplicate columns & possible reduce dimensionality\u001b[0m\u001b[1;33m\u001b[0m\u001b[1;33m\u001b[0m\u001b[0m\n",
      "\u001b[1;32m/home/idies/anaconda3/lib/python3.5/site-packages/pandas/core/generic.py\u001b[0m in \u001b[0;36m_get_item_cache\u001b[1;34m(self, item)\u001b[0m\n\u001b[0;32m   1348\u001b[0m         \u001b[0mres\u001b[0m \u001b[1;33m=\u001b[0m \u001b[0mcache\u001b[0m\u001b[1;33m.\u001b[0m\u001b[0mget\u001b[0m\u001b[1;33m(\u001b[0m\u001b[0mitem\u001b[0m\u001b[1;33m)\u001b[0m\u001b[1;33m\u001b[0m\u001b[0m\n\u001b[0;32m   1349\u001b[0m         \u001b[1;32mif\u001b[0m \u001b[0mres\u001b[0m \u001b[1;32mis\u001b[0m \u001b[1;32mNone\u001b[0m\u001b[1;33m:\u001b[0m\u001b[1;33m\u001b[0m\u001b[0m\n\u001b[1;32m-> 1350\u001b[1;33m             \u001b[0mvalues\u001b[0m \u001b[1;33m=\u001b[0m \u001b[0mself\u001b[0m\u001b[1;33m.\u001b[0m\u001b[0m_data\u001b[0m\u001b[1;33m.\u001b[0m\u001b[0mget\u001b[0m\u001b[1;33m(\u001b[0m\u001b[0mitem\u001b[0m\u001b[1;33m)\u001b[0m\u001b[1;33m\u001b[0m\u001b[0m\n\u001b[0m\u001b[0;32m   1351\u001b[0m             \u001b[0mres\u001b[0m \u001b[1;33m=\u001b[0m \u001b[0mself\u001b[0m\u001b[1;33m.\u001b[0m\u001b[0m_box_item_values\u001b[0m\u001b[1;33m(\u001b[0m\u001b[0mitem\u001b[0m\u001b[1;33m,\u001b[0m \u001b[0mvalues\u001b[0m\u001b[1;33m)\u001b[0m\u001b[1;33m\u001b[0m\u001b[0m\n\u001b[0;32m   1352\u001b[0m             \u001b[0mcache\u001b[0m\u001b[1;33m[\u001b[0m\u001b[0mitem\u001b[0m\u001b[1;33m]\u001b[0m \u001b[1;33m=\u001b[0m \u001b[0mres\u001b[0m\u001b[1;33m\u001b[0m\u001b[0m\n",
      "\u001b[1;32m/home/idies/anaconda3/lib/python3.5/site-packages/pandas/core/internals.py\u001b[0m in \u001b[0;36mget\u001b[1;34m(self, item, fastpath)\u001b[0m\n\u001b[0;32m   3288\u001b[0m \u001b[1;33m\u001b[0m\u001b[0m\n\u001b[0;32m   3289\u001b[0m             \u001b[1;32mif\u001b[0m \u001b[1;32mnot\u001b[0m \u001b[0misnull\u001b[0m\u001b[1;33m(\u001b[0m\u001b[0mitem\u001b[0m\u001b[1;33m)\u001b[0m\u001b[1;33m:\u001b[0m\u001b[1;33m\u001b[0m\u001b[0m\n\u001b[1;32m-> 3290\u001b[1;33m                 \u001b[0mloc\u001b[0m \u001b[1;33m=\u001b[0m \u001b[0mself\u001b[0m\u001b[1;33m.\u001b[0m\u001b[0mitems\u001b[0m\u001b[1;33m.\u001b[0m\u001b[0mget_loc\u001b[0m\u001b[1;33m(\u001b[0m\u001b[0mitem\u001b[0m\u001b[1;33m)\u001b[0m\u001b[1;33m\u001b[0m\u001b[0m\n\u001b[0m\u001b[0;32m   3291\u001b[0m             \u001b[1;32melse\u001b[0m\u001b[1;33m:\u001b[0m\u001b[1;33m\u001b[0m\u001b[0m\n\u001b[0;32m   3292\u001b[0m                 \u001b[0mindexer\u001b[0m \u001b[1;33m=\u001b[0m \u001b[0mnp\u001b[0m\u001b[1;33m.\u001b[0m\u001b[0marange\u001b[0m\u001b[1;33m(\u001b[0m\u001b[0mlen\u001b[0m\u001b[1;33m(\u001b[0m\u001b[0mself\u001b[0m\u001b[1;33m.\u001b[0m\u001b[0mitems\u001b[0m\u001b[1;33m)\u001b[0m\u001b[1;33m)\u001b[0m\u001b[1;33m[\u001b[0m\u001b[0misnull\u001b[0m\u001b[1;33m(\u001b[0m\u001b[0mself\u001b[0m\u001b[1;33m.\u001b[0m\u001b[0mitems\u001b[0m\u001b[1;33m)\u001b[0m\u001b[1;33m]\u001b[0m\u001b[1;33m\u001b[0m\u001b[0m\n",
      "\u001b[1;32m/home/idies/anaconda3/lib/python3.5/site-packages/pandas/indexes/base.py\u001b[0m in \u001b[0;36mget_loc\u001b[1;34m(self, key, method, tolerance)\u001b[0m\n\u001b[0;32m   1945\u001b[0m                 \u001b[1;32mreturn\u001b[0m \u001b[0mself\u001b[0m\u001b[1;33m.\u001b[0m\u001b[0m_engine\u001b[0m\u001b[1;33m.\u001b[0m\u001b[0mget_loc\u001b[0m\u001b[1;33m(\u001b[0m\u001b[0mkey\u001b[0m\u001b[1;33m)\u001b[0m\u001b[1;33m\u001b[0m\u001b[0m\n\u001b[0;32m   1946\u001b[0m             \u001b[1;32mexcept\u001b[0m \u001b[0mKeyError\u001b[0m\u001b[1;33m:\u001b[0m\u001b[1;33m\u001b[0m\u001b[0m\n\u001b[1;32m-> 1947\u001b[1;33m                 \u001b[1;32mreturn\u001b[0m \u001b[0mself\u001b[0m\u001b[1;33m.\u001b[0m\u001b[0m_engine\u001b[0m\u001b[1;33m.\u001b[0m\u001b[0mget_loc\u001b[0m\u001b[1;33m(\u001b[0m\u001b[0mself\u001b[0m\u001b[1;33m.\u001b[0m\u001b[0m_maybe_cast_indexer\u001b[0m\u001b[1;33m(\u001b[0m\u001b[0mkey\u001b[0m\u001b[1;33m)\u001b[0m\u001b[1;33m)\u001b[0m\u001b[1;33m\u001b[0m\u001b[0m\n\u001b[0m\u001b[0;32m   1948\u001b[0m \u001b[1;33m\u001b[0m\u001b[0m\n\u001b[0;32m   1949\u001b[0m         \u001b[0mindexer\u001b[0m \u001b[1;33m=\u001b[0m \u001b[0mself\u001b[0m\u001b[1;33m.\u001b[0m\u001b[0mget_indexer\u001b[0m\u001b[1;33m(\u001b[0m\u001b[1;33m[\u001b[0m\u001b[0mkey\u001b[0m\u001b[1;33m]\u001b[0m\u001b[1;33m,\u001b[0m \u001b[0mmethod\u001b[0m\u001b[1;33m=\u001b[0m\u001b[0mmethod\u001b[0m\u001b[1;33m,\u001b[0m \u001b[0mtolerance\u001b[0m\u001b[1;33m=\u001b[0m\u001b[0mtolerance\u001b[0m\u001b[1;33m)\u001b[0m\u001b[1;33m\u001b[0m\u001b[0m\n",
      "\u001b[1;32mpandas/index.pyx\u001b[0m in \u001b[0;36mpandas.index.IndexEngine.get_loc (pandas/index.c:4154)\u001b[1;34m()\u001b[0m\n",
      "\u001b[1;32mpandas/index.pyx\u001b[0m in \u001b[0;36mpandas.index.IndexEngine.get_loc (pandas/index.c:4018)\u001b[1;34m()\u001b[0m\n",
      "\u001b[1;32mpandas/hashtable.pyx\u001b[0m in \u001b[0;36mpandas.hashtable.PyObjectHashTable.get_item (pandas/hashtable.c:12368)\u001b[1;34m()\u001b[0m\n",
      "\u001b[1;32mpandas/hashtable.pyx\u001b[0m in \u001b[0;36mpandas.hashtable.PyObjectHashTable.get_item (pandas/hashtable.c:12322)\u001b[1;34m()\u001b[0m\n",
      "\u001b[1;31mKeyError\u001b[0m: 'userscore'"
     ]
    },
    {
     "data": {
      "text/plain": [
       "<matplotlib.figure.Figure at 0x7f3173347080>"
      ]
     },
     "metadata": {},
     "output_type": "display_data"
    }
   ],
   "source": [
    "nPoints = movies['title'][(movies['userscore'] > 0) & (movies['metascore'] > 0)].count()\n",
    "#print('Figure 5. Mean box office by month of release (n=','{:,.0f}'.format(nPoints),')')\n",
    "\n",
    "monthnames = ['Jan','Feb','Mar','Apr','May','Jun','Jul','Aug','Sep','Oct','Nov','Dec']\n",
    "\n",
    "fig6adata = movies[(movies['userscore'] > 0)].groupby('releasemonth').agg({'userscore' : np.mean})\n",
    "\n",
    "fig6adata['groupn'] = movies[(movies['total_gross'] > 0)].groupby('releasemonth').agg({'userscore' : 'count'})\n",
    "fig6adata['stdev'] = movies[(movies['total_gross'] > 0)].groupby('releasemonth').agg({'userscore' : np.std})\n",
    "fig6adata['stderrm'] = 1.96*fig6adata['stdev']\n",
    "fig6adata['errorvalues'] = fig6adata['stdev'] / (fig6adata['groupn']**0.5)\n",
    "\n",
    "#print(fig6adata.tail(10))\n",
    "yerrval_matrix = np.zeros((12,1))\n",
    "yerrval_matrix = fig5data['errorvalues'].as_matrix()\n",
    "#print(yerrval_matrix)\n",
    "\n",
    "fig6 = plt.figure(figsize=(8,8))\n",
    "# Create an Axes object.\n",
    "ax6a = fig5.add_subplot(1,2,1) # one row, one column, first plot\n",
    "# Plot the data.\n",
    "ax6a.errorbar(fig6adata.index,fig6adata['userscore'],yerr=yerrval_matrix)\n",
    "\n",
    "ax6a.axis([0,13,0,10])\n",
    "#ax5.set_title(\"Logarithmic histogram of box office receipts (n=7,230)\",fontsize=12)\n",
    "# Add some axis labels.\n",
    "ax6a.set_xlabel(\"Month of release\",fontsize=10)\n",
    "ax6a.set_xticks(np.arange(1, 13, 1))\n",
    "ax6a.set_xticklabels(monthnames)\n",
    "ax6a.set_ylabel(\"Mean box office (million 2015$)\",fontsize=10)\n",
    "\n",
    "ax6b = fig5.add_subplot(1,2,2) # one row, one column, first plot\n",
    "# Plot the data.\n",
    "ax6b.errorbar(fig5data.index,fig5data['userscore'],yerr=yerrval_matrix)\n",
    "\n",
    "ax6b.axis([0,13,0,100])\n",
    "#ax5.set_title(\"Logarithmic histogram of box office receipts (n=7,230)\",fontsize=12)\n",
    "# Add some axis labels.\n",
    "ax6b.set_xlabel(\"Month of release\",fontsize=10)\n",
    "ax6b.set_xticks(np.arange(1, 13, 1))\n",
    "ax6b.set_xticklabels(monthnames)\n",
    "ax6b.set_ylabel(\"Mean box office (million 2015$)\",fontsize=10)\n",
    "\n",
    "fig6.show()"
   ]
  },
  {
   "cell_type": "markdown",
   "metadata": {},
   "source": [
    "Finding these differences among movies by month of release are important, but our research questions are somewhat more specific. We investigate the phenomenon of \"dump months.\" As noted in the introduction, studios face the challenge of releasing their stable of films such that some movies are available to play at U.S. theaters throughout the year, even though they know that underlying audience demand varies widely over the course of the year.<a name='back77'></a><sup><a href='#e77'>77</a></sup> Conventional wisdom in cultural studies says that they solve this problem by \"dumping\" certain movies - releasing those expected to do poorly at the box office—during months that are less profitable for the introduction of new titles. \n",
    "\n",
    "The so-called \"dump months\" have been identified as different months by different authors. January is the most notorious of all of them, as evidenced by the amount of articles in the literature that stress January as the dump month.<a name='back78'></a><sup><a href='#e78'>78</a></sup> The Slate article that inspired this research identified February as a key dump month,<a name='back79'></a><sup><a href='#e79'>79</a></sup> and other authors have identified April<a name='back80'></a><sup><a href='#e80'>80</a></sup> and September.<a name='back81'></a><sup><a href='#e81'>81</a></sup> Authors have disagreed about whether March, August, and/or October should be included as well.<a name='back82'></a><sup><a href='#e82'>82</a></sup> Regardless, conventional wisdom and scholarship readily agree about which months are NOT dump months: the summer (May/June/July) and the end of the year (November/December). We experimented with a few definitions of dump months and found the clearest signal came from the latter definition: operationalizing \"dump months\" as the seven months not in the summer or year-end seasons: January through April and August through October.\n",
    "\n",
    "With that definition in hand, we are ready to perform statistical tests on our hypotheses related to the timing of film releases. Our hypotheses, restated from the hypothesis section are:\n",
    "\n",
    "<ul>\n",
    "<li>Hypothesis 3. The mean adjusted gross box office receipts will be lower during dump months (January through April and August through October) than during peak months (May through July and November through December)</li>\n",
    "<li>Hypothesis 4a. The mean IMDb user score will be lower during dump months than during peak months</li>\n",
    "<li>Hypothesis 4b. The mean critic score on Metacritic will be lower during dump months than during peak months</li>\n",
    "</ul>\n",
    "\n",
    "Hypothesis (3) means that films released during dump months bring in less money (at least in terms of gross receipts) than films released during peak months - although our tests cannot make any claims about why this would be the case (e.g., due to decreased audience demand, lower-quality films, reduced studio marketing, or any other factors). Hypothesis (4a) means that films released during dump months are perceived to be of lower quality by IMDb users; again, our tests cannot give any evidence about why this should be the case. Hypothesis (4b) means that the films released during dump months are perceived to be of lower quality by critics (again with the same interpretive caveats)."
   ]
  },
  {
   "cell_type": "markdown",
   "metadata": {},
   "source": [
    "<a name=\"e75\"></a><sup>75</sup>We consciously choose the asymmetric language of \"proved incorrect\" vs. \"supported\" to indicate a desire to proceed cautiously - hypotheses should be easier to falsify than to prove. This falsification-based approach is practiced by most quantitative researchers, although details differ. Entire journals are devoted to these questions, both in statistics and in philosophy of science.<a href=\"#back75\">^</a>\n",
    "\n",
    "<a name=\"e76\"></a><sup>76</sup>Cartier and Liarte, Impact, p. 19.<a href=\"#back76\">^</a>\n",
    "\n",
    "<a name=\"e77\"></a><sup>77</sup>Cartier and Liarte, Impact, p. 17.<a href=\"#back77\">^</a>"
   ]
  },
  {
   "cell_type": "code",
   "execution_count": null,
   "metadata": {
    "collapsed": true
   },
   "outputs": [],
   "source": []
  }
 ],
 "metadata": {
  "kernelspec": {
   "display_name": "Python 3",
   "language": "python",
   "name": "python3"
  },
  "language_info": {
   "codemirror_mode": {
    "name": "ipython",
    "version": 3
   },
   "file_extension": ".py",
   "mimetype": "text/x-python",
   "name": "python",
   "nbconvert_exporter": "python",
   "pygments_lexer": "ipython3",
   "version": "3.5.2"
  }
 },
 "nbformat": 4,
 "nbformat_minor": 0
}
