{
 "cells": [
  {
   "cell_type": "code",
   "execution_count": null,
   "metadata": {
    "ExecuteTime": {
     "end_time": "2016-07-15T15:44:46.462347",
     "start_time": "2016-07-15T15:44:46.456992"
    },
    "collapsed": false
   },
   "outputs": [],
   "source": [
    "import requests\n",
    "import json\n",
    "import pandas\n",
    "import SciServer.CasJobs as CasJobs"
   ]
  },
  {
   "cell_type": "code",
   "execution_count": null,
   "metadata": {
    "ExecuteTime": {
     "end_time": "2016-07-15T15:41:35.731723",
     "start_time": "2016-07-15T15:41:35.721358"
    },
    "collapsed": false
   },
   "outputs": [],
   "source": [
    "with open('/home/idies/keystone.token', 'r') as f:\n",
    "    token = f.read().rstrip('\\n')\n",
    "token"
   ]
  },
  {
   "cell_type": "code",
   "execution_count": null,
   "metadata": {
    "ExecuteTime": {
     "end_time": "2016-07-15T15:41:38.549569",
     "start_time": "2016-07-15T15:41:38.545073"
    },
    "collapsed": true
   },
   "outputs": [],
   "source": [
    "sqURL=\"http://scitest02.sdss.pha.jhu.edu/skyquery/Api/V1/\"\n",
    "queuesURL=sqURL+\"Jobs.svc/queues\"\n",
    "jobURL=sqURL+\"/Jobs.svc/jobs/\" "
   ]
  },
  {
   "cell_type": "code",
   "execution_count": null,
   "metadata": {
    "ExecuteTime": {
     "end_time": "2016-07-15T15:41:40.041506",
     "start_time": "2016-07-15T15:41:40.033715"
    },
    "collapsed": false
   },
   "outputs": [],
   "source": [
    "def queues(token):\n",
    "    headers={'X-Auth-Token': token,'Content-Type': 'application/json','Accept':'application:json'}\n",
    "\n",
    "    rsp=requests.get(queuesURL,headers=headers)\n",
    "    if rsp.status_code ==200:\n",
    "        return(rsp.json())\n",
    "    else:\n",
    "        return(rsp.text)"
   ]
  },
  {
   "cell_type": "code",
   "execution_count": null,
   "metadata": {
    "ExecuteTime": {
     "end_time": "2016-07-15T15:41:41.921225",
     "start_time": "2016-07-15T15:41:41.913031"
    },
    "collapsed": false
   },
   "outputs": [],
   "source": [
    "def jobsurl(queue):\n",
    "    return queuesURL+\"/\"+queue+\"/jobs\"\n",
    "\n",
    "def jobs(token, queue='Quick'):\n",
    "    headers = {'Content-Type': 'application/json','Accept': 'application/json'}\n",
    "    headers['X-Auth-Token']=  token\n",
    "    rsp=requests.get(jobsurl(queue), headers=headers)\n",
    "    return (rsp.json())"
   ]
  },
  {
   "cell_type": "code",
   "execution_count": null,
   "metadata": {
    "ExecuteTime": {
     "end_time": "2016-07-15T15:41:43.585116",
     "start_time": "2016-07-15T15:41:43.578385"
    },
    "collapsed": true
   },
   "outputs": [],
   "source": [
    "def jobstatus(guid,token):\n",
    "    headers = {'Content-Type': 'application/json','Accept': 'application/json'}\n",
    "    headers['X-Auth-Token']=  token\n",
    "    rsp=requests.get(jobURL+guid, headers=headers)\n",
    "    return (rsp.json())"
   ]
  },
  {
   "cell_type": "code",
   "execution_count": null,
   "metadata": {
    "ExecuteTime": {
     "end_time": "2016-07-15T15:41:45.600017",
     "start_time": "2016-07-15T15:41:45.586058"
    },
    "collapsed": false
   },
   "outputs": [],
   "source": [
    "def submit(query,token, queue=\"Quick\"):\n",
    "    headers = {'Content-Type': 'application/json','Accept': 'application/json'}\n",
    "    headers['X-Auth-Token']=  token\n",
    "    body={\"queryJob\":{\"query\":query}}\n",
    "    data=json.dumps(body).encode()\n",
    "    postResponse = requests.post(jobsurl(queue),data=data,headers=headers)    \n",
    "    if postResponse.status_code == 200:\n",
    "        r=postResponse.json()\n",
    "        return(r['queryJob']['guid'])\n",
    "    else:\n",
    "        raise NameError(postResponse.json())"
   ]
  },
  {
   "cell_type": "code",
   "execution_count": null,
   "metadata": {
    "ExecuteTime": {
     "end_time": "2016-07-15T15:41:53.414270",
     "start_time": "2016-07-15T15:41:47.609736"
    },
    "collapsed": false
   },
   "outputs": [],
   "source": [
    "jobid=submit(\"SELECT TOP 100 objid, ra, dec, u, g, r, i, z FROM SDSSDR7:PhotoObjAll\",token)"
   ]
  },
  {
   "cell_type": "code",
   "execution_count": null,
   "metadata": {
    "ExecuteTime": {
     "end_time": "2016-07-15T15:42:08.947523",
     "start_time": "2016-07-15T15:42:08.922349"
    },
    "collapsed": false
   },
   "outputs": [],
   "source": [
    "jobstatus(jobid,token)\n",
    "# run a few times until done. result stored in MyDB.QuickResults."
   ]
  },
  {
   "cell_type": "code",
   "execution_count": null,
   "metadata": {
    "ExecuteTime": {
     "end_time": "2016-07-15T15:45:04.719808",
     "start_time": "2016-07-15T15:45:04.264593"
    },
    "collapsed": false
   },
   "outputs": [],
   "source": [
    "# retrieve using casjobs\n",
    "sql=\"select * from quickresults\"\n",
    "r=CasJobs.executeQuery(sql,\"MyDB\", token=token)\n",
    "df=pandas.read_csv(r,index_col=None)\n",
    "df"
   ]
  }
 ],
 "metadata": {
  "kernelspec": {
   "display_name": "Python 3",
   "language": "python",
   "name": "python3"
  },
  "language_info": {
   "codemirror_mode": {
    "name": "ipython",
    "version": 3
   },
   "file_extension": ".py",
   "mimetype": "text/x-python",
   "name": "python",
   "nbconvert_exporter": "python",
   "pygments_lexer": "ipython3",
   "version": "3.4.4"
  }
 },
 "nbformat": 4,
 "nbformat_minor": 0
}
