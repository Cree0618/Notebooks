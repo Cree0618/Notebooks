{
 "cells": [
  {
   "cell_type": "markdown",
   "metadata": {},
   "source": [
    "# Welcome to SciServer's iPython notebook!"
   ]
  },
  {
   "cell_type": "markdown",
   "metadata": {},
   "source": [
    "## Double-click here to get started.\n",
    "\n",
    "This is a \"markdown\" block. You can use it to add comments to your scripts. You can use HTML tags here. When you are done entering text, click the Play button above, or press CTRL-Enter, to run this code block. Running it will properly format your text.\n",
    "\n",
    "Try entering a few lines of text in the space below... \n",
    "\n",
    "\n",
    "\n",
    "\n",
    "\n",
    "Then run block of code. What do you see?"
   ]
  },
  {
   "cell_type": "markdown",
   "metadata": {},
   "source": [
    "### Now for the fun part!\n",
    "\n",
    "This is another Markdown block, but you can also use iPython notebooks to run code. This notebook uses Python 3, but you can create other notebooks using Python 2 or Matlab.\n",
    "\n",
    "The gray box below is a Code block. If you click in it, you'll see the dropdown menu above change from \"Markdown\" to \"Code.\" You can then type Python code into the box. When you click the Play button or hit CTRL-Enter, your code will execute, and the result will show below.\n",
    "\n",
    "When you begin to learn a programming language, it is traditional to start with a \"Hello world\" example... but at SciServer, we set our sights higher.\n",
    "\n",
    "Try writing Python code in the Code block below to print the message \"Hello universe!\". Then run the code. What do you see?\n",
    "\n",
    "Hint: Here is <a href=\"https://docs.python.org/3.4/library/functions.html#print\">the documentation for the Python 3 <b>print()</b> function</a> (it will open in a new window)."
   ]
  },
  {
   "cell_type": "code",
   "execution_count": null,
   "metadata": {
    "collapsed": true
   },
   "outputs": [],
   "source": []
  },
  {
   "cell_type": "markdown",
   "metadata": {},
   "source": [
    "<b>By the way:</b> how can I find out which version of Python this version is running? Run the next two code blocks. Or go to Help -> About in the menu above to see what kernel is running."
   ]
  },
  {
   "cell_type": "code",
   "execution_count": 1,
   "metadata": {
    "ExecuteTime": {
     "end_time": "2016-04-16T17:26:53.027253",
     "start_time": "2016-04-16T17:26:53.020782"
    },
    "collapsed": false
   },
   "outputs": [],
   "source": [
    "import sys"
   ]
  },
  {
   "cell_type": "code",
   "execution_count": 2,
   "metadata": {
    "ExecuteTime": {
     "end_time": "2016-04-16T17:26:55.200757",
     "start_time": "2016-04-16T17:26:55.196502"
    },
    "collapsed": false
   },
   "outputs": [
    {
     "name": "stdout",
     "output_type": "stream",
     "text": [
      "3.4.4 |Anaconda 2.3.0 (64-bit)| (default, Jan 11 2016, 13:54:01) \n",
      "[GCC 4.4.7 20120313 (Red Hat 4.4.7-1)]\n"
     ]
    }
   ],
   "source": [
    "print(sys.version)"
   ]
  }
 ],
 "metadata": {
  "kernelspec": {
   "display_name": "Python 3",
   "language": "python",
   "name": "python3"
  },
  "language_info": {
   "codemirror_mode": {
    "name": "ipython",
    "version": 3
   },
   "file_extension": ".py",
   "mimetype": "text/x-python",
   "name": "python",
   "nbconvert_exporter": "python",
   "pygments_lexer": "ipython3",
   "version": "3.4.4"
  }
 },
 "nbformat": 4,
 "nbformat_minor": 0
}
