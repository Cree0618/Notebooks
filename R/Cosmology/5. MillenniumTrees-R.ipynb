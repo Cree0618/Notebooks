{
 "cells": [
  {
   "cell_type": "markdown",
   "metadata": {},
   "source": [
    "# Query galaxy and halo trees and plot them ala Delucia & Blaizot (2007)"
   ]
  },
  {
   "cell_type": "code",
   "execution_count": null,
   "metadata": {
    "collapsed": false
   },
   "outputs": [],
   "source": [
    "library(SciServer)\n",
    "#source('CasJobs.r')\n",
    "#source('query_CAS.r')\n",
    "source('HandleTrees.r')"
   ]
  },
  {
   "cell_type": "code",
   "execution_count": null,
   "metadata": {
    "collapsed": false
   },
   "outputs": [],
   "source": [
    "sql=\"\n",
    "select  galaxyId, haloId \n",
    "  from mrscplanck1\n",
    " where snapnum=58 and stellarmass between 11 and 11.1 and type=0\"\n",
    "\n",
    "r=CasJobs.executeQuery(sql, context=\"Henriques2015a\")\n",
    "r[0:3,]"
   ]
  },
  {
   "cell_type": "code",
   "execution_count": null,
   "metadata": {
    "collapsed": false
   },
   "outputs": [],
   "source": [
    "#gt=galaxyTree(root=r$galaxyId[1],plot=TRUE)\n",
    "gt = galaxyTree(root=r$galaxyId[1], plot=TRUE)\n",
    "#gt"
   ]
  },
  {
   "cell_type": "code",
   "execution_count": null,
   "metadata": {
    "collapsed": false,
    "scrolled": false
   },
   "outputs": [],
   "source": [
    "ht=haloTree(root=r$haloId[1],plot=TRUE)\n",
    "#ht"
   ]
  }
 ],
 "metadata": {
  "kernelspec": {
   "display_name": "R",
   "language": "R",
   "name": "ir"
  },
  "language_info": {
   "codemirror_mode": "r",
   "file_extension": ".r",
   "mimetype": "text/x-r-source",
   "name": "R",
   "pygments_lexer": "r",
   "version": "3.3.0"
  }
 },
 "nbformat": 4,
 "nbformat_minor": 0
}
